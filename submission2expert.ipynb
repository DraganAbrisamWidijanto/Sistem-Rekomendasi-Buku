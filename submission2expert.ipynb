{
  "nbformat": 4,
  "nbformat_minor": 0,
  "metadata": {
    "colab": {
      "provenance": []
    },
    "kernelspec": {
      "name": "python3",
      "display_name": "Python 3"
    },
    "language_info": {
      "name": "python"
    }
  },
  "cells": [
    {
      "cell_type": "markdown",
      "source": [
        "Mengimport beberapa libtrary yang diubutuhkan"
      ],
      "metadata": {
        "id": "BGM6wmRxsTGN"
      }
    },
    {
      "cell_type": "code",
      "execution_count": 1,
      "metadata": {
        "id": "pesF2nutW_0o"
      },
      "outputs": [],
      "source": [
        "import numpy as np\n",
        "import pandas as pd\n",
        "from google.colab import drive\n",
        "import re\n",
        "from sklearn.feature_extraction.text import TfidfVectorizer\n",
        "from sklearn.metrics.pairwise import linear_kernel\n",
        "from scipy.sparse import csr_matrix\n",
        "from sklearn.metrics.pairwise import cosine_similarity\n",
        "import matplotlib.pyplot as plt\n",
        "import seaborn as sns\n",
        "from sklearn.neighbors import NearestNeighbors"
      ]
    },
    {
      "cell_type": "markdown",
      "source": [
        "Memuat dataset"
      ],
      "metadata": {
        "id": "lyQHuFazsmJE"
      }
    },
    {
      "cell_type": "code",
      "source": [
        "# Replace FILE_ID with the actual ID of your file from Google Drive link\n",
        "books_link = \"https://drive.google.com/uc?id=1_Y2UJgyHSa4cCqQHB-eg6ZVSjwl45Zbi&export=download\"\n",
        "ratings_link = \"https://drive.google.com/uc?id=1BvjPHW5SGd_koNFh_MpUhLQC8wEqcRar&export=download\"\n",
        "\n",
        "# Load CSV files from the corrected links\n",
        "books = pd.read_csv(books_link)\n",
        "ratings = pd.read_csv(ratings_link)"
      ],
      "metadata": {
        "id": "DK4rKSNLX89i"
      },
      "execution_count": 2,
      "outputs": []
    },
    {
      "cell_type": "markdown",
      "source": [
        "Menampilkan Informasi Dataset Buku"
      ],
      "metadata": {
        "id": "NEJAfandsrEU"
      }
    },
    {
      "cell_type": "code",
      "source": [
        "books.info()"
      ],
      "metadata": {
        "colab": {
          "base_uri": "https://localhost:8080/"
        },
        "id": "r7aDhUiaXR1L",
        "outputId": "a3735309-06a6-4ce2-e621-88b333f889c9"
      },
      "execution_count": 3,
      "outputs": [
        {
          "output_type": "stream",
          "name": "stdout",
          "text": [
            "<class 'pandas.core.frame.DataFrame'>\n",
            "RangeIndex: 10000 entries, 0 to 9999\n",
            "Data columns (total 23 columns):\n",
            " #   Column                     Non-Null Count  Dtype  \n",
            "---  ------                     --------------  -----  \n",
            " 0   id                         10000 non-null  int64  \n",
            " 1   book_id                    10000 non-null  int64  \n",
            " 2   best_book_id               10000 non-null  int64  \n",
            " 3   work_id                    10000 non-null  int64  \n",
            " 4   books_count                10000 non-null  int64  \n",
            " 5   isbn                       9300 non-null   object \n",
            " 6   isbn13                     9415 non-null   float64\n",
            " 7   authors                    10000 non-null  object \n",
            " 8   original_publication_year  9979 non-null   float64\n",
            " 9   original_title             9415 non-null   object \n",
            " 10  title                      10000 non-null  object \n",
            " 11  language_code              8916 non-null   object \n",
            " 12  average_rating             10000 non-null  float64\n",
            " 13  ratings_count              10000 non-null  int64  \n",
            " 14  work_ratings_count         10000 non-null  int64  \n",
            " 15  work_text_reviews_count    10000 non-null  int64  \n",
            " 16  ratings_1                  10000 non-null  int64  \n",
            " 17  ratings_2                  10000 non-null  int64  \n",
            " 18  ratings_3                  10000 non-null  int64  \n",
            " 19  ratings_4                  10000 non-null  int64  \n",
            " 20  ratings_5                  10000 non-null  int64  \n",
            " 21  image_url                  10000 non-null  object \n",
            " 22  small_image_url            10000 non-null  object \n",
            "dtypes: float64(3), int64(13), object(7)\n",
            "memory usage: 1.8+ MB\n"
          ]
        }
      ]
    },
    {
      "cell_type": "markdown",
      "source": [
        "Menampilkan Informasi Dataset ratings"
      ],
      "metadata": {
        "id": "rWNE6MosssIB"
      }
    },
    {
      "cell_type": "code",
      "source": [
        "ratings.info()"
      ],
      "metadata": {
        "colab": {
          "base_uri": "https://localhost:8080/"
        },
        "id": "FnaVkKwSYDSL",
        "outputId": "9bcade90-5275-48df-d503-837bcbe80988"
      },
      "execution_count": 4,
      "outputs": [
        {
          "output_type": "stream",
          "name": "stdout",
          "text": [
            "<class 'pandas.core.frame.DataFrame'>\n",
            "RangeIndex: 981756 entries, 0 to 981755\n",
            "Data columns (total 3 columns):\n",
            " #   Column   Non-Null Count   Dtype\n",
            "---  ------   --------------   -----\n",
            " 0   book_id  981756 non-null  int64\n",
            " 1   user_id  981756 non-null  int64\n",
            " 2   rating   981756 non-null  int64\n",
            "dtypes: int64(3)\n",
            "memory usage: 22.5 MB\n"
          ]
        }
      ]
    },
    {
      "cell_type": "markdown",
      "source": [
        "Menghitung Jumlah Unik dalam Dataset"
      ],
      "metadata": {
        "id": "UUSDouSTs2H1"
      }
    },
    {
      "cell_type": "code",
      "source": [
        "print('Jumlah book_id uniqe dalam books: ', len(books.book_id.unique()))\n",
        "print('Jumlah best_book_id uniqe dalam books: ', len(books.best_book_id.unique()))\n",
        "print('Jumlah book_id uniqe dalam ratings: ', len(ratings.book_id.unique()))\n",
        "print('Jumlah user_id uniqe dalam ratings: ', len(ratings.user_id.unique()))"
      ],
      "metadata": {
        "colab": {
          "base_uri": "https://localhost:8080/"
        },
        "id": "AEpeL0TTYE77",
        "outputId": "1ae41ef9-dc60-40df-904f-f004b58a6080"
      },
      "execution_count": 5,
      "outputs": [
        {
          "output_type": "stream",
          "name": "stdout",
          "text": [
            "Jumlah book_id uniqe dalam books:  10000\n",
            "Jumlah best_book_id uniqe dalam books:  10000\n",
            "Jumlah book_id uniqe dalam ratings:  10000\n",
            "Jumlah user_id uniqe dalam ratings:  53424\n"
          ]
        }
      ]
    },
    {
      "cell_type": "markdown",
      "source": [
        "### Insight dari Jumlah Unik dalam Dataset\n",
        "\n",
        "1. **Jumlah Unik `book_id`**: Terdapat 10.000 `book_id` yang unik dalam dataset buku dan rating. Ini menunjukkan bahwa setiap buku memiliki identifikasi yang jelas dan terpisah, yang penting untuk analisis lebih lanjut, seperti rekomendasi buku.\n",
        "\n",
        "2. **Jumlah Unik `best_book_id`**: Semua 10.000 `best_book_id` juga unik, menandakan bahwa setiap buku dalam dataset dianggap sebagai buku terbaik, sesuai dengan kategorisasi yang ada. Hal ini dapat memberikan gambaran tentang keberagaman pilihan buku yang tersedia.\n",
        "\n",
        "3. **Jumlah Unik `user_id`**: Dengan 53.424 `user_id` yang unik dalam dataset rating, ini menunjukkan bahwa ada banyak pengguna yang berinteraksi dengan buku-buku dalam dataset. Tingginya jumlah pengguna dapat memberikan peluang untuk analisis perilaku pembaca dan rekomendasi yang lebih personal.\n",
        "\n",
        "4. **Kesimpulan**: Dataset ini menyediakan cakupan yang baik baik dari segi jumlah buku maupun interaksi pengguna, memungkinkan analisis yang mendalam tentang preferensi pembaca dan potensi sistem rekomendasi yang lebih efektif.\n"
      ],
      "metadata": {
        "id": "h3PbYW2Ss84r"
      }
    },
    {
      "cell_type": "markdown",
      "source": [
        "### Menampilkan Informasi Dataset Secara Terstruktur\n",
        "\n",
        "Fungsi `display_info_with_break` digunakan untuk menampilkan informasi tentang dataset `books` dan `ratings` secara terstruktur. Dengan mencetak nama dataset dan informasi strukturnya, kita dapat lebih mudah memahami karakteristik dan isi masing-masing DataFrame. Selanjutnya, kita akan menjalankan fungsi ini untuk melihat informasi dari kedua dataset tersebut.\n"
      ],
      "metadata": {
        "id": "zPrjVJZ-tYYG"
      }
    },
    {
      "cell_type": "code",
      "source": [
        "def display_info_with_break(dataset_names, *dfs):\n",
        "    for name, df in zip(dataset_names, dfs):\n",
        "        print(f\"Ini merupakan dataset: {name}\")\n",
        "        df.info()\n",
        "        print(\"\\n\" + \"-\" * 60 + \"\\n\")\n",
        "\n",
        "# Nama dataset yang akan digunakan\n",
        "dataset_names = [\"books.csv\", \"ratings.csv\"]\n",
        "\n",
        "# Menjalankan fungsi untuk tiap DataFrame\n",
        "display_info_with_break(dataset_names, books, ratings)"
      ],
      "metadata": {
        "colab": {
          "base_uri": "https://localhost:8080/"
        },
        "id": "yW852Or_YHPU",
        "outputId": "631ab444-24e6-427f-8ed4-c1fc7df689c2"
      },
      "execution_count": 6,
      "outputs": [
        {
          "output_type": "stream",
          "name": "stdout",
          "text": [
            "Ini merupakan dataset: books.csv\n",
            "<class 'pandas.core.frame.DataFrame'>\n",
            "RangeIndex: 10000 entries, 0 to 9999\n",
            "Data columns (total 23 columns):\n",
            " #   Column                     Non-Null Count  Dtype  \n",
            "---  ------                     --------------  -----  \n",
            " 0   id                         10000 non-null  int64  \n",
            " 1   book_id                    10000 non-null  int64  \n",
            " 2   best_book_id               10000 non-null  int64  \n",
            " 3   work_id                    10000 non-null  int64  \n",
            " 4   books_count                10000 non-null  int64  \n",
            " 5   isbn                       9300 non-null   object \n",
            " 6   isbn13                     9415 non-null   float64\n",
            " 7   authors                    10000 non-null  object \n",
            " 8   original_publication_year  9979 non-null   float64\n",
            " 9   original_title             9415 non-null   object \n",
            " 10  title                      10000 non-null  object \n",
            " 11  language_code              8916 non-null   object \n",
            " 12  average_rating             10000 non-null  float64\n",
            " 13  ratings_count              10000 non-null  int64  \n",
            " 14  work_ratings_count         10000 non-null  int64  \n",
            " 15  work_text_reviews_count    10000 non-null  int64  \n",
            " 16  ratings_1                  10000 non-null  int64  \n",
            " 17  ratings_2                  10000 non-null  int64  \n",
            " 18  ratings_3                  10000 non-null  int64  \n",
            " 19  ratings_4                  10000 non-null  int64  \n",
            " 20  ratings_5                  10000 non-null  int64  \n",
            " 21  image_url                  10000 non-null  object \n",
            " 22  small_image_url            10000 non-null  object \n",
            "dtypes: float64(3), int64(13), object(7)\n",
            "memory usage: 1.8+ MB\n",
            "\n",
            "------------------------------------------------------------\n",
            "\n",
            "Ini merupakan dataset: ratings.csv\n",
            "<class 'pandas.core.frame.DataFrame'>\n",
            "RangeIndex: 981756 entries, 0 to 981755\n",
            "Data columns (total 3 columns):\n",
            " #   Column   Non-Null Count   Dtype\n",
            "---  ------   --------------   -----\n",
            " 0   book_id  981756 non-null  int64\n",
            " 1   user_id  981756 non-null  int64\n",
            " 2   rating   981756 non-null  int64\n",
            "dtypes: int64(3)\n",
            "memory usage: 22.5 MB\n",
            "\n",
            "------------------------------------------------------------\n",
            "\n"
          ]
        }
      ]
    },
    {
      "cell_type": "markdown",
      "source": [
        "### Pemeriksaan Kualitas Dataset\n",
        "\n",
        "Dalam bagian ini, kita mendefinisikan beberapa fungsi untuk memeriksa kualitas dataset `books` dan `ratings`:\n",
        "\n",
        "1. **Pemeriksaan Missing Values**: Fungsi `check_missing_values` digunakan untuk mengidentifikasi jumlah nilai yang hilang dalam setiap kolom dari dataset.\n",
        "\n",
        "2. **Pemeriksaan Duplikat**: Fungsi `check_duplicates` digunakan untuk menghitung jumlah entri duplikat dalam dataset, yang penting untuk memastikan integritas data.\n",
        "\n",
        "3. **Tipe Data**: Fungsi `check_data_types` digunakan untuk memeriksa tipe data setiap kolom dalam dataset, membantu kita memahami format data yang tersedia.\n",
        "\n",
        "Dengan melakukan pemeriksaan ini, kita dapat memastikan bahwa data yang akan dianalisis bersih dan dalam format yang sesuai.\n"
      ],
      "metadata": {
        "id": "gctDxD6gteLL"
      }
    },
    {
      "cell_type": "code",
      "source": [
        "# Menyimpan nama dataset untuk referensi\n",
        "dataset_names = [\"books\", \"ratings\"]\n",
        "\n",
        "# 1. Pemeriksaan Missing Values\n",
        "def check_missing_values(dfs, names):\n",
        "    for name, df in zip(names, dfs):\n",
        "        print(f\"\\nMissing values in {name}:\")\n",
        "        print(df.isnull().sum())\n",
        "\n",
        "# 2. Pemeriksaan Duplikat\n",
        "def check_duplicates(dfs, names):\n",
        "    for name, df in zip(names, dfs):\n",
        "        print(f\"\\nNumber of duplicates in {name}: {df.duplicated().sum()}\")\n",
        "\n",
        "# 3. Tipe Data\n",
        "def check_data_types(dfs, names):\n",
        "    for name, df in zip(names, dfs):\n",
        "        print(f\"\\nData types in {name}:\")\n",
        "        print(df.dtypes)"
      ],
      "metadata": {
        "id": "_azuoNJBYJyj"
      },
      "execution_count": 7,
      "outputs": []
    },
    {
      "cell_type": "markdown",
      "source": [
        "Mengecek duplikat"
      ],
      "metadata": {
        "id": "sLtnrOLYtgyj"
      }
    },
    {
      "cell_type": "code",
      "source": [
        "check_duplicates([books, ratings], dataset_names)"
      ],
      "metadata": {
        "colab": {
          "base_uri": "https://localhost:8080/"
        },
        "id": "4lvM4OlJYKbJ",
        "outputId": "6a9013b3-e891-47dd-af6c-82f80b8ae4e6"
      },
      "execution_count": 8,
      "outputs": [
        {
          "output_type": "stream",
          "name": "stdout",
          "text": [
            "\n",
            "Number of duplicates in books: 0\n",
            "\n",
            "Number of duplicates in ratings: 1644\n"
          ]
        }
      ]
    },
    {
      "cell_type": "markdown",
      "source": [
        "### Hasil Pemeriksaan Duplikat\n",
        "\n",
        "Setelah menjalankan pemeriksaan duplikat pada dataset:\n",
        "\n",
        "- **Buku**: Tidak ada entri duplikat dalam dataset `books`, yang menunjukkan bahwa setiap buku memiliki identifikasi unik dan tidak ada pengulangan data.\n",
        "\n",
        "- **Rating**: Terdapat 1.644 entri duplikat dalam dataset `ratings`. Hal ini mengindikasikan bahwa beberapa pengguna mungkin memberikan rating yang sama untuk buku yang sama lebih dari sekali. Kita perlu mempertimbangkan cara menangani duplikat ini, apakah akan dihapus atau dianalisis lebih lanjut, tergantung pada konteks analisis yang akan dilakukan.\n"
      ],
      "metadata": {
        "id": "YCigJhx3tmuD"
      }
    },
    {
      "cell_type": "markdown",
      "source": [
        "karena masih penasaran aku cek lagi dengan pendekatan berbeda, yaitu berdasarkan kombinasi user_id dan book_id"
      ],
      "metadata": {
        "id": "xC6TdCKDtzge"
      }
    },
    {
      "cell_type": "code",
      "source": [
        "# Memeriksa duplikat di ratings berdasarkan user_id dan book_id\n",
        "def check_duplicates_in_ratings(df):\n",
        "    # Menghitung duplikat berdasarkan kombinasi user_id dan book_id\n",
        "    duplicate_count = df.duplicated(subset=['user_id', 'book_id']).sum()\n",
        "    return duplicate_count\n",
        "\n",
        "# Menggunakan fungsi untuk mendapatkan jumlah duplikat\n",
        "ratings_duplicates = check_duplicates_in_ratings(ratings)\n",
        "print(f\"\\nNumber of duplicates in ratings based on user_id and book_id: {ratings_duplicates}\")\n"
      ],
      "metadata": {
        "colab": {
          "base_uri": "https://localhost:8080/"
        },
        "id": "kTHZFnRaYMlI",
        "outputId": "35e214cd-47b2-4754-98f5-0d3102f27c26"
      },
      "execution_count": 9,
      "outputs": [
        {
          "output_type": "stream",
          "name": "stdout",
          "text": [
            "\n",
            "Number of duplicates in ratings based on user_id and book_id: 2278\n"
          ]
        }
      ]
    },
    {
      "cell_type": "markdown",
      "source": [
        "### Hasil Pemeriksaan Duplikat dengan Pendekatan Berbeda\n",
        "\n",
        "Setelah memeriksa duplikat dalam dataset `ratings` berdasarkan kombinasi `user_id` dan `book_id`, ditemukan:\n",
        "\n",
        "- **Jumlah Duplikat**: Terdapat 2.278 entri duplikat. Ini berarti ada beberapa pengguna yang memberikan rating yang sama untuk buku yang sama lebih dari sekali.\n",
        "\n",
        "Hal ini menyoroti pentingnya memperhatikan konteks ketika menganalisis data rating, karena duplikat dapat mempengaruhi hasil analisis dan rekomendasi. Kita perlu mempertimbangkan cara yang tepat untuk menangani duplikat ini dalam analisis lebih lanjut, baik dengan menghapusnya atau menggunakan pendekatan agregasi untuk mendapatkan informasi yang lebih relevan.\n"
      ],
      "metadata": {
        "id": "tqv7TpA-t4Qy"
      }
    },
    {
      "cell_type": "markdown",
      "source": [
        "Sekarang kita akan Menghapus duplikasi dan mempertahankan rating yang kedua"
      ],
      "metadata": {
        "id": "j7vGyxBct_ke"
      }
    },
    {
      "cell_type": "code",
      "source": [
        "ratings_cleaned = ratings.drop_duplicates(subset=['user_id', 'book_id'], keep='last')"
      ],
      "metadata": {
        "id": "Acu-SIYzYNan"
      },
      "execution_count": 10,
      "outputs": []
    },
    {
      "cell_type": "code",
      "source": [
        "check_duplicates([books, ratings_cleaned], dataset_names)"
      ],
      "metadata": {
        "colab": {
          "base_uri": "https://localhost:8080/"
        },
        "id": "ses528KDYOxw",
        "outputId": "783675b7-093f-4e4b-c67f-61f4ed8b7f0c"
      },
      "execution_count": 11,
      "outputs": [
        {
          "output_type": "stream",
          "name": "stdout",
          "text": [
            "\n",
            "Number of duplicates in books: 0\n",
            "\n",
            "Number of duplicates in ratings: 0\n"
          ]
        }
      ]
    },
    {
      "cell_type": "markdown",
      "source": [
        "### Hasil Pemeriksaan Duplikat Setelah Pembersihan\n",
        "\n",
        "Setelah melakukan pembersihan pada dataset `ratings` dengan menghapus duplikasi, hasil pemeriksaan duplikat menunjukkan:\n",
        "\n",
        "- **Buku**: Masih tidak ada entri duplikat dalam dataset `books`, yang menegaskan bahwa setiap buku memiliki identifikasi unik.\n",
        "\n",
        "- **Rating**: Sekarang tidak ada entri duplikat dalam dataset `ratings_cleaned`. Hal ini menunjukkan bahwa semua kombinasi `user_id` dan `book_id` telah dihapus dari duplikasi, sehingga data rating kini lebih bersih dan siap untuk analisis lebih lanjut.\n",
        "\n",
        "Dengan tidak adanya duplikat, kita dapat melakukan analisis yang lebih akurat dan efektif terhadap data rating dan rekomendasi buku.\n"
      ],
      "metadata": {
        "id": "gJm75DvSuIKz"
      }
    },
    {
      "cell_type": "markdown",
      "source": [
        "Tahap selanjutnya kita akan mengecek missing value"
      ],
      "metadata": {
        "id": "_UwxM-NJuP9R"
      }
    },
    {
      "cell_type": "code",
      "source": [
        "check_missing_values([books, ratings_cleaned], dataset_names)"
      ],
      "metadata": {
        "colab": {
          "base_uri": "https://localhost:8080/"
        },
        "id": "rx-tiuyOYQuy",
        "outputId": "c9e135c0-35d4-4d2c-a138-410bf1cc9bc4"
      },
      "execution_count": 12,
      "outputs": [
        {
          "output_type": "stream",
          "name": "stdout",
          "text": [
            "\n",
            "Missing values in books:\n",
            "id                              0\n",
            "book_id                         0\n",
            "best_book_id                    0\n",
            "work_id                         0\n",
            "books_count                     0\n",
            "isbn                          700\n",
            "isbn13                        585\n",
            "authors                         0\n",
            "original_publication_year      21\n",
            "original_title                585\n",
            "title                           0\n",
            "language_code                1084\n",
            "average_rating                  0\n",
            "ratings_count                   0\n",
            "work_ratings_count              0\n",
            "work_text_reviews_count         0\n",
            "ratings_1                       0\n",
            "ratings_2                       0\n",
            "ratings_3                       0\n",
            "ratings_4                       0\n",
            "ratings_5                       0\n",
            "image_url                       0\n",
            "small_image_url                 0\n",
            "dtype: int64\n",
            "\n",
            "Missing values in ratings:\n",
            "book_id    0\n",
            "user_id    0\n",
            "rating     0\n",
            "dtype: int64\n"
          ]
        }
      ]
    },
    {
      "cell_type": "markdown",
      "source": [
        "### Hasil Pemeriksaan Missing Values\n",
        "\n",
        "Setelah melakukan pemeriksaan nilai yang hilang dalam dataset:\n",
        "\n",
        "- **Books**: Dataset `books` memiliki beberapa kolom dengan nilai yang hilang:\n",
        "  - **isbn**: 700 entri hilang\n",
        "  - **isbn13**: 585 entri hilang\n",
        "  - **original_publication_year**: 21 entri hilang\n",
        "  - **original_title**: 585 entri hilang\n",
        "  - **language_code**: 1084 entri hilang\n",
        "\n",
        "  Ini menunjukkan bahwa ada data yang tidak lengkap pada kolom-kolom ini, yang dapat mempengaruhi analisis dan rekomendasi.\n",
        "\n",
        "- **Ratings**: Dataset `ratings_cleaned` tidak memiliki nilai yang hilang. Semua kolom (`book_id`, `user_id`, dan `rating`) terisi lengkap, yang menunjukkan bahwa data rating sudah bersih dan siap untuk analisis lebih lanjut.\n",
        "\n",
        "Mengingat adanya nilai yang hilang dalam dataset `books`, kita perlu mempertimbangkan strategi untuk menangani data hilang ini, apakah dengan penghapusan, imputasi, atau metode lain agar analisis tetap valid.\n"
      ],
      "metadata": {
        "id": "mM1aHe6quVal"
      }
    },
    {
      "cell_type": "markdown",
      "source": [
        "### Penanganan Missing Values dalam Dataset Books"
      ],
      "metadata": {
        "id": "ukAW7knIuhx8"
      }
    },
    {
      "cell_type": "code",
      "source": [
        "# Menghapus kolom yang dianggap tidak penting\n",
        "books.drop(columns=['isbn', 'isbn13', 'original_title'], inplace=True)\n",
        "\n",
        "# Mengisi missing values untuk 'original_publication_year' dengan median\n",
        "books['original_publication_year'].fillna(books['original_publication_year'].median(), inplace=True)\n",
        "\n",
        "# Mengisi missing values untuk 'language_code' dengan mode\n",
        "books['language_code'].fillna(books['language_code'].mode()[0], inplace=True)\n",
        "\n",
        "print(\"Missing values telah ditangani.\")"
      ],
      "metadata": {
        "colab": {
          "base_uri": "https://localhost:8080/"
        },
        "id": "2xR8cvXFYSGw",
        "outputId": "57621ffa-3645-4b6b-f88b-b367ac63c4fa"
      },
      "execution_count": 13,
      "outputs": [
        {
          "output_type": "stream",
          "name": "stdout",
          "text": [
            "Missing values telah ditangani.\n"
          ]
        },
        {
          "output_type": "stream",
          "name": "stderr",
          "text": [
            "<ipython-input-13-e2bd8770a609>:5: FutureWarning: A value is trying to be set on a copy of a DataFrame or Series through chained assignment using an inplace method.\n",
            "The behavior will change in pandas 3.0. This inplace method will never work because the intermediate object on which we are setting values always behaves as a copy.\n",
            "\n",
            "For example, when doing 'df[col].method(value, inplace=True)', try using 'df.method({col: value}, inplace=True)' or df[col] = df[col].method(value) instead, to perform the operation inplace on the original object.\n",
            "\n",
            "\n",
            "  books['original_publication_year'].fillna(books['original_publication_year'].median(), inplace=True)\n",
            "<ipython-input-13-e2bd8770a609>:8: FutureWarning: A value is trying to be set on a copy of a DataFrame or Series through chained assignment using an inplace method.\n",
            "The behavior will change in pandas 3.0. This inplace method will never work because the intermediate object on which we are setting values always behaves as a copy.\n",
            "\n",
            "For example, when doing 'df[col].method(value, inplace=True)', try using 'df.method({col: value}, inplace=True)' or df[col] = df[col].method(value) instead, to perform the operation inplace on the original object.\n",
            "\n",
            "\n",
            "  books['language_code'].fillna(books['language_code'].mode()[0], inplace=True)\n"
          ]
        }
      ]
    },
    {
      "cell_type": "markdown",
      "source": [
        "Dalam langkah ini, kita melakukan beberapa tindakan untuk menangani nilai yang hilang dalam dataset `books`:\n",
        "\n",
        "1. **Penghapusan Kolom**:\n",
        "   - Kolom yang dianggap tidak penting, yaitu `isbn`, `isbn13`, dan `original_title`, telah dihapus dari dataset. Penghapusan kolom ini bertujuan untuk menyederhanakan analisis dan mengurangi kompleksitas data.\n",
        "\n",
        "2. **Imputasi Nilai Hilang**:\n",
        "   - **`original_publication_year`**: Nilai yang hilang diisi dengan median dari kolom ini. Menggunakan median adalah pilihan yang baik untuk menghindari pengaruh dari outlier.\n",
        "   - **`language_code`**: Nilai yang hilang diisi dengan mode (nilai yang paling sering muncul) dari kolom ini. Ini membantu memastikan bahwa data tetap representatif berdasarkan nilai yang umum.\n",
        "\n",
        "Dengan langkah-langkah ini, kita telah menangani nilai yang hilang dalam dataset `books`, sehingga data siap untuk analisis lebih lanjut.\n",
        "\n",
        "**Status**: \"Missing values telah ditangani.\""
      ],
      "metadata": {
        "id": "LE8BaPdQuk1q"
      }
    },
    {
      "cell_type": "markdown",
      "source": [
        "Kita mengecek lagi apakah missing value berhasil di tangani"
      ],
      "metadata": {
        "id": "ZVcU_L8zurv7"
      }
    },
    {
      "cell_type": "code",
      "source": [
        "check_missing_values([books, ratings_cleaned], dataset_names)"
      ],
      "metadata": {
        "colab": {
          "base_uri": "https://localhost:8080/"
        },
        "id": "lrZsxuq4YUdW",
        "outputId": "814480f6-9a6b-43a9-8f9f-555181ff3e15"
      },
      "execution_count": 14,
      "outputs": [
        {
          "output_type": "stream",
          "name": "stdout",
          "text": [
            "\n",
            "Missing values in books:\n",
            "id                           0\n",
            "book_id                      0\n",
            "best_book_id                 0\n",
            "work_id                      0\n",
            "books_count                  0\n",
            "authors                      0\n",
            "original_publication_year    0\n",
            "title                        0\n",
            "language_code                0\n",
            "average_rating               0\n",
            "ratings_count                0\n",
            "work_ratings_count           0\n",
            "work_text_reviews_count      0\n",
            "ratings_1                    0\n",
            "ratings_2                    0\n",
            "ratings_3                    0\n",
            "ratings_4                    0\n",
            "ratings_5                    0\n",
            "image_url                    0\n",
            "small_image_url              0\n",
            "dtype: int64\n",
            "\n",
            "Missing values in ratings:\n",
            "book_id    0\n",
            "user_id    0\n",
            "rating     0\n",
            "dtype: int64\n"
          ]
        }
      ]
    },
    {
      "cell_type": "markdown",
      "source": [
        "### Hasil Pemeriksaan Missing Values Setelah Penanganan\n",
        "\n",
        "Setelah melakukan penanganan nilai yang hilang dalam dataset `books`, kita melakukan pemeriksaan ulang terhadap nilai yang hilang:\n",
        "\n",
        "- **Books**: Setelah penanganan, tidak ada lagi nilai yang hilang dalam dataset `books`. Semua kolom kini terisi lengkap, termasuk kolom yang sebelumnya memiliki nilai yang hilang:\n",
        "  - **`original_publication_year`**: Kini sudah terisi dengan median.\n",
        "  - **`language_code`**: Sudah terisi dengan mode.\n",
        "\n",
        "- **Ratings**: Dataset `ratings_cleaned` juga tidak memiliki nilai yang hilang. Semua kolom (`book_id`, `user_id`, dan `rating`) terisi lengkap.\n",
        "\n",
        "Dengan demikian, langkah-langkah yang diambil untuk menangani nilai yang hilang berhasil, dan kedua dataset kini siap untuk analisis lebih lanjut.\n"
      ],
      "metadata": {
        "id": "GUsP76CYu01O"
      }
    },
    {
      "cell_type": "markdown",
      "source": [
        "### Pemilihan Kolom Penting dari Dataset Books\n",
        "\n",
        "Dalam langkah ini, kita melakukan pemilihan kolom-kolom penting dari dataset `books` untuk digunakan dalam analisis selanjutnya."
      ],
      "metadata": {
        "id": "tDDA6KO5w0Q8"
      }
    },
    {
      "cell_type": "code",
      "source": [
        "# Menentukan kolom yang ingin disimpan dari books\n",
        "columns_to_keep = ['book_id', 'authors', 'original_publication_year', 'title', 'language_code', 'average_rating']\n",
        "\n",
        "# Mengambil kolom yang diinginkan dari books\n",
        "cleaned_books = books[columns_to_keep]"
      ],
      "metadata": {
        "id": "QBmsExOjYWaY"
      },
      "execution_count": 15,
      "outputs": []
    },
    {
      "cell_type": "markdown",
      "source": [
        "Dengan hanya menyimpan kolom-kolom yang relevan, dataset `cleaned_books` menjadi lebih fokus dan lebih mudah untuk dianalisis tanpa menyertakan data yang tidak diperlukan."
      ],
      "metadata": {
        "id": "PYYaXahvw19R"
      }
    },
    {
      "cell_type": "markdown",
      "source": [
        "### Penggabungan Dataset Ratings dan Books\n",
        "\n",
        "Pada langkah ini, kita menggabungkan dataset `ratings_cleaned` dengan dataset `cleaned_books` berdasarkan kolom `book_id`. Penggabungan ini dilakukan dengan menggunakan metode **left join**, yang memastikan semua entri dari `ratings_cleaned` disertakan, sementara hanya kolom yang cocok dari `cleaned_books` yang ditambahkan."
      ],
      "metadata": {
        "id": "HABr6ClXxEAC"
      }
    },
    {
      "cell_type": "code",
      "source": [
        "# Menggabungkan ratings_cleaned dengan cleaned_books\n",
        "merged_df = pd.merge(ratings_cleaned, cleaned_books, on='book_id', how='left')"
      ],
      "metadata": {
        "id": "XvmXJR16YXjp"
      },
      "execution_count": 16,
      "outputs": []
    },
    {
      "cell_type": "markdown",
      "source": [
        "Hasil dari penggabungan ini adalah `merged_df`, yang kini berisi informasi tentang rating buku serta atribut penting dari buku seperti penulis, tahun publikasi, judul, kode bahasa, dan rata-rata rating. Dengan cara ini, kita dapat melakukan analisis lebih lanjut yang mengaitkan data rating dengan informasi buku.\n"
      ],
      "metadata": {
        "id": "IxeDa4d2xIWp"
      }
    },
    {
      "cell_type": "markdown",
      "source": [
        "### Memeriksa Nilai NaN Setelah Penggabungan\n",
        "\n",
        "Setelah menggabungkan dataset `ratings_cleaned` dengan `cleaned_books`, langkah selanjutnya adalah memeriksa apakah terdapat nilai NaN (missing values) dalam dataset gabungan `merged_df`. Hal ini penting untuk memastikan bahwa tidak ada informasi penting yang hilang setelah proses penggabungan.\n",
        "\n",
        "Dengan memeriksa nilai NaN, kita dapat mengidentifikasi kolom mana yang mungkin masih memiliki data yang hilang, sehingga langkah penanganan missing values dapat dilakukan jika diperlukan. Proses ini penting untuk menjaga kualitas dan integritas data sebelum melanjutkan analisis lebih lanjut.\n"
      ],
      "metadata": {
        "id": "vlh6I_Y2xKVT"
      }
    },
    {
      "cell_type": "code",
      "source": [
        "merged_df"
      ],
      "metadata": {
        "colab": {
          "base_uri": "https://localhost:8080/",
          "height": 423
        },
        "id": "PycPjgtbYZDE",
        "outputId": "b9e31eaa-09e4-4126-9e79-ba0a80f230de"
      },
      "execution_count": 17,
      "outputs": [
        {
          "output_type": "execute_result",
          "data": {
            "text/plain": [
              "        book_id  user_id  rating                      authors  \\\n",
              "0             1      314       5  J.K. Rowling, Mary GrandPré   \n",
              "1             1      439       3  J.K. Rowling, Mary GrandPré   \n",
              "2             1      588       5  J.K. Rowling, Mary GrandPré   \n",
              "3             1     1169       4  J.K. Rowling, Mary GrandPré   \n",
              "4             1     1185       4  J.K. Rowling, Mary GrandPré   \n",
              "...         ...      ...     ...                          ...   \n",
              "979473    10000    48386       5                          NaN   \n",
              "979474    10000    49007       4                          NaN   \n",
              "979475    10000    49383       5                          NaN   \n",
              "979476    10000    50124       5                          NaN   \n",
              "979477    10000    51328       1                          NaN   \n",
              "\n",
              "        original_publication_year  \\\n",
              "0                          2005.0   \n",
              "1                          2005.0   \n",
              "2                          2005.0   \n",
              "3                          2005.0   \n",
              "4                          2005.0   \n",
              "...                           ...   \n",
              "979473                        NaN   \n",
              "979474                        NaN   \n",
              "979475                        NaN   \n",
              "979476                        NaN   \n",
              "979477                        NaN   \n",
              "\n",
              "                                                    title language_code  \\\n",
              "0       Harry Potter and the Half-Blood Prince (Harry ...           eng   \n",
              "1       Harry Potter and the Half-Blood Prince (Harry ...           eng   \n",
              "2       Harry Potter and the Half-Blood Prince (Harry ...           eng   \n",
              "3       Harry Potter and the Half-Blood Prince (Harry ...           eng   \n",
              "4       Harry Potter and the Half-Blood Prince (Harry ...           eng   \n",
              "...                                                   ...           ...   \n",
              "979473                                                NaN           NaN   \n",
              "979474                                                NaN           NaN   \n",
              "979475                                                NaN           NaN   \n",
              "979476                                                NaN           NaN   \n",
              "979477                                                NaN           NaN   \n",
              "\n",
              "        average_rating  \n",
              "0                 4.54  \n",
              "1                 4.54  \n",
              "2                 4.54  \n",
              "3                 4.54  \n",
              "4                 4.54  \n",
              "...                ...  \n",
              "979473             NaN  \n",
              "979474             NaN  \n",
              "979475             NaN  \n",
              "979476             NaN  \n",
              "979477             NaN  \n",
              "\n",
              "[979478 rows x 8 columns]"
            ],
            "text/html": [
              "\n",
              "  <div id=\"df-98e0e73c-b912-4879-8f45-104c97cf3035\" class=\"colab-df-container\">\n",
              "    <div>\n",
              "<style scoped>\n",
              "    .dataframe tbody tr th:only-of-type {\n",
              "        vertical-align: middle;\n",
              "    }\n",
              "\n",
              "    .dataframe tbody tr th {\n",
              "        vertical-align: top;\n",
              "    }\n",
              "\n",
              "    .dataframe thead th {\n",
              "        text-align: right;\n",
              "    }\n",
              "</style>\n",
              "<table border=\"1\" class=\"dataframe\">\n",
              "  <thead>\n",
              "    <tr style=\"text-align: right;\">\n",
              "      <th></th>\n",
              "      <th>book_id</th>\n",
              "      <th>user_id</th>\n",
              "      <th>rating</th>\n",
              "      <th>authors</th>\n",
              "      <th>original_publication_year</th>\n",
              "      <th>title</th>\n",
              "      <th>language_code</th>\n",
              "      <th>average_rating</th>\n",
              "    </tr>\n",
              "  </thead>\n",
              "  <tbody>\n",
              "    <tr>\n",
              "      <th>0</th>\n",
              "      <td>1</td>\n",
              "      <td>314</td>\n",
              "      <td>5</td>\n",
              "      <td>J.K. Rowling, Mary GrandPré</td>\n",
              "      <td>2005.0</td>\n",
              "      <td>Harry Potter and the Half-Blood Prince (Harry ...</td>\n",
              "      <td>eng</td>\n",
              "      <td>4.54</td>\n",
              "    </tr>\n",
              "    <tr>\n",
              "      <th>1</th>\n",
              "      <td>1</td>\n",
              "      <td>439</td>\n",
              "      <td>3</td>\n",
              "      <td>J.K. Rowling, Mary GrandPré</td>\n",
              "      <td>2005.0</td>\n",
              "      <td>Harry Potter and the Half-Blood Prince (Harry ...</td>\n",
              "      <td>eng</td>\n",
              "      <td>4.54</td>\n",
              "    </tr>\n",
              "    <tr>\n",
              "      <th>2</th>\n",
              "      <td>1</td>\n",
              "      <td>588</td>\n",
              "      <td>5</td>\n",
              "      <td>J.K. Rowling, Mary GrandPré</td>\n",
              "      <td>2005.0</td>\n",
              "      <td>Harry Potter and the Half-Blood Prince (Harry ...</td>\n",
              "      <td>eng</td>\n",
              "      <td>4.54</td>\n",
              "    </tr>\n",
              "    <tr>\n",
              "      <th>3</th>\n",
              "      <td>1</td>\n",
              "      <td>1169</td>\n",
              "      <td>4</td>\n",
              "      <td>J.K. Rowling, Mary GrandPré</td>\n",
              "      <td>2005.0</td>\n",
              "      <td>Harry Potter and the Half-Blood Prince (Harry ...</td>\n",
              "      <td>eng</td>\n",
              "      <td>4.54</td>\n",
              "    </tr>\n",
              "    <tr>\n",
              "      <th>4</th>\n",
              "      <td>1</td>\n",
              "      <td>1185</td>\n",
              "      <td>4</td>\n",
              "      <td>J.K. Rowling, Mary GrandPré</td>\n",
              "      <td>2005.0</td>\n",
              "      <td>Harry Potter and the Half-Blood Prince (Harry ...</td>\n",
              "      <td>eng</td>\n",
              "      <td>4.54</td>\n",
              "    </tr>\n",
              "    <tr>\n",
              "      <th>...</th>\n",
              "      <td>...</td>\n",
              "      <td>...</td>\n",
              "      <td>...</td>\n",
              "      <td>...</td>\n",
              "      <td>...</td>\n",
              "      <td>...</td>\n",
              "      <td>...</td>\n",
              "      <td>...</td>\n",
              "    </tr>\n",
              "    <tr>\n",
              "      <th>979473</th>\n",
              "      <td>10000</td>\n",
              "      <td>48386</td>\n",
              "      <td>5</td>\n",
              "      <td>NaN</td>\n",
              "      <td>NaN</td>\n",
              "      <td>NaN</td>\n",
              "      <td>NaN</td>\n",
              "      <td>NaN</td>\n",
              "    </tr>\n",
              "    <tr>\n",
              "      <th>979474</th>\n",
              "      <td>10000</td>\n",
              "      <td>49007</td>\n",
              "      <td>4</td>\n",
              "      <td>NaN</td>\n",
              "      <td>NaN</td>\n",
              "      <td>NaN</td>\n",
              "      <td>NaN</td>\n",
              "      <td>NaN</td>\n",
              "    </tr>\n",
              "    <tr>\n",
              "      <th>979475</th>\n",
              "      <td>10000</td>\n",
              "      <td>49383</td>\n",
              "      <td>5</td>\n",
              "      <td>NaN</td>\n",
              "      <td>NaN</td>\n",
              "      <td>NaN</td>\n",
              "      <td>NaN</td>\n",
              "      <td>NaN</td>\n",
              "    </tr>\n",
              "    <tr>\n",
              "      <th>979476</th>\n",
              "      <td>10000</td>\n",
              "      <td>50124</td>\n",
              "      <td>5</td>\n",
              "      <td>NaN</td>\n",
              "      <td>NaN</td>\n",
              "      <td>NaN</td>\n",
              "      <td>NaN</td>\n",
              "      <td>NaN</td>\n",
              "    </tr>\n",
              "    <tr>\n",
              "      <th>979477</th>\n",
              "      <td>10000</td>\n",
              "      <td>51328</td>\n",
              "      <td>1</td>\n",
              "      <td>NaN</td>\n",
              "      <td>NaN</td>\n",
              "      <td>NaN</td>\n",
              "      <td>NaN</td>\n",
              "      <td>NaN</td>\n",
              "    </tr>\n",
              "  </tbody>\n",
              "</table>\n",
              "<p>979478 rows × 8 columns</p>\n",
              "</div>\n",
              "    <div class=\"colab-df-buttons\">\n",
              "\n",
              "  <div class=\"colab-df-container\">\n",
              "    <button class=\"colab-df-convert\" onclick=\"convertToInteractive('df-98e0e73c-b912-4879-8f45-104c97cf3035')\"\n",
              "            title=\"Convert this dataframe to an interactive table.\"\n",
              "            style=\"display:none;\">\n",
              "\n",
              "  <svg xmlns=\"http://www.w3.org/2000/svg\" height=\"24px\" viewBox=\"0 -960 960 960\">\n",
              "    <path d=\"M120-120v-720h720v720H120Zm60-500h600v-160H180v160Zm220 220h160v-160H400v160Zm0 220h160v-160H400v160ZM180-400h160v-160H180v160Zm440 0h160v-160H620v160ZM180-180h160v-160H180v160Zm440 0h160v-160H620v160Z\"/>\n",
              "  </svg>\n",
              "    </button>\n",
              "\n",
              "  <style>\n",
              "    .colab-df-container {\n",
              "      display:flex;\n",
              "      gap: 12px;\n",
              "    }\n",
              "\n",
              "    .colab-df-convert {\n",
              "      background-color: #E8F0FE;\n",
              "      border: none;\n",
              "      border-radius: 50%;\n",
              "      cursor: pointer;\n",
              "      display: none;\n",
              "      fill: #1967D2;\n",
              "      height: 32px;\n",
              "      padding: 0 0 0 0;\n",
              "      width: 32px;\n",
              "    }\n",
              "\n",
              "    .colab-df-convert:hover {\n",
              "      background-color: #E2EBFA;\n",
              "      box-shadow: 0px 1px 2px rgba(60, 64, 67, 0.3), 0px 1px 3px 1px rgba(60, 64, 67, 0.15);\n",
              "      fill: #174EA6;\n",
              "    }\n",
              "\n",
              "    .colab-df-buttons div {\n",
              "      margin-bottom: 4px;\n",
              "    }\n",
              "\n",
              "    [theme=dark] .colab-df-convert {\n",
              "      background-color: #3B4455;\n",
              "      fill: #D2E3FC;\n",
              "    }\n",
              "\n",
              "    [theme=dark] .colab-df-convert:hover {\n",
              "      background-color: #434B5C;\n",
              "      box-shadow: 0px 1px 3px 1px rgba(0, 0, 0, 0.15);\n",
              "      filter: drop-shadow(0px 1px 2px rgba(0, 0, 0, 0.3));\n",
              "      fill: #FFFFFF;\n",
              "    }\n",
              "  </style>\n",
              "\n",
              "    <script>\n",
              "      const buttonEl =\n",
              "        document.querySelector('#df-98e0e73c-b912-4879-8f45-104c97cf3035 button.colab-df-convert');\n",
              "      buttonEl.style.display =\n",
              "        google.colab.kernel.accessAllowed ? 'block' : 'none';\n",
              "\n",
              "      async function convertToInteractive(key) {\n",
              "        const element = document.querySelector('#df-98e0e73c-b912-4879-8f45-104c97cf3035');\n",
              "        const dataTable =\n",
              "          await google.colab.kernel.invokeFunction('convertToInteractive',\n",
              "                                                    [key], {});\n",
              "        if (!dataTable) return;\n",
              "\n",
              "        const docLinkHtml = 'Like what you see? Visit the ' +\n",
              "          '<a target=\"_blank\" href=https://colab.research.google.com/notebooks/data_table.ipynb>data table notebook</a>'\n",
              "          + ' to learn more about interactive tables.';\n",
              "        element.innerHTML = '';\n",
              "        dataTable['output_type'] = 'display_data';\n",
              "        await google.colab.output.renderOutput(dataTable, element);\n",
              "        const docLink = document.createElement('div');\n",
              "        docLink.innerHTML = docLinkHtml;\n",
              "        element.appendChild(docLink);\n",
              "      }\n",
              "    </script>\n",
              "  </div>\n",
              "\n",
              "\n",
              "<div id=\"df-95abdb63-f617-42ea-8d49-d5c725752822\">\n",
              "  <button class=\"colab-df-quickchart\" onclick=\"quickchart('df-95abdb63-f617-42ea-8d49-d5c725752822')\"\n",
              "            title=\"Suggest charts\"\n",
              "            style=\"display:none;\">\n",
              "\n",
              "<svg xmlns=\"http://www.w3.org/2000/svg\" height=\"24px\"viewBox=\"0 0 24 24\"\n",
              "     width=\"24px\">\n",
              "    <g>\n",
              "        <path d=\"M19 3H5c-1.1 0-2 .9-2 2v14c0 1.1.9 2 2 2h14c1.1 0 2-.9 2-2V5c0-1.1-.9-2-2-2zM9 17H7v-7h2v7zm4 0h-2V7h2v10zm4 0h-2v-4h2v4z\"/>\n",
              "    </g>\n",
              "</svg>\n",
              "  </button>\n",
              "\n",
              "<style>\n",
              "  .colab-df-quickchart {\n",
              "      --bg-color: #E8F0FE;\n",
              "      --fill-color: #1967D2;\n",
              "      --hover-bg-color: #E2EBFA;\n",
              "      --hover-fill-color: #174EA6;\n",
              "      --disabled-fill-color: #AAA;\n",
              "      --disabled-bg-color: #DDD;\n",
              "  }\n",
              "\n",
              "  [theme=dark] .colab-df-quickchart {\n",
              "      --bg-color: #3B4455;\n",
              "      --fill-color: #D2E3FC;\n",
              "      --hover-bg-color: #434B5C;\n",
              "      --hover-fill-color: #FFFFFF;\n",
              "      --disabled-bg-color: #3B4455;\n",
              "      --disabled-fill-color: #666;\n",
              "  }\n",
              "\n",
              "  .colab-df-quickchart {\n",
              "    background-color: var(--bg-color);\n",
              "    border: none;\n",
              "    border-radius: 50%;\n",
              "    cursor: pointer;\n",
              "    display: none;\n",
              "    fill: var(--fill-color);\n",
              "    height: 32px;\n",
              "    padding: 0;\n",
              "    width: 32px;\n",
              "  }\n",
              "\n",
              "  .colab-df-quickchart:hover {\n",
              "    background-color: var(--hover-bg-color);\n",
              "    box-shadow: 0 1px 2px rgba(60, 64, 67, 0.3), 0 1px 3px 1px rgba(60, 64, 67, 0.15);\n",
              "    fill: var(--button-hover-fill-color);\n",
              "  }\n",
              "\n",
              "  .colab-df-quickchart-complete:disabled,\n",
              "  .colab-df-quickchart-complete:disabled:hover {\n",
              "    background-color: var(--disabled-bg-color);\n",
              "    fill: var(--disabled-fill-color);\n",
              "    box-shadow: none;\n",
              "  }\n",
              "\n",
              "  .colab-df-spinner {\n",
              "    border: 2px solid var(--fill-color);\n",
              "    border-color: transparent;\n",
              "    border-bottom-color: var(--fill-color);\n",
              "    animation:\n",
              "      spin 1s steps(1) infinite;\n",
              "  }\n",
              "\n",
              "  @keyframes spin {\n",
              "    0% {\n",
              "      border-color: transparent;\n",
              "      border-bottom-color: var(--fill-color);\n",
              "      border-left-color: var(--fill-color);\n",
              "    }\n",
              "    20% {\n",
              "      border-color: transparent;\n",
              "      border-left-color: var(--fill-color);\n",
              "      border-top-color: var(--fill-color);\n",
              "    }\n",
              "    30% {\n",
              "      border-color: transparent;\n",
              "      border-left-color: var(--fill-color);\n",
              "      border-top-color: var(--fill-color);\n",
              "      border-right-color: var(--fill-color);\n",
              "    }\n",
              "    40% {\n",
              "      border-color: transparent;\n",
              "      border-right-color: var(--fill-color);\n",
              "      border-top-color: var(--fill-color);\n",
              "    }\n",
              "    60% {\n",
              "      border-color: transparent;\n",
              "      border-right-color: var(--fill-color);\n",
              "    }\n",
              "    80% {\n",
              "      border-color: transparent;\n",
              "      border-right-color: var(--fill-color);\n",
              "      border-bottom-color: var(--fill-color);\n",
              "    }\n",
              "    90% {\n",
              "      border-color: transparent;\n",
              "      border-bottom-color: var(--fill-color);\n",
              "    }\n",
              "  }\n",
              "</style>\n",
              "\n",
              "  <script>\n",
              "    async function quickchart(key) {\n",
              "      const quickchartButtonEl =\n",
              "        document.querySelector('#' + key + ' button');\n",
              "      quickchartButtonEl.disabled = true;  // To prevent multiple clicks.\n",
              "      quickchartButtonEl.classList.add('colab-df-spinner');\n",
              "      try {\n",
              "        const charts = await google.colab.kernel.invokeFunction(\n",
              "            'suggestCharts', [key], {});\n",
              "      } catch (error) {\n",
              "        console.error('Error during call to suggestCharts:', error);\n",
              "      }\n",
              "      quickchartButtonEl.classList.remove('colab-df-spinner');\n",
              "      quickchartButtonEl.classList.add('colab-df-quickchart-complete');\n",
              "    }\n",
              "    (() => {\n",
              "      let quickchartButtonEl =\n",
              "        document.querySelector('#df-95abdb63-f617-42ea-8d49-d5c725752822 button');\n",
              "      quickchartButtonEl.style.display =\n",
              "        google.colab.kernel.accessAllowed ? 'block' : 'none';\n",
              "    })();\n",
              "  </script>\n",
              "</div>\n",
              "\n",
              "  <div id=\"id_062955b1-91a6-4a05-bbab-be0c29bd1d8d\">\n",
              "    <style>\n",
              "      .colab-df-generate {\n",
              "        background-color: #E8F0FE;\n",
              "        border: none;\n",
              "        border-radius: 50%;\n",
              "        cursor: pointer;\n",
              "        display: none;\n",
              "        fill: #1967D2;\n",
              "        height: 32px;\n",
              "        padding: 0 0 0 0;\n",
              "        width: 32px;\n",
              "      }\n",
              "\n",
              "      .colab-df-generate:hover {\n",
              "        background-color: #E2EBFA;\n",
              "        box-shadow: 0px 1px 2px rgba(60, 64, 67, 0.3), 0px 1px 3px 1px rgba(60, 64, 67, 0.15);\n",
              "        fill: #174EA6;\n",
              "      }\n",
              "\n",
              "      [theme=dark] .colab-df-generate {\n",
              "        background-color: #3B4455;\n",
              "        fill: #D2E3FC;\n",
              "      }\n",
              "\n",
              "      [theme=dark] .colab-df-generate:hover {\n",
              "        background-color: #434B5C;\n",
              "        box-shadow: 0px 1px 3px 1px rgba(0, 0, 0, 0.15);\n",
              "        filter: drop-shadow(0px 1px 2px rgba(0, 0, 0, 0.3));\n",
              "        fill: #FFFFFF;\n",
              "      }\n",
              "    </style>\n",
              "    <button class=\"colab-df-generate\" onclick=\"generateWithVariable('merged_df')\"\n",
              "            title=\"Generate code using this dataframe.\"\n",
              "            style=\"display:none;\">\n",
              "\n",
              "  <svg xmlns=\"http://www.w3.org/2000/svg\" height=\"24px\"viewBox=\"0 0 24 24\"\n",
              "       width=\"24px\">\n",
              "    <path d=\"M7,19H8.4L18.45,9,17,7.55,7,17.6ZM5,21V16.75L18.45,3.32a2,2,0,0,1,2.83,0l1.4,1.43a1.91,1.91,0,0,1,.58,1.4,1.91,1.91,0,0,1-.58,1.4L9.25,21ZM18.45,9,17,7.55Zm-12,3A5.31,5.31,0,0,0,4.9,8.1,5.31,5.31,0,0,0,1,6.5,5.31,5.31,0,0,0,4.9,4.9,5.31,5.31,0,0,0,6.5,1,5.31,5.31,0,0,0,8.1,4.9,5.31,5.31,0,0,0,12,6.5,5.46,5.46,0,0,0,6.5,12Z\"/>\n",
              "  </svg>\n",
              "    </button>\n",
              "    <script>\n",
              "      (() => {\n",
              "      const buttonEl =\n",
              "        document.querySelector('#id_062955b1-91a6-4a05-bbab-be0c29bd1d8d button.colab-df-generate');\n",
              "      buttonEl.style.display =\n",
              "        google.colab.kernel.accessAllowed ? 'block' : 'none';\n",
              "\n",
              "      buttonEl.onclick = () => {\n",
              "        google.colab.notebook.generateWithVariable('merged_df');\n",
              "      }\n",
              "      })();\n",
              "    </script>\n",
              "  </div>\n",
              "\n",
              "    </div>\n",
              "  </div>\n"
            ],
            "application/vnd.google.colaboratory.intrinsic+json": {
              "type": "dataframe",
              "variable_name": "merged_df"
            }
          },
          "metadata": {},
          "execution_count": 17
        }
      ]
    },
    {
      "cell_type": "markdown",
      "source": [
        "### Mencari book_id yang Hilang\n",
        "\n",
        "Pada langkah ini, kita mencari `book_id` yang terdapat dalam dataset `ratings_cleaned` namun tidak ada dalam dataset `cleaned_books`. Hal ini dilakukan dengan menggunakan operasi set untuk membandingkan kedua kolom `book_id`.\n",
        "\n",
        "Hasil dari operasi ini akan memberikan kita jumlah `book_id` yang hilang. Informasi ini penting untuk memahami apakah ada rating yang mengacu pada buku yang tidak terdaftar dalam dataset buku, yang dapat mempengaruhi analisis lebih lanjut. Jika jumlah `book_id` yang hilang signifikan, kita mungkin perlu mempertimbangkan langkah-langkah tambahan untuk menangani data tersebut.\n"
      ],
      "metadata": {
        "id": "m3O_hRDHxUZc"
      }
    },
    {
      "cell_type": "code",
      "source": [
        "# Menemukan book_id yang ada di ratings_cleaned tapi tidak ada di cleaned_books\n",
        "missing_books = set(ratings_cleaned['book_id']) - set(cleaned_books['book_id'])\n",
        "\n",
        "print(\"Jumlah book_id yang hilang:\", len(missing_books))\n"
      ],
      "metadata": {
        "colab": {
          "base_uri": "https://localhost:8080/"
        },
        "id": "uo4ng9Z5YZcb",
        "outputId": "b50f4573-f0b9-46f8-a40c-0a9f3661adb6"
      },
      "execution_count": 18,
      "outputs": [
        {
          "output_type": "stream",
          "name": "stdout",
          "text": [
            "Jumlah book_id yang hilang: 9188\n"
          ]
        }
      ]
    },
    {
      "cell_type": "markdown",
      "source": [
        "Hasil dari analisis ini menunjukkan bahwa terdapat **9188 `book_id` yang hilang** dari dataset buku. Ini menandakan bahwa meskipun kita memiliki banyak data rating, banyak di antaranya tidak terhubung dengan informasi buku yang relevan. Mengetahui jumlah `book_id` yang hilang penting untuk memahami cakupan data yang kita miliki dan dapat mempengaruhi analisis serta rekomendasi yang akan dilakukan."
      ],
      "metadata": {
        "id": "2jXi0jEWxdGU"
      }
    },
    {
      "cell_type": "markdown",
      "source": [
        "### Memeriksa Jumlah Baris dan Beberapa book_id dari Dataset Buku\n",
        "\n",
        "Dalam langkah ini, kita memeriksa jumlah total baris dalam dataset `books`, yang menunjukkan bahwa terdapat **10.000 entri buku**. Ini memberi kita gambaran tentang ukuran dataset dan jumlah buku yang tersedia untuk analisis."
      ],
      "metadata": {
        "id": "-mXL3GJvxx97"
      }
    },
    {
      "cell_type": "code",
      "source": [
        "print(\"Jumlah baris dalam books:\", books.shape[0])\n",
        "print(\"Beberapa book_id dari books:\", books['book_id'].unique()[:10])\n"
      ],
      "metadata": {
        "colab": {
          "base_uri": "https://localhost:8080/"
        },
        "id": "WVZfcz5NYbCm",
        "outputId": "e4a10c34-1be2-4031-de93-d6cfab86ba43"
      },
      "execution_count": 19,
      "outputs": [
        {
          "output_type": "stream",
          "name": "stdout",
          "text": [
            "Jumlah baris dalam books: 10000\n",
            "Beberapa book_id dari books: [ 2767052        3    41865     2657     4671 11870085     5907     5107\n",
            "      960     1885]\n"
          ]
        }
      ]
    },
    {
      "cell_type": "markdown",
      "source": [
        "\n",
        "Selain itu, kita juga menampilkan beberapa `book_id` unik dari dataset ini. Dari hasil yang ditampilkan, kita dapat melihat contoh `book_id` seperti 2767052, 3, 41865, dan seterusnya. Informasi ini berguna untuk memahami struktur data dan membantu dalam analisis lebih lanjut."
      ],
      "metadata": {
        "id": "9QPb1FG4x2hm"
      }
    },
    {
      "cell_type": "markdown",
      "source": [
        "### Memeriksa Duplikat dan Jumlah Unik book_id\n",
        "\n",
        "Pada langkah ini, kita melakukan pemeriksaan terhadap kolom `book_id` dalam dataset `books` untuk memastikan bahwa tidak ada duplikat. Hasil menunjukkan bahwa **tidak ada duplikat book_id** dalam dataset, yang berarti setiap buku memiliki identifikasi yang unik.\n",
        "\n",
        "Selanjutnya, kita juga menghitung jumlah `book_id` unik, yang menunjukkan bahwa ada **10.000 unique book_id** di dalam dataset. Informasi ini penting untuk memastikan integritas data dan mencegah adanya kesalahan dalam analisis yang dapat disebabkan oleh duplikasi.\n"
      ],
      "metadata": {
        "id": "eRcQgv43x77V"
      }
    },
    {
      "cell_type": "code",
      "source": [
        "print(\"Duplikat book_id di books:\", books['book_id'].duplicated().sum())\n",
        "print(\"Jumlah unique book_id di books:\", books['book_id'].nunique())"
      ],
      "metadata": {
        "colab": {
          "base_uri": "https://localhost:8080/"
        },
        "id": "HzsIskjdYdNF",
        "outputId": "8cd95e54-ec40-4e51-f77e-2fef44076b67"
      },
      "execution_count": 20,
      "outputs": [
        {
          "output_type": "stream",
          "name": "stdout",
          "text": [
            "Duplikat book_id di books: 0\n",
            "Jumlah unique book_id di books: 10000\n"
          ]
        }
      ]
    },
    {
      "cell_type": "markdown",
      "source": [
        "### Menampilkan Contoh book_id yang Hilang\n",
        "\n",
        "Setelah kita menemukan bahwa ada **9188 book_id yang hilang** dari dataset `cleaned_books`, kita membuat daftar dari `book_id` yang hilang dan menampilkan beberapa contoh. Hasil menunjukkan contoh book_id yang hilang sebagai berikut:\n",
        "\n"
      ],
      "metadata": {
        "id": "uh77WXnsyDP0"
      }
    },
    {
      "cell_type": "code",
      "source": [
        "missing_books_list = list(missing_books)\n",
        "print(\"Contoh book_id yang hilang:\", missing_books_list[:10])\n"
      ],
      "metadata": {
        "colab": {
          "base_uri": "https://localhost:8080/"
        },
        "id": "8w_QRz7bYeVw",
        "outputId": "15511f0b-0760-4046-bedf-2803386d61d8"
      },
      "execution_count": 21,
      "outputs": [
        {
          "output_type": "stream",
          "name": "stdout",
          "text": [
            "Contoh book_id yang hilang: [4, 7, 9, 12, 14, 15, 16, 17, 18, 19]\n"
          ]
        }
      ]
    },
    {
      "cell_type": "markdown",
      "source": [
        "- **Contoh book_id yang hilang:** `[4, 7, 9, 12, 14, 15, 16, 17, 18, 19]`\n",
        "\n",
        "Informasi ini membantu kita untuk memahami buku-buku yang terdapat dalam dataset `ratings_cleaned` tetapi tidak ada dalam dataset `cleaned_books`. Hal ini bisa menjadi perhatian lebih lanjut untuk menginvestigasi mengapa buku-buku ini tidak terdaftar dan apakah itu mempengaruhi analisis yang akan dilakukan."
      ],
      "metadata": {
        "id": "jUuqqRaryGQi"
      }
    },
    {
      "cell_type": "markdown",
      "source": [
        "### Menampilkan Contoh book_id dari ratings_cleaned\n",
        "\n",
        "Kita juga ingin melihat contoh `book_id` yang terdapat dalam dataset `ratings_cleaned`. Berikut adalah contoh yang diperoleh:"
      ],
      "metadata": {
        "id": "3-BWwxMgyeHO"
      }
    },
    {
      "cell_type": "code",
      "source": [
        "print(\"Contoh book_id dari ratings_cleaned:\", ratings_cleaned['book_id'].unique()[:10])"
      ],
      "metadata": {
        "colab": {
          "base_uri": "https://localhost:8080/"
        },
        "id": "4LrrOwoeYgFU",
        "outputId": "da2ed19a-eb2b-4002-efbe-e3889bf16f89"
      },
      "execution_count": 22,
      "outputs": [
        {
          "output_type": "stream",
          "name": "stdout",
          "text": [
            "Contoh book_id dari ratings_cleaned: [ 1  2  3  4  5  6  7  8  9 10]\n"
          ]
        }
      ]
    },
    {
      "cell_type": "markdown",
      "source": [
        "- **Contoh book_id dari ratings_cleaned:** `[1, 2, 3, 4, 5, 6, 7, 8, 9, 10]`\n",
        "\n",
        "Ini menunjukkan bahwa dataset `ratings_cleaned` memiliki `book_id` yang bervariasi mulai dari 1 hingga 10. Mengetahui book_id ini penting untuk memahami buku mana yang paling sering dinilai dan apakah ada kecocokan dengan dataset `cleaned_books`.\n"
      ],
      "metadata": {
        "id": "kLzgYpboygy4"
      }
    },
    {
      "cell_type": "markdown",
      "source": [
        "### Menyaring ratings_cleaned untuk book_id yang Tersedia di cleaned_books\n",
        "\n",
        "Kita menyaring dataset `ratings_cleaned` untuk hanya mengambil baris yang memiliki `book_id` yang ada di `cleaned_books`. Ini dilakukan dengan menggunakan fungsi `.isin()` untuk memastikan kita hanya mempertahankan data yang relevan:"
      ],
      "metadata": {
        "id": "4bCQ0vhiyl0F"
      }
    },
    {
      "cell_type": "code",
      "source": [
        "# Hanya ambil yang ada di cleaned_books\n",
        "ratings_cleaned_filtered = ratings_cleaned[ratings_cleaned['book_id'].isin(cleaned_books['book_id'])]"
      ],
      "metadata": {
        "id": "JzBrgie6YgxN"
      },
      "execution_count": 23,
      "outputs": []
    },
    {
      "cell_type": "markdown",
      "source": [
        "Menggabungkan DataFrame yang Telah Difilter"
      ],
      "metadata": {
        "id": "KSXWm_lfyqsJ"
      }
    },
    {
      "cell_type": "code",
      "source": [
        "# Menggabungkan setelah filtering\n",
        "merged_df = pd.merge(ratings_cleaned_filtered, cleaned_books, on='book_id', how='left')"
      ],
      "metadata": {
        "id": "EQBFW-_mYi5H"
      },
      "execution_count": 24,
      "outputs": []
    },
    {
      "cell_type": "code",
      "source": [
        "merged_df.info()"
      ],
      "metadata": {
        "colab": {
          "base_uri": "https://localhost:8080/"
        },
        "id": "gFsl6EaRYkh4",
        "outputId": "d8786785-daec-4038-aae8-c9e2f570b0ec"
      },
      "execution_count": 25,
      "outputs": [
        {
          "output_type": "stream",
          "name": "stdout",
          "text": [
            "<class 'pandas.core.frame.DataFrame'>\n",
            "RangeIndex: 79531 entries, 0 to 79530\n",
            "Data columns (total 8 columns):\n",
            " #   Column                     Non-Null Count  Dtype  \n",
            "---  ------                     --------------  -----  \n",
            " 0   book_id                    79531 non-null  int64  \n",
            " 1   user_id                    79531 non-null  int64  \n",
            " 2   rating                     79531 non-null  int64  \n",
            " 3   authors                    79531 non-null  object \n",
            " 4   original_publication_year  79531 non-null  float64\n",
            " 5   title                      79531 non-null  object \n",
            " 6   language_code              79531 non-null  object \n",
            " 7   average_rating             79531 non-null  float64\n",
            "dtypes: float64(2), int64(3), object(3)\n",
            "memory usage: 4.9+ MB\n"
          ]
        }
      ]
    },
    {
      "cell_type": "markdown",
      "source": [
        "dari output yang Anda tunjukkan untuk merged_df.info(), dapat diketahui bahwa tidak ada nilai NaN (null) di setiap kolom. Hal ini terlihat dari kolom Non-Null Count yang menunjukkan bahwa semua kolom memiliki 79,531 entri non-null. Dengan kata lain, semua kolom dalam DataFrame ini memiliki nilai yang valid dan tidak ada yang kosong."
      ],
      "metadata": {
        "id": "Z3p8hkA6y8Mf"
      }
    },
    {
      "cell_type": "code",
      "source": [
        "merged_df"
      ],
      "metadata": {
        "colab": {
          "base_uri": "https://localhost:8080/",
          "height": 423
        },
        "id": "CK1Qw7ooYmMM",
        "outputId": "7352e251-f805-481d-92fd-f4fd5d29dd9f"
      },
      "execution_count": 26,
      "outputs": [
        {
          "output_type": "execute_result",
          "data": {
            "text/plain": [
              "       book_id  user_id  rating                      authors  \\\n",
              "0            1      314       5  J.K. Rowling, Mary GrandPré   \n",
              "1            1      439       3  J.K. Rowling, Mary GrandPré   \n",
              "2            1      588       5  J.K. Rowling, Mary GrandPré   \n",
              "3            1     1169       4  J.K. Rowling, Mary GrandPré   \n",
              "4            1     1185       4  J.K. Rowling, Mary GrandPré   \n",
              "...        ...      ...     ...                          ...   \n",
              "79526     9998    51295       5   Kōbō Abe, E. Dale Saunders   \n",
              "79527     9998    51559       5   Kōbō Abe, E. Dale Saunders   \n",
              "79528     9998    52087       4   Kōbō Abe, E. Dale Saunders   \n",
              "79529     9998    52330       4   Kōbō Abe, E. Dale Saunders   \n",
              "79530     9998    53249       5   Kōbō Abe, E. Dale Saunders   \n",
              "\n",
              "       original_publication_year  \\\n",
              "0                         2005.0   \n",
              "1                         2005.0   \n",
              "2                         2005.0   \n",
              "3                         2005.0   \n",
              "4                         2005.0   \n",
              "...                          ...   \n",
              "79526                     1962.0   \n",
              "79527                     1962.0   \n",
              "79528                     1962.0   \n",
              "79529                     1962.0   \n",
              "79530                     1962.0   \n",
              "\n",
              "                                                   title language_code  \\\n",
              "0      Harry Potter and the Half-Blood Prince (Harry ...           eng   \n",
              "1      Harry Potter and the Half-Blood Prince (Harry ...           eng   \n",
              "2      Harry Potter and the Half-Blood Prince (Harry ...           eng   \n",
              "3      Harry Potter and the Half-Blood Prince (Harry ...           eng   \n",
              "4      Harry Potter and the Half-Blood Prince (Harry ...           eng   \n",
              "...                                                  ...           ...   \n",
              "79526                             The Woman in the Dunes           eng   \n",
              "79527                             The Woman in the Dunes           eng   \n",
              "79528                             The Woman in the Dunes           eng   \n",
              "79529                             The Woman in the Dunes           eng   \n",
              "79530                             The Woman in the Dunes           eng   \n",
              "\n",
              "       average_rating  \n",
              "0                4.54  \n",
              "1                4.54  \n",
              "2                4.54  \n",
              "3                4.54  \n",
              "4                4.54  \n",
              "...               ...  \n",
              "79526            3.91  \n",
              "79527            3.91  \n",
              "79528            3.91  \n",
              "79529            3.91  \n",
              "79530            3.91  \n",
              "\n",
              "[79531 rows x 8 columns]"
            ],
            "text/html": [
              "\n",
              "  <div id=\"df-8e3ca844-7d96-46e9-a381-3bc3b3271e21\" class=\"colab-df-container\">\n",
              "    <div>\n",
              "<style scoped>\n",
              "    .dataframe tbody tr th:only-of-type {\n",
              "        vertical-align: middle;\n",
              "    }\n",
              "\n",
              "    .dataframe tbody tr th {\n",
              "        vertical-align: top;\n",
              "    }\n",
              "\n",
              "    .dataframe thead th {\n",
              "        text-align: right;\n",
              "    }\n",
              "</style>\n",
              "<table border=\"1\" class=\"dataframe\">\n",
              "  <thead>\n",
              "    <tr style=\"text-align: right;\">\n",
              "      <th></th>\n",
              "      <th>book_id</th>\n",
              "      <th>user_id</th>\n",
              "      <th>rating</th>\n",
              "      <th>authors</th>\n",
              "      <th>original_publication_year</th>\n",
              "      <th>title</th>\n",
              "      <th>language_code</th>\n",
              "      <th>average_rating</th>\n",
              "    </tr>\n",
              "  </thead>\n",
              "  <tbody>\n",
              "    <tr>\n",
              "      <th>0</th>\n",
              "      <td>1</td>\n",
              "      <td>314</td>\n",
              "      <td>5</td>\n",
              "      <td>J.K. Rowling, Mary GrandPré</td>\n",
              "      <td>2005.0</td>\n",
              "      <td>Harry Potter and the Half-Blood Prince (Harry ...</td>\n",
              "      <td>eng</td>\n",
              "      <td>4.54</td>\n",
              "    </tr>\n",
              "    <tr>\n",
              "      <th>1</th>\n",
              "      <td>1</td>\n",
              "      <td>439</td>\n",
              "      <td>3</td>\n",
              "      <td>J.K. Rowling, Mary GrandPré</td>\n",
              "      <td>2005.0</td>\n",
              "      <td>Harry Potter and the Half-Blood Prince (Harry ...</td>\n",
              "      <td>eng</td>\n",
              "      <td>4.54</td>\n",
              "    </tr>\n",
              "    <tr>\n",
              "      <th>2</th>\n",
              "      <td>1</td>\n",
              "      <td>588</td>\n",
              "      <td>5</td>\n",
              "      <td>J.K. Rowling, Mary GrandPré</td>\n",
              "      <td>2005.0</td>\n",
              "      <td>Harry Potter and the Half-Blood Prince (Harry ...</td>\n",
              "      <td>eng</td>\n",
              "      <td>4.54</td>\n",
              "    </tr>\n",
              "    <tr>\n",
              "      <th>3</th>\n",
              "      <td>1</td>\n",
              "      <td>1169</td>\n",
              "      <td>4</td>\n",
              "      <td>J.K. Rowling, Mary GrandPré</td>\n",
              "      <td>2005.0</td>\n",
              "      <td>Harry Potter and the Half-Blood Prince (Harry ...</td>\n",
              "      <td>eng</td>\n",
              "      <td>4.54</td>\n",
              "    </tr>\n",
              "    <tr>\n",
              "      <th>4</th>\n",
              "      <td>1</td>\n",
              "      <td>1185</td>\n",
              "      <td>4</td>\n",
              "      <td>J.K. Rowling, Mary GrandPré</td>\n",
              "      <td>2005.0</td>\n",
              "      <td>Harry Potter and the Half-Blood Prince (Harry ...</td>\n",
              "      <td>eng</td>\n",
              "      <td>4.54</td>\n",
              "    </tr>\n",
              "    <tr>\n",
              "      <th>...</th>\n",
              "      <td>...</td>\n",
              "      <td>...</td>\n",
              "      <td>...</td>\n",
              "      <td>...</td>\n",
              "      <td>...</td>\n",
              "      <td>...</td>\n",
              "      <td>...</td>\n",
              "      <td>...</td>\n",
              "    </tr>\n",
              "    <tr>\n",
              "      <th>79526</th>\n",
              "      <td>9998</td>\n",
              "      <td>51295</td>\n",
              "      <td>5</td>\n",
              "      <td>Kōbō Abe, E. Dale Saunders</td>\n",
              "      <td>1962.0</td>\n",
              "      <td>The Woman in the Dunes</td>\n",
              "      <td>eng</td>\n",
              "      <td>3.91</td>\n",
              "    </tr>\n",
              "    <tr>\n",
              "      <th>79527</th>\n",
              "      <td>9998</td>\n",
              "      <td>51559</td>\n",
              "      <td>5</td>\n",
              "      <td>Kōbō Abe, E. Dale Saunders</td>\n",
              "      <td>1962.0</td>\n",
              "      <td>The Woman in the Dunes</td>\n",
              "      <td>eng</td>\n",
              "      <td>3.91</td>\n",
              "    </tr>\n",
              "    <tr>\n",
              "      <th>79528</th>\n",
              "      <td>9998</td>\n",
              "      <td>52087</td>\n",
              "      <td>4</td>\n",
              "      <td>Kōbō Abe, E. Dale Saunders</td>\n",
              "      <td>1962.0</td>\n",
              "      <td>The Woman in the Dunes</td>\n",
              "      <td>eng</td>\n",
              "      <td>3.91</td>\n",
              "    </tr>\n",
              "    <tr>\n",
              "      <th>79529</th>\n",
              "      <td>9998</td>\n",
              "      <td>52330</td>\n",
              "      <td>4</td>\n",
              "      <td>Kōbō Abe, E. Dale Saunders</td>\n",
              "      <td>1962.0</td>\n",
              "      <td>The Woman in the Dunes</td>\n",
              "      <td>eng</td>\n",
              "      <td>3.91</td>\n",
              "    </tr>\n",
              "    <tr>\n",
              "      <th>79530</th>\n",
              "      <td>9998</td>\n",
              "      <td>53249</td>\n",
              "      <td>5</td>\n",
              "      <td>Kōbō Abe, E. Dale Saunders</td>\n",
              "      <td>1962.0</td>\n",
              "      <td>The Woman in the Dunes</td>\n",
              "      <td>eng</td>\n",
              "      <td>3.91</td>\n",
              "    </tr>\n",
              "  </tbody>\n",
              "</table>\n",
              "<p>79531 rows × 8 columns</p>\n",
              "</div>\n",
              "    <div class=\"colab-df-buttons\">\n",
              "\n",
              "  <div class=\"colab-df-container\">\n",
              "    <button class=\"colab-df-convert\" onclick=\"convertToInteractive('df-8e3ca844-7d96-46e9-a381-3bc3b3271e21')\"\n",
              "            title=\"Convert this dataframe to an interactive table.\"\n",
              "            style=\"display:none;\">\n",
              "\n",
              "  <svg xmlns=\"http://www.w3.org/2000/svg\" height=\"24px\" viewBox=\"0 -960 960 960\">\n",
              "    <path d=\"M120-120v-720h720v720H120Zm60-500h600v-160H180v160Zm220 220h160v-160H400v160Zm0 220h160v-160H400v160ZM180-400h160v-160H180v160Zm440 0h160v-160H620v160ZM180-180h160v-160H180v160Zm440 0h160v-160H620v160Z\"/>\n",
              "  </svg>\n",
              "    </button>\n",
              "\n",
              "  <style>\n",
              "    .colab-df-container {\n",
              "      display:flex;\n",
              "      gap: 12px;\n",
              "    }\n",
              "\n",
              "    .colab-df-convert {\n",
              "      background-color: #E8F0FE;\n",
              "      border: none;\n",
              "      border-radius: 50%;\n",
              "      cursor: pointer;\n",
              "      display: none;\n",
              "      fill: #1967D2;\n",
              "      height: 32px;\n",
              "      padding: 0 0 0 0;\n",
              "      width: 32px;\n",
              "    }\n",
              "\n",
              "    .colab-df-convert:hover {\n",
              "      background-color: #E2EBFA;\n",
              "      box-shadow: 0px 1px 2px rgba(60, 64, 67, 0.3), 0px 1px 3px 1px rgba(60, 64, 67, 0.15);\n",
              "      fill: #174EA6;\n",
              "    }\n",
              "\n",
              "    .colab-df-buttons div {\n",
              "      margin-bottom: 4px;\n",
              "    }\n",
              "\n",
              "    [theme=dark] .colab-df-convert {\n",
              "      background-color: #3B4455;\n",
              "      fill: #D2E3FC;\n",
              "    }\n",
              "\n",
              "    [theme=dark] .colab-df-convert:hover {\n",
              "      background-color: #434B5C;\n",
              "      box-shadow: 0px 1px 3px 1px rgba(0, 0, 0, 0.15);\n",
              "      filter: drop-shadow(0px 1px 2px rgba(0, 0, 0, 0.3));\n",
              "      fill: #FFFFFF;\n",
              "    }\n",
              "  </style>\n",
              "\n",
              "    <script>\n",
              "      const buttonEl =\n",
              "        document.querySelector('#df-8e3ca844-7d96-46e9-a381-3bc3b3271e21 button.colab-df-convert');\n",
              "      buttonEl.style.display =\n",
              "        google.colab.kernel.accessAllowed ? 'block' : 'none';\n",
              "\n",
              "      async function convertToInteractive(key) {\n",
              "        const element = document.querySelector('#df-8e3ca844-7d96-46e9-a381-3bc3b3271e21');\n",
              "        const dataTable =\n",
              "          await google.colab.kernel.invokeFunction('convertToInteractive',\n",
              "                                                    [key], {});\n",
              "        if (!dataTable) return;\n",
              "\n",
              "        const docLinkHtml = 'Like what you see? Visit the ' +\n",
              "          '<a target=\"_blank\" href=https://colab.research.google.com/notebooks/data_table.ipynb>data table notebook</a>'\n",
              "          + ' to learn more about interactive tables.';\n",
              "        element.innerHTML = '';\n",
              "        dataTable['output_type'] = 'display_data';\n",
              "        await google.colab.output.renderOutput(dataTable, element);\n",
              "        const docLink = document.createElement('div');\n",
              "        docLink.innerHTML = docLinkHtml;\n",
              "        element.appendChild(docLink);\n",
              "      }\n",
              "    </script>\n",
              "  </div>\n",
              "\n",
              "\n",
              "<div id=\"df-34164b5d-6ad8-42a7-88d4-3dc8e063fe19\">\n",
              "  <button class=\"colab-df-quickchart\" onclick=\"quickchart('df-34164b5d-6ad8-42a7-88d4-3dc8e063fe19')\"\n",
              "            title=\"Suggest charts\"\n",
              "            style=\"display:none;\">\n",
              "\n",
              "<svg xmlns=\"http://www.w3.org/2000/svg\" height=\"24px\"viewBox=\"0 0 24 24\"\n",
              "     width=\"24px\">\n",
              "    <g>\n",
              "        <path d=\"M19 3H5c-1.1 0-2 .9-2 2v14c0 1.1.9 2 2 2h14c1.1 0 2-.9 2-2V5c0-1.1-.9-2-2-2zM9 17H7v-7h2v7zm4 0h-2V7h2v10zm4 0h-2v-4h2v4z\"/>\n",
              "    </g>\n",
              "</svg>\n",
              "  </button>\n",
              "\n",
              "<style>\n",
              "  .colab-df-quickchart {\n",
              "      --bg-color: #E8F0FE;\n",
              "      --fill-color: #1967D2;\n",
              "      --hover-bg-color: #E2EBFA;\n",
              "      --hover-fill-color: #174EA6;\n",
              "      --disabled-fill-color: #AAA;\n",
              "      --disabled-bg-color: #DDD;\n",
              "  }\n",
              "\n",
              "  [theme=dark] .colab-df-quickchart {\n",
              "      --bg-color: #3B4455;\n",
              "      --fill-color: #D2E3FC;\n",
              "      --hover-bg-color: #434B5C;\n",
              "      --hover-fill-color: #FFFFFF;\n",
              "      --disabled-bg-color: #3B4455;\n",
              "      --disabled-fill-color: #666;\n",
              "  }\n",
              "\n",
              "  .colab-df-quickchart {\n",
              "    background-color: var(--bg-color);\n",
              "    border: none;\n",
              "    border-radius: 50%;\n",
              "    cursor: pointer;\n",
              "    display: none;\n",
              "    fill: var(--fill-color);\n",
              "    height: 32px;\n",
              "    padding: 0;\n",
              "    width: 32px;\n",
              "  }\n",
              "\n",
              "  .colab-df-quickchart:hover {\n",
              "    background-color: var(--hover-bg-color);\n",
              "    box-shadow: 0 1px 2px rgba(60, 64, 67, 0.3), 0 1px 3px 1px rgba(60, 64, 67, 0.15);\n",
              "    fill: var(--button-hover-fill-color);\n",
              "  }\n",
              "\n",
              "  .colab-df-quickchart-complete:disabled,\n",
              "  .colab-df-quickchart-complete:disabled:hover {\n",
              "    background-color: var(--disabled-bg-color);\n",
              "    fill: var(--disabled-fill-color);\n",
              "    box-shadow: none;\n",
              "  }\n",
              "\n",
              "  .colab-df-spinner {\n",
              "    border: 2px solid var(--fill-color);\n",
              "    border-color: transparent;\n",
              "    border-bottom-color: var(--fill-color);\n",
              "    animation:\n",
              "      spin 1s steps(1) infinite;\n",
              "  }\n",
              "\n",
              "  @keyframes spin {\n",
              "    0% {\n",
              "      border-color: transparent;\n",
              "      border-bottom-color: var(--fill-color);\n",
              "      border-left-color: var(--fill-color);\n",
              "    }\n",
              "    20% {\n",
              "      border-color: transparent;\n",
              "      border-left-color: var(--fill-color);\n",
              "      border-top-color: var(--fill-color);\n",
              "    }\n",
              "    30% {\n",
              "      border-color: transparent;\n",
              "      border-left-color: var(--fill-color);\n",
              "      border-top-color: var(--fill-color);\n",
              "      border-right-color: var(--fill-color);\n",
              "    }\n",
              "    40% {\n",
              "      border-color: transparent;\n",
              "      border-right-color: var(--fill-color);\n",
              "      border-top-color: var(--fill-color);\n",
              "    }\n",
              "    60% {\n",
              "      border-color: transparent;\n",
              "      border-right-color: var(--fill-color);\n",
              "    }\n",
              "    80% {\n",
              "      border-color: transparent;\n",
              "      border-right-color: var(--fill-color);\n",
              "      border-bottom-color: var(--fill-color);\n",
              "    }\n",
              "    90% {\n",
              "      border-color: transparent;\n",
              "      border-bottom-color: var(--fill-color);\n",
              "    }\n",
              "  }\n",
              "</style>\n",
              "\n",
              "  <script>\n",
              "    async function quickchart(key) {\n",
              "      const quickchartButtonEl =\n",
              "        document.querySelector('#' + key + ' button');\n",
              "      quickchartButtonEl.disabled = true;  // To prevent multiple clicks.\n",
              "      quickchartButtonEl.classList.add('colab-df-spinner');\n",
              "      try {\n",
              "        const charts = await google.colab.kernel.invokeFunction(\n",
              "            'suggestCharts', [key], {});\n",
              "      } catch (error) {\n",
              "        console.error('Error during call to suggestCharts:', error);\n",
              "      }\n",
              "      quickchartButtonEl.classList.remove('colab-df-spinner');\n",
              "      quickchartButtonEl.classList.add('colab-df-quickchart-complete');\n",
              "    }\n",
              "    (() => {\n",
              "      let quickchartButtonEl =\n",
              "        document.querySelector('#df-34164b5d-6ad8-42a7-88d4-3dc8e063fe19 button');\n",
              "      quickchartButtonEl.style.display =\n",
              "        google.colab.kernel.accessAllowed ? 'block' : 'none';\n",
              "    })();\n",
              "  </script>\n",
              "</div>\n",
              "\n",
              "  <div id=\"id_584bbbad-de72-45d5-8a8b-0131a8986e02\">\n",
              "    <style>\n",
              "      .colab-df-generate {\n",
              "        background-color: #E8F0FE;\n",
              "        border: none;\n",
              "        border-radius: 50%;\n",
              "        cursor: pointer;\n",
              "        display: none;\n",
              "        fill: #1967D2;\n",
              "        height: 32px;\n",
              "        padding: 0 0 0 0;\n",
              "        width: 32px;\n",
              "      }\n",
              "\n",
              "      .colab-df-generate:hover {\n",
              "        background-color: #E2EBFA;\n",
              "        box-shadow: 0px 1px 2px rgba(60, 64, 67, 0.3), 0px 1px 3px 1px rgba(60, 64, 67, 0.15);\n",
              "        fill: #174EA6;\n",
              "      }\n",
              "\n",
              "      [theme=dark] .colab-df-generate {\n",
              "        background-color: #3B4455;\n",
              "        fill: #D2E3FC;\n",
              "      }\n",
              "\n",
              "      [theme=dark] .colab-df-generate:hover {\n",
              "        background-color: #434B5C;\n",
              "        box-shadow: 0px 1px 3px 1px rgba(0, 0, 0, 0.15);\n",
              "        filter: drop-shadow(0px 1px 2px rgba(0, 0, 0, 0.3));\n",
              "        fill: #FFFFFF;\n",
              "      }\n",
              "    </style>\n",
              "    <button class=\"colab-df-generate\" onclick=\"generateWithVariable('merged_df')\"\n",
              "            title=\"Generate code using this dataframe.\"\n",
              "            style=\"display:none;\">\n",
              "\n",
              "  <svg xmlns=\"http://www.w3.org/2000/svg\" height=\"24px\"viewBox=\"0 0 24 24\"\n",
              "       width=\"24px\">\n",
              "    <path d=\"M7,19H8.4L18.45,9,17,7.55,7,17.6ZM5,21V16.75L18.45,3.32a2,2,0,0,1,2.83,0l1.4,1.43a1.91,1.91,0,0,1,.58,1.4,1.91,1.91,0,0,1-.58,1.4L9.25,21ZM18.45,9,17,7.55Zm-12,3A5.31,5.31,0,0,0,4.9,8.1,5.31,5.31,0,0,0,1,6.5,5.31,5.31,0,0,0,4.9,4.9,5.31,5.31,0,0,0,6.5,1,5.31,5.31,0,0,0,8.1,4.9,5.31,5.31,0,0,0,12,6.5,5.46,5.46,0,0,0,6.5,12Z\"/>\n",
              "  </svg>\n",
              "    </button>\n",
              "    <script>\n",
              "      (() => {\n",
              "      const buttonEl =\n",
              "        document.querySelector('#id_584bbbad-de72-45d5-8a8b-0131a8986e02 button.colab-df-generate');\n",
              "      buttonEl.style.display =\n",
              "        google.colab.kernel.accessAllowed ? 'block' : 'none';\n",
              "\n",
              "      buttonEl.onclick = () => {\n",
              "        google.colab.notebook.generateWithVariable('merged_df');\n",
              "      }\n",
              "      })();\n",
              "    </script>\n",
              "  </div>\n",
              "\n",
              "    </div>\n",
              "  </div>\n"
            ],
            "application/vnd.google.colaboratory.intrinsic+json": {
              "type": "dataframe",
              "variable_name": "merged_df",
              "summary": "{\n  \"name\": \"merged_df\",\n  \"rows\": 79531,\n  \"fields\": [\n    {\n      \"column\": \"book_id\",\n      \"properties\": {\n        \"dtype\": \"number\",\n        \"std\": 2814,\n        \"min\": 1,\n        \"max\": 9998,\n        \"num_unique_values\": 812,\n        \"samples\": [\n          3466,\n          6750,\n          3109\n        ],\n        \"semantic_type\": \"\",\n        \"description\": \"\"\n      }\n    },\n    {\n      \"column\": \"user_id\",\n      \"properties\": {\n        \"dtype\": \"number\",\n        \"std\": 15157,\n        \"min\": 2,\n        \"max\": 53424,\n        \"num_unique_values\": 28906,\n        \"samples\": [\n          20354,\n          23323,\n          3439\n        ],\n        \"semantic_type\": \"\",\n        \"description\": \"\"\n      }\n    },\n    {\n      \"column\": \"rating\",\n      \"properties\": {\n        \"dtype\": \"number\",\n        \"std\": 0,\n        \"min\": 1,\n        \"max\": 5,\n        \"num_unique_values\": 5,\n        \"samples\": [\n          3,\n          2,\n          4\n        ],\n        \"semantic_type\": \"\",\n        \"description\": \"\"\n      }\n    },\n    {\n      \"column\": \"authors\",\n      \"properties\": {\n        \"dtype\": \"category\",\n        \"num_unique_values\": 480,\n        \"samples\": [\n          \"James Frey\",\n          \"Robert Ludlum\",\n          \"Azar Nafisi\"\n        ],\n        \"semantic_type\": \"\",\n        \"description\": \"\"\n      }\n    },\n    {\n      \"column\": \"original_publication_year\",\n      \"properties\": {\n        \"dtype\": \"number\",\n        \"std\": 293.63850142183907,\n        \"min\": -762.0,\n        \"max\": 2009.0,\n        \"num_unique_values\": 148,\n        \"samples\": [\n          1949.0,\n          1600.0,\n          1916.0\n        ],\n        \"semantic_type\": \"\",\n        \"description\": \"\"\n      }\n    },\n    {\n      \"column\": \"title\",\n      \"properties\": {\n        \"dtype\": \"category\",\n        \"num_unique_values\": 812,\n        \"samples\": [\n          \"The Wedding (The Notebook, #2)\",\n          \"The Broom of the System\",\n          \"The Omnivore's Dilemma: A Natural History of Four Meals\"\n        ],\n        \"semantic_type\": \"\",\n        \"description\": \"\"\n      }\n    },\n    {\n      \"column\": \"language_code\",\n      \"properties\": {\n        \"dtype\": \"category\",\n        \"num_unique_values\": 6,\n        \"samples\": [\n          \"eng\",\n          \"en-US\",\n          \"fre\"\n        ],\n        \"semantic_type\": \"\",\n        \"description\": \"\"\n      }\n    },\n    {\n      \"column\": \"average_rating\",\n      \"properties\": {\n        \"dtype\": \"number\",\n        \"std\": 0.2518992862444796,\n        \"min\": 2.8,\n        \"max\": 4.77,\n        \"num_unique_values\": 123,\n        \"samples\": [\n          3.68,\n          4.02,\n          4.06\n        ],\n        \"semantic_type\": \"\",\n        \"description\": \"\"\n      }\n    }\n  ]\n}"
            }
          },
          "metadata": {},
          "execution_count": 26
        }
      ]
    },
    {
      "cell_type": "markdown",
      "source": [
        "Memeriksa apakah ada nilai NaN di merged_df"
      ],
      "metadata": {
        "id": "KDQf4ghNy-r1"
      }
    },
    {
      "cell_type": "code",
      "source": [
        "nan_check = merged_df.isna().sum()\n",
        "nan_check[nan_check > 0]  # Menampilkan hanya kolom yang memiliki NaN"
      ],
      "metadata": {
        "colab": {
          "base_uri": "https://localhost:8080/",
          "height": 84
        },
        "id": "raN6ttVNYnLT",
        "outputId": "ebb44c26-25de-4f09-d52d-31ffaee6c06d"
      },
      "execution_count": 27,
      "outputs": [
        {
          "output_type": "execute_result",
          "data": {
            "text/plain": [
              "Series([], dtype: int64)"
            ],
            "text/html": [
              "<div>\n",
              "<style scoped>\n",
              "    .dataframe tbody tr th:only-of-type {\n",
              "        vertical-align: middle;\n",
              "    }\n",
              "\n",
              "    .dataframe tbody tr th {\n",
              "        vertical-align: top;\n",
              "    }\n",
              "\n",
              "    .dataframe thead th {\n",
              "        text-align: right;\n",
              "    }\n",
              "</style>\n",
              "<table border=\"1\" class=\"dataframe\">\n",
              "  <thead>\n",
              "    <tr style=\"text-align: right;\">\n",
              "      <th></th>\n",
              "      <th>0</th>\n",
              "    </tr>\n",
              "  </thead>\n",
              "  <tbody>\n",
              "  </tbody>\n",
              "</table>\n",
              "</div><br><label><b>dtype:</b> int64</label>"
            ]
          },
          "metadata": {},
          "execution_count": 27
        }
      ]
    },
    {
      "cell_type": "markdown",
      "source": [
        "Untuk meringankan tingkat komputasi saat menghitung **cosine similarity** pada tahap kedepannya,pentingnya langkah-langkah berikut diambil:"
      ],
      "metadata": {
        "id": "rg7e5GuszcVi"
      }
    },
    {
      "cell_type": "code",
      "source": [
        "# Fungsi untuk membersihkan teks menjadi huruf ASCII saja\n",
        "def clean_text(text):\n",
        "    # Mengubah menjadi huruf kecil dan hanya mempertahankan huruf, angka, dan spasi\n",
        "    text = re.sub(r'[^A-Za-z0-9 ]+', '', text)  # Hapus karakter selain huruf, angka, dan spasi\n",
        "    return text.lower()\n",
        "\n",
        "# Terapkan fungsi ke kolom 'title' dan 'authors'\n",
        "merged_df['title'] = merged_df['title'].apply(clean_text)\n",
        "merged_df['authors'] = merged_df['authors'].apply(clean_text)\n",
        "\n",
        "# Cek data setelah pembersihan\n",
        "print(merged_df[['title', 'authors']].head())\n"
      ],
      "metadata": {
        "colab": {
          "base_uri": "https://localhost:8080/"
        },
        "id": "Ul7tU3ADYovk",
        "outputId": "a2d77167-09fa-4111-f0ba-e15c3f9c83d5"
      },
      "execution_count": 28,
      "outputs": [
        {
          "output_type": "stream",
          "name": "stdout",
          "text": [
            "                                               title                  authors\n",
            "0  harry potter and the halfblood prince harry po...  jk rowling mary grandpr\n",
            "1  harry potter and the halfblood prince harry po...  jk rowling mary grandpr\n",
            "2  harry potter and the halfblood prince harry po...  jk rowling mary grandpr\n",
            "3  harry potter and the halfblood prince harry po...  jk rowling mary grandpr\n",
            "4  harry potter and the halfblood prince harry po...  jk rowling mary grandpr\n"
          ]
        }
      ]
    },
    {
      "cell_type": "markdown",
      "source": [
        "1. **Pembersihan Teks**: Karakter non-alfabetik dan non-numerik dihapus dari kolom **`title`** dan **`authors`**. Hal ini membantu memastikan bahwa hanya informasi yang relevan yang dipertahankan.\n",
        "   \n",
        "2. **Normalisasi**: Mengubah semua teks menjadi huruf kecil untuk konsistensi. Ini menghindari perbedaan yang tidak perlu antara huruf besar dan kecil, yang dapat mempengaruhi hasil perhitungan.\n",
        "\n",
        "3. **Pengurangan Dimensi**: Dengan membersihkan data, ukuran dataset berkurang, sehingga mengurangi kompleksitas dan waktu yang dibutuhkan untuk menghitung cosine similarity.\n",
        "\n",
        "Langkah-langkah ini berkontribusi pada efisiensi perhitungan dan meningkatkan keakuratan dalam analisis data."
      ],
      "metadata": {
        "id": "ceTcHdmCzpq0"
      }
    },
    {
      "cell_type": "markdown",
      "source": [
        "Setelah pembersihan teks, langkah selanjutnya adalah memverifikasi apakah ada nilai **NaN** di kolom **`title`** dan **`authors`**.\n"
      ],
      "metadata": {
        "id": "jxXBxh15zzZq"
      }
    },
    {
      "cell_type": "code",
      "source": [
        "# Cek jumlah nilai NaN di kolom 'title' dan 'authors'\n",
        "nan_values = merged_df[['title', 'authors']].isnull().sum()\n",
        "\n",
        "# Tampilkan hasilnya\n",
        "print(nan_values)"
      ],
      "metadata": {
        "colab": {
          "base_uri": "https://localhost:8080/"
        },
        "id": "CaRxCZuKYqKb",
        "outputId": "f72ff814-90d5-4e2d-d383-5848432c4107"
      },
      "execution_count": 29,
      "outputs": [
        {
          "output_type": "stream",
          "name": "stdout",
          "text": [
            "title      0\n",
            "authors    0\n",
            "dtype: int64\n"
          ]
        }
      ]
    },
    {
      "cell_type": "markdown",
      "source": [
        "Hasil pemeriksaan menunjukkan bahwa jumlah nilai **NaN** di kedua kolom adalah 0. Ini menandakan bahwa proses pembersihan telah berhasil dan semua data dalam kolom tersebut lengkap, yang penting untuk langkah-langkah analisis selanjutnya."
      ],
      "metadata": {
        "id": "IBbR2zi-z0Pv"
      }
    },
    {
      "cell_type": "markdown",
      "source": [
        "mendapatkan gambaran umum tentang DataFrame **`merged_df`**."
      ],
      "metadata": {
        "id": "8U0hazYL0A1i"
      }
    },
    {
      "cell_type": "code",
      "source": [
        "merged_df.info()"
      ],
      "metadata": {
        "colab": {
          "base_uri": "https://localhost:8080/"
        },
        "id": "dd8wYytVYrZe",
        "outputId": "4c6cdc73-ac3a-4a70-eb3c-99c9bdd40c0d"
      },
      "execution_count": 30,
      "outputs": [
        {
          "output_type": "stream",
          "name": "stdout",
          "text": [
            "<class 'pandas.core.frame.DataFrame'>\n",
            "RangeIndex: 79531 entries, 0 to 79530\n",
            "Data columns (total 8 columns):\n",
            " #   Column                     Non-Null Count  Dtype  \n",
            "---  ------                     --------------  -----  \n",
            " 0   book_id                    79531 non-null  int64  \n",
            " 1   user_id                    79531 non-null  int64  \n",
            " 2   rating                     79531 non-null  int64  \n",
            " 3   authors                    79531 non-null  object \n",
            " 4   original_publication_year  79531 non-null  float64\n",
            " 5   title                      79531 non-null  object \n",
            " 6   language_code              79531 non-null  object \n",
            " 7   average_rating             79531 non-null  float64\n",
            "dtypes: float64(2), int64(3), object(3)\n",
            "memory usage: 4.9+ MB\n"
          ]
        }
      ]
    },
    {
      "cell_type": "markdown",
      "source": [
        "Dataset sudah bersih sekarang mari kita lihat insight data yang sudah di olah"
      ],
      "metadata": {
        "id": "aHHX9teGPwkW"
      }
    },
    {
      "cell_type": "markdown",
      "source": [
        "Visualisasi ini menunjukkan distribusi rating rata-rata buku menggunakan histogram."
      ],
      "metadata": {
        "id": "yaO9-CuQP6WB"
      }
    },
    {
      "cell_type": "code",
      "source": [
        "plt.figure(figsize=(12, 6))\n",
        "sns.histplot(merged_df['average_rating'], bins=20, kde=True)\n",
        "plt.title('Distribusi Rating Buku', fontsize=16)\n",
        "plt.xlabel('Rating Rata-rata', fontsize=14)\n",
        "plt.ylabel('Frekuensi', fontsize=14)\n",
        "plt.grid(True)\n",
        "plt.tight_layout()\n",
        "plt.show()"
      ],
      "metadata": {
        "colab": {
          "base_uri": "https://localhost:8080/",
          "height": 607
        },
        "id": "VYxR2vyBOdjL",
        "outputId": "11de43c3-b8b6-43d9-bf27-e3b55bc8d770"
      },
      "execution_count": 31,
      "outputs": [
        {
          "output_type": "display_data",
          "data": {
            "text/plain": [
              "<Figure size 1200x600 with 1 Axes>"
            ],
            "image/png": "[encoded data removed]"
          },
          "metadata": {}
        }
      ]
    },
    {
      "cell_type": "markdown",
      "source": [
        "Grafik diatas menunjukkan distribusi yang menyerupai distribusi normal dengan puncak di sekitar rating 4. Ini menunjukkan bahwa sebagian besar buku mendapatkan rating yang baik, di atas rata-rata."
      ],
      "metadata": {
        "id": "dK6K_riVmZXK"
      }
    },
    {
      "cell_type": "markdown",
      "source": [
        "Visualisasi ini menunjukkan bagaimana rating buku bervariasi berdasarkan penulis terpopuler."
      ],
      "metadata": {
        "id": "fwfg3mfyP9FE"
      }
    },
    {
      "cell_type": "code",
      "source": [
        "top_authors = merged_df['authors'].value_counts().nlargest(10).index\n",
        "plt.figure(figsize=(12, 6))\n",
        "sns.boxplot(data=merged_df[merged_df['authors'].isin(top_authors)], x='authors', y='average_rating')\n",
        "plt.title('Rating Buku berdasarkan Penulis Terpopuler', fontsize=16)\n",
        "plt.xlabel('Penulis', fontsize=14)\n",
        "plt.ylabel('Rating Rata-rata', fontsize=14)\n",
        "plt.xticks(rotation=45)\n",
        "plt.grid(True)\n",
        "plt.tight_layout()\n",
        "plt.show()"
      ],
      "metadata": {
        "colab": {
          "base_uri": "https://localhost:8080/",
          "height": 607
        },
        "id": "KX_lJEPTPA27",
        "outputId": "1169d2b3-2fe5-4bd1-e0d6-d5b52471e1e0"
      },
      "execution_count": 32,
      "outputs": [
        {
          "output_type": "display_data",
          "data": {
            "text/plain": [
              "<Figure size 1200x600 with 1 Axes>"
            ],
            "image/png": "[encoded data removed]"
          },
          "metadata": {}
        }
      ]
    },
    {
      "cell_type": "markdown",
      "source": [
        "Variasi Rating yang Signifikan: Meskipun semua penulis tergolong populer, terdapat variasi yang cukup signifikan dalam rata-rata rating buku mereka. Ini menunjukkan bahwa popularitas seorang penulis tidak selalu berkorelasi langsung dengan kualitas buku yang dianggap oleh pembaca."
      ],
      "metadata": {
        "id": "rPvegkOJmf4c"
      }
    },
    {
      "cell_type": "markdown",
      "source": [
        "Membuat fitur gabungan dari 'authors' dan 'title'"
      ],
      "metadata": {
        "id": "zhbi2Nl11T53"
      }
    },
    {
      "cell_type": "code",
      "source": [
        "merged_df['features'] = merged_df['authors'] + ' ' + merged_df['title']"
      ],
      "metadata": {
        "id": "ej9brfb_YzP6"
      },
      "execution_count": 33,
      "outputs": []
    },
    {
      "cell_type": "markdown",
      "source": [
        "# Mengambil 1.100 entri acak\n",
        "Dengan mengurangi ukuran dataset dari 79.531 entri menjadi 1.100, kita dapat mengatasi masalah performa dan waktu komputasi yang tinggi. Alasan lainnya adalah runtime terputus saat menjalankan analisis pada dataset yang lebih besar (seperti 10.000 dan 5.000 entri). Pengambilan sampel ini memungkinkan eksekusi analisis atau model dengan lebih cepat dan efisien. Parameter `random_state` digunakan untuk memastikan hasil pengambilan sampel dapat direproduksi di masa mendatang, sehingga menjaga konsistensi dalam eksperimen.\n"
      ],
      "metadata": {
        "id": "sZYjlyPz1s-b"
      }
    },
    {
      "cell_type": "code",
      "source": [
        "# Mengambil 1.100 entri acak\n",
        "merged_df = merged_df.sample(n=1100, random_state=42)  # random_state untuk reproducibility"
      ],
      "metadata": {
        "id": "xQl1kIL4YzvU"
      },
      "execution_count": 34,
      "outputs": []
    },
    {
      "cell_type": "markdown",
      "source": [
        "# Inisialisasi TfidfVectorizer\n",
        "Langkah ini dilakukan untuk mempersiapkan representasi fitur teks menggunakan **TF-IDF (Term Frequency-Inverse Document Frequency)**, yang berguna dalam menganalisis teks. Dengan menginisialisasi `TfidfVectorizer`, kita dapat menghitung bobot pentingnya kata-kata dalam kolom `features`, yang merupakan gabungan dari judul buku dan penulis.\n",
        "\n",
        "# Melakukan perhitungan idf pada data cuisine\n",
        "Setelah inisialisasi, kita melakukan perhitungan IDF (Inverse Document Frequency) pada data fitur. Ini membantu mengukur seberapa umum atau langka kata dalam keseluruhan dataset, sehingga dapat menyesuaikan bobot kata berdasarkan frekuensinya.\n",
        "\n",
        "# Mapping array dari fitur index integer ke fitur nama\n",
        "Dengan menggunakan `tf.get_feature_names_out()`, kita dapat memperoleh nama-nama fitur yang sesuai dengan indeks integer yang dihasilkan oleh TF-IDF. Ini sangat berguna untuk memahami fitur yang digunakan dalam model dan analisis selanjutnya.\n"
      ],
      "metadata": {
        "id": "4qBtean015k-"
      }
    },
    {
      "cell_type": "code",
      "source": [
        "# Inisialisasi TfidfVectorizer\n",
        "tf = TfidfVectorizer()\n",
        "\n",
        "# Melakukan perhitungan idf pada data\n",
        "tf.fit(merged_df['features'])\n",
        "\n",
        "# Mapping array dari fitur index integer ke fitur nama\n",
        "tf.get_feature_names_out()"
      ],
      "metadata": {
        "colab": {
          "base_uri": "https://localhost:8080/"
        },
        "id": "DEXJEDzVY3ii",
        "outputId": "c26b79a9-e5e0-47d8-cc1b-7ad38e7a8dc1"
      },
      "execution_count": 35,
      "outputs": [
        {
          "output_type": "execute_result",
          "data": {
            "text/plain": [
              "array(['01', '10', '11', ..., 'zodiac', 'zoltan', 'zooey'], dtype=object)"
            ]
          },
          "metadata": {},
          "execution_count": 35
        }
      ]
    },
    {
      "cell_type": "markdown",
      "source": [
        "# Melakukan fit lalu ditransformasikan ke bentuk matrix\n",
        "Pada langkah ini, kita menerapkan metode `fit_transform()` pada `TfidfVectorizer` untuk menghitung dan mengonversi teks dalam kolom `features` menjadi representasi matriks TF-IDF. Matriks ini akan memiliki dimensi yang merepresentasikan jumlah entri dan jumlah fitur unik yang dihasilkan dari teks.\n",
        "\n",
        "# Melihat ukuran matrix tfidf\n",
        "Dengan memanggil `tfidf_matrix.shape`, kita dapat melihat ukuran matriks TF-IDF. Ukuran ini memberikan informasi tentang jumlah entri (baris) dan jumlah fitur unik (kolom) yang terlibat, yang penting untuk memahami kompleksitas data sebelum melanjutkan ke langkah analisis berikutnya.\n"
      ],
      "metadata": {
        "id": "0icGibBj1_wO"
      }
    },
    {
      "cell_type": "code",
      "source": [
        "# Melakukan fit lalu ditransformasikan ke bentuk matrix\n",
        "tfidf_matrix = tf.fit_transform(merged_df['features'])\n",
        "\n",
        "# Melihat ukuran matrix tfidf\n",
        "tfidf_matrix.shape"
      ],
      "metadata": {
        "colab": {
          "base_uri": "https://localhost:8080/"
        },
        "id": "icv5aBaCY5kD",
        "outputId": "69cde701-84cd-4e6d-a78b-6b27db2a4f82"
      },
      "execution_count": 36,
      "outputs": [
        {
          "output_type": "execute_result",
          "data": {
            "text/plain": [
              "(1100, 2148)"
            ]
          },
          "metadata": {},
          "execution_count": 36
        }
      ]
    },
    {
      "cell_type": "markdown",
      "source": [
        "# Mengubah vektor tf-idf dalam bentuk matriks dengan fungsi todense()\n",
        "Di sini, kita menggunakan fungsi `todense()` untuk mengonversi matriks sparse TF-IDF menjadi matriks dense. Ini memungkinkan kita untuk melihat representasi penuh dari nilai-nilai TF-IDF untuk setiap fitur dalam data kita. Konversi ini berguna untuk analisis dan visualisasi lebih lanjut, meskipun harus diperhatikan bahwa matriks dense dapat memakan lebih banyak memori, terutama jika ukuran data sangat besar.\n"
      ],
      "metadata": {
        "id": "1_SkSQgG2DtA"
      }
    },
    {
      "cell_type": "code",
      "source": [
        "tfidf_matrix.todense()"
      ],
      "metadata": {
        "colab": {
          "base_uri": "https://localhost:8080/"
        },
        "id": "m4lQWbl-Y7B_",
        "outputId": "70326c4e-7857-4f65-e291-3305dfbff17f"
      },
      "execution_count": 37,
      "outputs": [
        {
          "output_type": "execute_result",
          "data": {
            "text/plain": [
              "matrix([[0., 0., 0., ..., 0., 0., 0.],\n",
              "        [0., 0., 0., ..., 0., 0., 0.],\n",
              "        [0., 0., 0., ..., 0., 0., 0.],\n",
              "        ...,\n",
              "        [0., 0., 0., ..., 0., 0., 0.],\n",
              "        [0., 0., 0., ..., 0., 0., 0.],\n",
              "        [0., 0., 0., ..., 0., 0., 0.]])"
            ]
          },
          "metadata": {},
          "execution_count": 37
        }
      ]
    },
    {
      "cell_type": "markdown",
      "source": [
        "# Membuat DataFrame dari matriks TF-IDF\n",
        "Dengan kode ini, kita mengonversi matriks TF-IDF yang telah diubah menjadi bentuk dense ke dalam DataFrame pandas. Setiap kolom pada DataFrame ini merepresentasikan fitur (kata) yang diekstrak menggunakan `TfidfVectorizer`, sementara indeksnya diatur berdasarkan judul buku dari DataFrame `merged_df`.\n",
        "\n",
        "Kemudian, kita menampilkan sampel acak dari 22 kolom dan 10 baris untuk memberikan gambaran tentang nilai-nilai TF-IDF yang telah dihitung. Ini membantu kita memahami sebaran nilai TF-IDF di antara berbagai fitur dan buku yang ada dalam dataset.\n"
      ],
      "metadata": {
        "id": "dHgV0Dbo2KNC"
      }
    },
    {
      "cell_type": "code",
      "source": [
        "pd.DataFrame(\n",
        "    tfidf_matrix.todense(),\n",
        "    columns=tf.get_feature_names_out(),\n",
        "    index=merged_df.title\n",
        ").sample(22, axis=1).sample(10, axis=0)"
      ],
      "metadata": {
        "colab": {
          "base_uri": "https://localhost:8080/",
          "height": 808
        },
        "id": "BWwEMfqtY8f-",
        "outputId": "73f50057-6d0f-46c8-dd72-9e211224008b"
      },
      "execution_count": 38,
      "outputs": [
        {
          "output_type": "execute_result",
          "data": {
            "text/plain": [
              "                                                    bullshit  valkyries  \\\n",
              "title                                                                     \n",
              "the johnstown flood                                      0.0        0.0   \n",
              "don quixote                                              0.0        0.0   \n",
              "icy sparks                                               0.0        0.0   \n",
              "the kalahari typing school for men no 1 ladies ...       0.0        0.0   \n",
              "disgrace                                                 0.0        0.0   \n",
              "the poisonwood bible                                     0.0        0.0   \n",
              "mrs frisby and the rats of nimh rats of nimh 1           0.0        0.0   \n",
              "mother of pearl                                          0.0        0.0   \n",
              "waiting for the barbarians                               0.0        0.0   \n",
              "the long dark teatime of the soul dirk gently 2          0.0        0.0   \n",
              "\n",
              "                                                     gonzlez   it  thomson  \\\n",
              "title                                                                        \n",
              "the johnstown flood                                 0.000000  0.0      0.0   \n",
              "don quixote                                         0.326007  0.0      0.0   \n",
              "icy sparks                                          0.000000  0.0      0.0   \n",
              "the kalahari typing school for men no 1 ladies ...  0.000000  0.0      0.0   \n",
              "disgrace                                            0.000000  0.0      0.0   \n",
              "the poisonwood bible                                0.000000  0.0      0.0   \n",
              "mrs frisby and the rats of nimh rats of nimh 1      0.000000  0.0      0.0   \n",
              "mother of pearl                                     0.000000  0.0      0.0   \n",
              "waiting for the barbarians                          0.000000  0.0      0.0   \n",
              "the long dark teatime of the soul dirk gently 2     0.000000  0.0      0.0   \n",
              "\n",
              "                                                    oresteia  chalk  decides  \\\n",
              "title                                                                          \n",
              "the johnstown flood                                      0.0    0.0      0.0   \n",
              "don quixote                                              0.0    0.0      0.0   \n",
              "icy sparks                                               0.0    0.0      0.0   \n",
              "the kalahari typing school for men no 1 ladies ...       0.0    0.0      0.0   \n",
              "disgrace                                                 0.0    0.0      0.0   \n",
              "the poisonwood bible                                     0.0    0.0      0.0   \n",
              "mrs frisby and the rats of nimh rats of nimh 1           0.0    0.0      0.0   \n",
              "mother of pearl                                          0.0    0.0      0.0   \n",
              "waiting for the barbarians                               0.0    0.0      0.0   \n",
              "the long dark teatime of the soul dirk gently 2          0.0    0.0      0.0   \n",
              "\n",
              "                                                    rachael   dc  ...  \\\n",
              "title                                                             ...   \n",
              "the johnstown flood                                     0.0  0.0  ...   \n",
              "don quixote                                             0.0  0.0  ...   \n",
              "icy sparks                                              0.0  0.0  ...   \n",
              "the kalahari typing school for men no 1 ladies ...      0.0  0.0  ...   \n",
              "disgrace                                                0.0  0.0  ...   \n",
              "the poisonwood bible                                    0.0  0.0  ...   \n",
              "mrs frisby and the rats of nimh rats of nimh 1          0.0  0.0  ...   \n",
              "mother of pearl                                         0.0  0.0  ...   \n",
              "waiting for the barbarians                              0.0  0.0  ...   \n",
              "the long dark teatime of the soul dirk gently 2         0.0  0.0  ...   \n",
              "\n",
              "                                                    unfinished  hope  peters  \\\n",
              "title                                                                          \n",
              "the johnstown flood                                        0.0   0.0     0.0   \n",
              "don quixote                                                0.0   0.0     0.0   \n",
              "icy sparks                                                 0.0   0.0     0.0   \n",
              "the kalahari typing school for men no 1 ladies ...         0.0   0.0     0.0   \n",
              "disgrace                                                   0.0   0.0     0.0   \n",
              "the poisonwood bible                                       0.0   0.0     0.0   \n",
              "mrs frisby and the rats of nimh rats of nimh 1             0.0   0.0     0.0   \n",
              "mother of pearl                                            0.0   0.0     0.0   \n",
              "waiting for the barbarians                                 0.0   0.0     0.0   \n",
              "the long dark teatime of the soul dirk gently 2            0.0   0.0     0.0   \n",
              "\n",
              "                                                    zafn  mixedup     rats  \\\n",
              "title                                                                        \n",
              "the johnstown flood                                  0.0      0.0  0.00000   \n",
              "don quixote                                          0.0      0.0  0.00000   \n",
              "icy sparks                                           0.0      0.0  0.00000   \n",
              "the kalahari typing school for men no 1 ladies ...   0.0      0.0  0.00000   \n",
              "disgrace                                             0.0      0.0  0.00000   \n",
              "the poisonwood bible                                 0.0      0.0  0.00000   \n",
              "mrs frisby and the rats of nimh rats of nimh 1       0.0      0.0  0.57737   \n",
              "mother of pearl                                      0.0      0.0  0.00000   \n",
              "waiting for the barbarians                           0.0      0.0  0.00000   \n",
              "the long dark teatime of the soul dirk gently 2      0.0      0.0  0.00000   \n",
              "\n",
              "                                                    known  bloomquist  \\\n",
              "title                                                                   \n",
              "the johnstown flood                                   0.0         0.0   \n",
              "don quixote                                           0.0         0.0   \n",
              "icy sparks                                            0.0         0.0   \n",
              "the kalahari typing school for men no 1 ladies ...    0.0         0.0   \n",
              "disgrace                                              0.0         0.0   \n",
              "the poisonwood bible                                  0.0         0.0   \n",
              "mrs frisby and the rats of nimh rats of nimh 1        0.0         0.0   \n",
              "mother of pearl                                       0.0         0.0   \n",
              "waiting for the barbarians                            0.0         0.0   \n",
              "the long dark teatime of the soul dirk gently 2       0.0         0.0   \n",
              "\n",
              "                                                    stanley       don  \n",
              "title                                                                  \n",
              "the johnstown flood                                     0.0  0.000000  \n",
              "don quixote                                             0.0  0.270143  \n",
              "icy sparks                                              0.0  0.000000  \n",
              "the kalahari typing school for men no 1 ladies ...      0.0  0.000000  \n",
              "disgrace                                                0.0  0.000000  \n",
              "the poisonwood bible                                    0.0  0.000000  \n",
              "mrs frisby and the rats of nimh rats of nimh 1          0.0  0.000000  \n",
              "mother of pearl                                         0.0  0.000000  \n",
              "waiting for the barbarians                              0.0  0.000000  \n",
              "the long dark teatime of the soul dirk gently 2         0.0  0.000000  \n",
              "\n",
              "[10 rows x 22 columns]"
            ],
            "text/html": [
              "\n",
              "  <div id=\"df-e7307d42-4ae4-41f9-8af2-0259d0b356b1\" class=\"colab-df-container\">\n",
              "    <div>\n",
              "<style scoped>\n",
              "    .dataframe tbody tr th:only-of-type {\n",
              "        vertical-align: middle;\n",
              "    }\n",
              "\n",
              "    .dataframe tbody tr th {\n",
              "        vertical-align: top;\n",
              "    }\n",
              "\n",
              "    .dataframe thead th {\n",
              "        text-align: right;\n",
              "    }\n",
              "</style>\n",
              "<table border=\"1\" class=\"dataframe\">\n",
              "  <thead>\n",
              "    <tr style=\"text-align: right;\">\n",
              "      <th></th>\n",
              "      <th>bullshit</th>\n",
              "      <th>valkyries</th>\n",
              "      <th>gonzlez</th>\n",
              "      <th>it</th>\n",
              "      <th>thomson</th>\n",
              "      <th>oresteia</th>\n",
              "      <th>chalk</th>\n",
              "      <th>decides</th>\n",
              "      <th>rachael</th>\n",
              "      <th>dc</th>\n",
              "      <th>...</th>\n",
              "      <th>unfinished</th>\n",
              "      <th>hope</th>\n",
              "      <th>peters</th>\n",
              "      <th>zafn</th>\n",
              "      <th>mixedup</th>\n",
              "      <th>rats</th>\n",
              "      <th>known</th>\n",
              "      <th>bloomquist</th>\n",
              "      <th>stanley</th>\n",
              "      <th>don</th>\n",
              "    </tr>\n",
              "    <tr>\n",
              "      <th>title</th>\n",
              "      <th></th>\n",
              "      <th></th>\n",
              "      <th></th>\n",
              "      <th></th>\n",
              "      <th></th>\n",
              "      <th></th>\n",
              "      <th></th>\n",
              "      <th></th>\n",
              "      <th></th>\n",
              "      <th></th>\n",
              "      <th></th>\n",
              "      <th></th>\n",
              "      <th></th>\n",
              "      <th></th>\n",
              "      <th></th>\n",
              "      <th></th>\n",
              "      <th></th>\n",
              "      <th></th>\n",
              "      <th></th>\n",
              "      <th></th>\n",
              "      <th></th>\n",
              "    </tr>\n",
              "  </thead>\n",
              "  <tbody>\n",
              "    <tr>\n",
              "      <th>the johnstown flood</th>\n",
              "      <td>0.0</td>\n",
              "      <td>0.0</td>\n",
              "      <td>0.000000</td>\n",
              "      <td>0.0</td>\n",
              "      <td>0.0</td>\n",
              "      <td>0.0</td>\n",
              "      <td>0.0</td>\n",
              "      <td>0.0</td>\n",
              "      <td>0.0</td>\n",
              "      <td>0.0</td>\n",
              "      <td>...</td>\n",
              "      <td>0.0</td>\n",
              "      <td>0.0</td>\n",
              "      <td>0.0</td>\n",
              "      <td>0.0</td>\n",
              "      <td>0.0</td>\n",
              "      <td>0.00000</td>\n",
              "      <td>0.0</td>\n",
              "      <td>0.0</td>\n",
              "      <td>0.0</td>\n",
              "      <td>0.000000</td>\n",
              "    </tr>\n",
              "    <tr>\n",
              "      <th>don quixote</th>\n",
              "      <td>0.0</td>\n",
              "      <td>0.0</td>\n",
              "      <td>0.326007</td>\n",
              "      <td>0.0</td>\n",
              "      <td>0.0</td>\n",
              "      <td>0.0</td>\n",
              "      <td>0.0</td>\n",
              "      <td>0.0</td>\n",
              "      <td>0.0</td>\n",
              "      <td>0.0</td>\n",
              "      <td>...</td>\n",
              "      <td>0.0</td>\n",
              "      <td>0.0</td>\n",
              "      <td>0.0</td>\n",
              "      <td>0.0</td>\n",
              "      <td>0.0</td>\n",
              "      <td>0.00000</td>\n",
              "      <td>0.0</td>\n",
              "      <td>0.0</td>\n",
              "      <td>0.0</td>\n",
              "      <td>0.270143</td>\n",
              "    </tr>\n",
              "    <tr>\n",
              "      <th>icy sparks</th>\n",
              "      <td>0.0</td>\n",
              "      <td>0.0</td>\n",
              "      <td>0.000000</td>\n",
              "      <td>0.0</td>\n",
              "      <td>0.0</td>\n",
              "      <td>0.0</td>\n",
              "      <td>0.0</td>\n",
              "      <td>0.0</td>\n",
              "      <td>0.0</td>\n",
              "      <td>0.0</td>\n",
              "      <td>...</td>\n",
              "      <td>0.0</td>\n",
              "      <td>0.0</td>\n",
              "      <td>0.0</td>\n",
              "      <td>0.0</td>\n",
              "      <td>0.0</td>\n",
              "      <td>0.00000</td>\n",
              "      <td>0.0</td>\n",
              "      <td>0.0</td>\n",
              "      <td>0.0</td>\n",
              "      <td>0.000000</td>\n",
              "    </tr>\n",
              "    <tr>\n",
              "      <th>the kalahari typing school for men no 1 ladies detective agency 4</th>\n",
              "      <td>0.0</td>\n",
              "      <td>0.0</td>\n",
              "      <td>0.000000</td>\n",
              "      <td>0.0</td>\n",
              "      <td>0.0</td>\n",
              "      <td>0.0</td>\n",
              "      <td>0.0</td>\n",
              "      <td>0.0</td>\n",
              "      <td>0.0</td>\n",
              "      <td>0.0</td>\n",
              "      <td>...</td>\n",
              "      <td>0.0</td>\n",
              "      <td>0.0</td>\n",
              "      <td>0.0</td>\n",
              "      <td>0.0</td>\n",
              "      <td>0.0</td>\n",
              "      <td>0.00000</td>\n",
              "      <td>0.0</td>\n",
              "      <td>0.0</td>\n",
              "      <td>0.0</td>\n",
              "      <td>0.000000</td>\n",
              "    </tr>\n",
              "    <tr>\n",
              "      <th>disgrace</th>\n",
              "      <td>0.0</td>\n",
              "      <td>0.0</td>\n",
              "      <td>0.000000</td>\n",
              "      <td>0.0</td>\n",
              "      <td>0.0</td>\n",
              "      <td>0.0</td>\n",
              "      <td>0.0</td>\n",
              "      <td>0.0</td>\n",
              "      <td>0.0</td>\n",
              "      <td>0.0</td>\n",
              "      <td>...</td>\n",
              "      <td>0.0</td>\n",
              "      <td>0.0</td>\n",
              "      <td>0.0</td>\n",
              "      <td>0.0</td>\n",
              "      <td>0.0</td>\n",
              "      <td>0.00000</td>\n",
              "      <td>0.0</td>\n",
              "      <td>0.0</td>\n",
              "      <td>0.0</td>\n",
              "      <td>0.000000</td>\n",
              "    </tr>\n",
              "    <tr>\n",
              "      <th>the poisonwood bible</th>\n",
              "      <td>0.0</td>\n",
              "      <td>0.0</td>\n",
              "      <td>0.000000</td>\n",
              "      <td>0.0</td>\n",
              "      <td>0.0</td>\n",
              "      <td>0.0</td>\n",
              "      <td>0.0</td>\n",
              "      <td>0.0</td>\n",
              "      <td>0.0</td>\n",
              "      <td>0.0</td>\n",
              "      <td>...</td>\n",
              "      <td>0.0</td>\n",
              "      <td>0.0</td>\n",
              "      <td>0.0</td>\n",
              "      <td>0.0</td>\n",
              "      <td>0.0</td>\n",
              "      <td>0.00000</td>\n",
              "      <td>0.0</td>\n",
              "      <td>0.0</td>\n",
              "      <td>0.0</td>\n",
              "      <td>0.000000</td>\n",
              "    </tr>\n",
              "    <tr>\n",
              "      <th>mrs frisby and the rats of nimh rats of nimh 1</th>\n",
              "      <td>0.0</td>\n",
              "      <td>0.0</td>\n",
              "      <td>0.000000</td>\n",
              "      <td>0.0</td>\n",
              "      <td>0.0</td>\n",
              "      <td>0.0</td>\n",
              "      <td>0.0</td>\n",
              "      <td>0.0</td>\n",
              "      <td>0.0</td>\n",
              "      <td>0.0</td>\n",
              "      <td>...</td>\n",
              "      <td>0.0</td>\n",
              "      <td>0.0</td>\n",
              "      <td>0.0</td>\n",
              "      <td>0.0</td>\n",
              "      <td>0.0</td>\n",
              "      <td>0.57737</td>\n",
              "      <td>0.0</td>\n",
              "      <td>0.0</td>\n",
              "      <td>0.0</td>\n",
              "      <td>0.000000</td>\n",
              "    </tr>\n",
              "    <tr>\n",
              "      <th>mother of pearl</th>\n",
              "      <td>0.0</td>\n",
              "      <td>0.0</td>\n",
              "      <td>0.000000</td>\n",
              "      <td>0.0</td>\n",
              "      <td>0.0</td>\n",
              "      <td>0.0</td>\n",
              "      <td>0.0</td>\n",
              "      <td>0.0</td>\n",
              "      <td>0.0</td>\n",
              "      <td>0.0</td>\n",
              "      <td>...</td>\n",
              "      <td>0.0</td>\n",
              "      <td>0.0</td>\n",
              "      <td>0.0</td>\n",
              "      <td>0.0</td>\n",
              "      <td>0.0</td>\n",
              "      <td>0.00000</td>\n",
              "      <td>0.0</td>\n",
              "      <td>0.0</td>\n",
              "      <td>0.0</td>\n",
              "      <td>0.000000</td>\n",
              "    </tr>\n",
              "    <tr>\n",
              "      <th>waiting for the barbarians</th>\n",
              "      <td>0.0</td>\n",
              "      <td>0.0</td>\n",
              "      <td>0.000000</td>\n",
              "      <td>0.0</td>\n",
              "      <td>0.0</td>\n",
              "      <td>0.0</td>\n",
              "      <td>0.0</td>\n",
              "      <td>0.0</td>\n",
              "      <td>0.0</td>\n",
              "      <td>0.0</td>\n",
              "      <td>...</td>\n",
              "      <td>0.0</td>\n",
              "      <td>0.0</td>\n",
              "      <td>0.0</td>\n",
              "      <td>0.0</td>\n",
              "      <td>0.0</td>\n",
              "      <td>0.00000</td>\n",
              "      <td>0.0</td>\n",
              "      <td>0.0</td>\n",
              "      <td>0.0</td>\n",
              "      <td>0.000000</td>\n",
              "    </tr>\n",
              "    <tr>\n",
              "      <th>the long dark teatime of the soul dirk gently 2</th>\n",
              "      <td>0.0</td>\n",
              "      <td>0.0</td>\n",
              "      <td>0.000000</td>\n",
              "      <td>0.0</td>\n",
              "      <td>0.0</td>\n",
              "      <td>0.0</td>\n",
              "      <td>0.0</td>\n",
              "      <td>0.0</td>\n",
              "      <td>0.0</td>\n",
              "      <td>0.0</td>\n",
              "      <td>...</td>\n",
              "      <td>0.0</td>\n",
              "      <td>0.0</td>\n",
              "      <td>0.0</td>\n",
              "      <td>0.0</td>\n",
              "      <td>0.0</td>\n",
              "      <td>0.00000</td>\n",
              "      <td>0.0</td>\n",
              "      <td>0.0</td>\n",
              "      <td>0.0</td>\n",
              "      <td>0.000000</td>\n",
              "    </tr>\n",
              "  </tbody>\n",
              "</table>\n",
              "<p>10 rows × 22 columns</p>\n",
              "</div>\n",
              "    <div class=\"colab-df-buttons\">\n",
              "\n",
              "  <div class=\"colab-df-container\">\n",
              "    <button class=\"colab-df-convert\" onclick=\"convertToInteractive('df-e7307d42-4ae4-41f9-8af2-0259d0b356b1')\"\n",
              "            title=\"Convert this dataframe to an interactive table.\"\n",
              "            style=\"display:none;\">\n",
              "\n",
              "  <svg xmlns=\"http://www.w3.org/2000/svg\" height=\"24px\" viewBox=\"0 -960 960 960\">\n",
              "    <path d=\"M120-120v-720h720v720H120Zm60-500h600v-160H180v160Zm220 220h160v-160H400v160Zm0 220h160v-160H400v160ZM180-400h160v-160H180v160Zm440 0h160v-160H620v160ZM180-180h160v-160H180v160Zm440 0h160v-160H620v160Z\"/>\n",
              "  </svg>\n",
              "    </button>\n",
              "\n",
              "  <style>\n",
              "    .colab-df-container {\n",
              "      display:flex;\n",
              "      gap: 12px;\n",
              "    }\n",
              "\n",
              "    .colab-df-convert {\n",
              "      background-color: #E8F0FE;\n",
              "      border: none;\n",
              "      border-radius: 50%;\n",
              "      cursor: pointer;\n",
              "      display: none;\n",
              "      fill: #1967D2;\n",
              "      height: 32px;\n",
              "      padding: 0 0 0 0;\n",
              "      width: 32px;\n",
              "    }\n",
              "\n",
              "    .colab-df-convert:hover {\n",
              "      background-color: #E2EBFA;\n",
              "      box-shadow: 0px 1px 2px rgba(60, 64, 67, 0.3), 0px 1px 3px 1px rgba(60, 64, 67, 0.15);\n",
              "      fill: #174EA6;\n",
              "    }\n",
              "\n",
              "    .colab-df-buttons div {\n",
              "      margin-bottom: 4px;\n",
              "    }\n",
              "\n",
              "    [theme=dark] .colab-df-convert {\n",
              "      background-color: #3B4455;\n",
              "      fill: #D2E3FC;\n",
              "    }\n",
              "\n",
              "    [theme=dark] .colab-df-convert:hover {\n",
              "      background-color: #434B5C;\n",
              "      box-shadow: 0px 1px 3px 1px rgba(0, 0, 0, 0.15);\n",
              "      filter: drop-shadow(0px 1px 2px rgba(0, 0, 0, 0.3));\n",
              "      fill: #FFFFFF;\n",
              "    }\n",
              "  </style>\n",
              "\n",
              "    <script>\n",
              "      const buttonEl =\n",
              "        document.querySelector('#df-e7307d42-4ae4-41f9-8af2-0259d0b356b1 button.colab-df-convert');\n",
              "      buttonEl.style.display =\n",
              "        google.colab.kernel.accessAllowed ? 'block' : 'none';\n",
              "\n",
              "      async function convertToInteractive(key) {\n",
              "        const element = document.querySelector('#df-e7307d42-4ae4-41f9-8af2-0259d0b356b1');\n",
              "        const dataTable =\n",
              "          await google.colab.kernel.invokeFunction('convertToInteractive',\n",
              "                                                    [key], {});\n",
              "        if (!dataTable) return;\n",
              "\n",
              "        const docLinkHtml = 'Like what you see? Visit the ' +\n",
              "          '<a target=\"_blank\" href=https://colab.research.google.com/notebooks/data_table.ipynb>data table notebook</a>'\n",
              "          + ' to learn more about interactive tables.';\n",
              "        element.innerHTML = '';\n",
              "        dataTable['output_type'] = 'display_data';\n",
              "        await google.colab.output.renderOutput(dataTable, element);\n",
              "        const docLink = document.createElement('div');\n",
              "        docLink.innerHTML = docLinkHtml;\n",
              "        element.appendChild(docLink);\n",
              "      }\n",
              "    </script>\n",
              "  </div>\n",
              "\n",
              "\n",
              "<div id=\"df-cf1f5629-730c-49f7-a484-8b3a2c11746b\">\n",
              "  <button class=\"colab-df-quickchart\" onclick=\"quickchart('df-cf1f5629-730c-49f7-a484-8b3a2c11746b')\"\n",
              "            title=\"Suggest charts\"\n",
              "            style=\"display:none;\">\n",
              "\n",
              "<svg xmlns=\"http://www.w3.org/2000/svg\" height=\"24px\"viewBox=\"0 0 24 24\"\n",
              "     width=\"24px\">\n",
              "    <g>\n",
              "        <path d=\"M19 3H5c-1.1 0-2 .9-2 2v14c0 1.1.9 2 2 2h14c1.1 0 2-.9 2-2V5c0-1.1-.9-2-2-2zM9 17H7v-7h2v7zm4 0h-2V7h2v10zm4 0h-2v-4h2v4z\"/>\n",
              "    </g>\n",
              "</svg>\n",
              "  </button>\n",
              "\n",
              "<style>\n",
              "  .colab-df-quickchart {\n",
              "      --bg-color: #E8F0FE;\n",
              "      --fill-color: #1967D2;\n",
              "      --hover-bg-color: #E2EBFA;\n",
              "      --hover-fill-color: #174EA6;\n",
              "      --disabled-fill-color: #AAA;\n",
              "      --disabled-bg-color: #DDD;\n",
              "  }\n",
              "\n",
              "  [theme=dark] .colab-df-quickchart {\n",
              "      --bg-color: #3B4455;\n",
              "      --fill-color: #D2E3FC;\n",
              "      --hover-bg-color: #434B5C;\n",
              "      --hover-fill-color: #FFFFFF;\n",
              "      --disabled-bg-color: #3B4455;\n",
              "      --disabled-fill-color: #666;\n",
              "  }\n",
              "\n",
              "  .colab-df-quickchart {\n",
              "    background-color: var(--bg-color);\n",
              "    border: none;\n",
              "    border-radius: 50%;\n",
              "    cursor: pointer;\n",
              "    display: none;\n",
              "    fill: var(--fill-color);\n",
              "    height: 32px;\n",
              "    padding: 0;\n",
              "    width: 32px;\n",
              "  }\n",
              "\n",
              "  .colab-df-quickchart:hover {\n",
              "    background-color: var(--hover-bg-color);\n",
              "    box-shadow: 0 1px 2px rgba(60, 64, 67, 0.3), 0 1px 3px 1px rgba(60, 64, 67, 0.15);\n",
              "    fill: var(--button-hover-fill-color);\n",
              "  }\n",
              "\n",
              "  .colab-df-quickchart-complete:disabled,\n",
              "  .colab-df-quickchart-complete:disabled:hover {\n",
              "    background-color: var(--disabled-bg-color);\n",
              "    fill: var(--disabled-fill-color);\n",
              "    box-shadow: none;\n",
              "  }\n",
              "\n",
              "  .colab-df-spinner {\n",
              "    border: 2px solid var(--fill-color);\n",
              "    border-color: transparent;\n",
              "    border-bottom-color: var(--fill-color);\n",
              "    animation:\n",
              "      spin 1s steps(1) infinite;\n",
              "  }\n",
              "\n",
              "  @keyframes spin {\n",
              "    0% {\n",
              "      border-color: transparent;\n",
              "      border-bottom-color: var(--fill-color);\n",
              "      border-left-color: var(--fill-color);\n",
              "    }\n",
              "    20% {\n",
              "      border-color: transparent;\n",
              "      border-left-color: var(--fill-color);\n",
              "      border-top-color: var(--fill-color);\n",
              "    }\n",
              "    30% {\n",
              "      border-color: transparent;\n",
              "      border-left-color: var(--fill-color);\n",
              "      border-top-color: var(--fill-color);\n",
              "      border-right-color: var(--fill-color);\n",
              "    }\n",
              "    40% {\n",
              "      border-color: transparent;\n",
              "      border-right-color: var(--fill-color);\n",
              "      border-top-color: var(--fill-color);\n",
              "    }\n",
              "    60% {\n",
              "      border-color: transparent;\n",
              "      border-right-color: var(--fill-color);\n",
              "    }\n",
              "    80% {\n",
              "      border-color: transparent;\n",
              "      border-right-color: var(--fill-color);\n",
              "      border-bottom-color: var(--fill-color);\n",
              "    }\n",
              "    90% {\n",
              "      border-color: transparent;\n",
              "      border-bottom-color: var(--fill-color);\n",
              "    }\n",
              "  }\n",
              "</style>\n",
              "\n",
              "  <script>\n",
              "    async function quickchart(key) {\n",
              "      const quickchartButtonEl =\n",
              "        document.querySelector('#' + key + ' button');\n",
              "      quickchartButtonEl.disabled = true;  // To prevent multiple clicks.\n",
              "      quickchartButtonEl.classList.add('colab-df-spinner');\n",
              "      try {\n",
              "        const charts = await google.colab.kernel.invokeFunction(\n",
              "            'suggestCharts', [key], {});\n",
              "      } catch (error) {\n",
              "        console.error('Error during call to suggestCharts:', error);\n",
              "      }\n",
              "      quickchartButtonEl.classList.remove('colab-df-spinner');\n",
              "      quickchartButtonEl.classList.add('colab-df-quickchart-complete');\n",
              "    }\n",
              "    (() => {\n",
              "      let quickchartButtonEl =\n",
              "        document.querySelector('#df-cf1f5629-730c-49f7-a484-8b3a2c11746b button');\n",
              "      quickchartButtonEl.style.display =\n",
              "        google.colab.kernel.accessAllowed ? 'block' : 'none';\n",
              "    })();\n",
              "  </script>\n",
              "</div>\n",
              "\n",
              "    </div>\n",
              "  </div>\n"
            ],
            "application/vnd.google.colaboratory.intrinsic+json": {
              "type": "dataframe"
            }
          },
          "metadata": {},
          "execution_count": 38
        }
      ]
    },
    {
      "cell_type": "markdown",
      "source": [
        "# Menghitung Cosine Similarity pada Matriks TF-IDF\n",
        "Dengan menggunakan fungsi `cosine_similarity`, kita menghitung nilai cosine similarity antara semua entri dalam matriks TF-IDF. Nilai cosine similarity ini memberikan indikasi sejauh mana dua entri (dalam hal ini, buku) mirip satu sama lain berdasarkan fitur yang telah digabungkan (judul dan penulis).\n",
        "\n",
        "Hasil dari perhitungan ini adalah matriks dua dimensi, di mana setiap elemen (i, j) menunjukkan tingkat kesamaan antara entri ke-i dan ke-j. Nilai berkisar antara 0 (tidak ada kesamaan) hingga 1 (identik). Matriks ini akan digunakan untuk memberikan rekomendasi buku yang mirip di tahap selanjutnya.\n"
      ],
      "metadata": {
        "id": "g1DovUVL2UG4"
      }
    },
    {
      "cell_type": "code",
      "source": [
        "# Menghitung cosine similarity pada matrix tf-idf\n",
        "cosine_sim = cosine_similarity(tfidf_matrix)\n",
        "cosine_sim"
      ],
      "metadata": {
        "colab": {
          "base_uri": "https://localhost:8080/"
        },
        "id": "fAnjaStmY_mM",
        "outputId": "8a08d702-3324-4b35-bca5-b7199f825816"
      },
      "execution_count": 39,
      "outputs": [
        {
          "output_type": "execute_result",
          "data": {
            "text/plain": [
              "array([[1.        , 0.02119889, 0.        , ..., 0.0217507 , 0.00862689,\n",
              "        0.        ],\n",
              "       [0.02119889, 1.        , 0.        , ..., 0.02085971, 0.0082735 ,\n",
              "        0.        ],\n",
              "       [0.        , 0.        , 1.        , ..., 0.        , 0.        ,\n",
              "        0.06413871],\n",
              "       ...,\n",
              "       [0.0217507 , 0.02085971, 0.        , ..., 1.        , 0.00848886,\n",
              "        0.        ],\n",
              "       [0.00862689, 0.0082735 , 0.        , ..., 0.00848886, 1.        ,\n",
              "        0.        ],\n",
              "       [0.        , 0.        , 0.06413871, ..., 0.        , 0.        ,\n",
              "        1.        ]])"
            ]
          },
          "metadata": {},
          "execution_count": 39
        }
      ]
    },
    {
      "cell_type": "markdown",
      "source": [
        "# Membuat DataFrame dari Matriks Cosine Similarity\n",
        "Setelah menghitung cosine similarity, kita membuat DataFrame baru bernama `cosine_sim_df` dari variabel `cosine_sim`. DataFrame ini memiliki baris dan kolom yang diindeks berdasarkan judul buku, sehingga memudahkan dalam melihat kesamaan antar buku.\n",
        "\n",
        "Matriks ini memiliki bentuk (shape) yang menunjukkan jumlah buku yang ada dalam dataset. Selanjutnya, kita dapat menampilkan beberapa contoh nilai similarity untuk mendapatkan gambaran bagaimana buku-buku tersebut saling terkait.\n"
      ],
      "metadata": {
        "id": "kjnoSTwX2ZKn"
      }
    },
    {
      "cell_type": "code",
      "source": [
        "# Membuat dataframe dari variabel cosine_sim dengan baris dan kolom berupa nama resto\n",
        "cosine_sim_df = pd.DataFrame(cosine_sim, index=merged_df['title'], columns=merged_df['title'])\n",
        "print('Shape:', cosine_sim_df.shape)\n",
        "\n",
        "# Melihat similarity matrix pada setiap resto\n",
        "cosine_sim_df.sample(5, axis=1).sample(10, axis=0)"
      ],
      "metadata": {
        "colab": {
          "base_uri": "https://localhost:8080/",
          "height": 481
        },
        "id": "p3qyJqmqZBmQ",
        "outputId": "7544127e-4014-4318-d9c6-d13fe94ac451"
      },
      "execution_count": 40,
      "outputs": [
        {
          "output_type": "stream",
          "name": "stdout",
          "text": [
            "Shape: (1100, 1100)\n"
          ]
        },
        {
          "output_type": "execute_result",
          "data": {
            "text/plain": [
              "title                                               my name is red  the iliad  \\\n",
              "title                                                                           \n",
              "complications a surgeons notes on an imperfect ...        0.000000   0.000000   \n",
              "red prophet tales of alvin maker 2                        0.107329   0.000000   \n",
              "founding brothers the revolutionary generation            0.000000   0.010317   \n",
              "jailbird                                                  0.000000   0.000000   \n",
              "a million little pieces                                   0.000000   0.000000   \n",
              "the tipping point how little things can make a ...        0.000000   0.008635   \n",
              "the restaurant at the end of the universe hitch...        0.000000   0.030038   \n",
              "the book of ruth                                          0.000000   0.014362   \n",
              "a midsummer nights dream                                  0.000000   0.000000   \n",
              "the lost boy dave pelzer 2                                0.000000   0.009388   \n",
              "\n",
              "title                                               carter beats the devil  \\\n",
              "title                                                                        \n",
              "complications a surgeons notes on an imperfect ...                0.000000   \n",
              "red prophet tales of alvin maker 2                                0.000000   \n",
              "founding brothers the revolutionary generation                    0.012858   \n",
              "jailbird                                                          0.000000   \n",
              "a million little pieces                                           0.000000   \n",
              "the tipping point how little things can make a ...                0.010762   \n",
              "the restaurant at the end of the universe hitch...                0.037436   \n",
              "the book of ruth                                                  0.017899   \n",
              "a midsummer nights dream                                          0.000000   \n",
              "the lost boy dave pelzer 2                                        0.011700   \n",
              "\n",
              "title                                               so long and thanks for all the fish hitchhikers guide to the galaxy 4  \\\n",
              "title                                                                                                                       \n",
              "complications a surgeons notes on an imperfect ...                                           0.000000                       \n",
              "red prophet tales of alvin maker 2                                                           0.000000                       \n",
              "founding brothers the revolutionary generation                                               0.019101                       \n",
              "jailbird                                                                                     0.000000                       \n",
              "a million little pieces                                                                      0.000000                       \n",
              "the tipping point how little things can make a ...                                           0.015987                       \n",
              "the restaurant at the end of the universe hitch...                                           0.373914                       \n",
              "the book of ruth                                                                             0.026590                       \n",
              "a midsummer nights dream                                                                     0.000000                       \n",
              "the lost boy dave pelzer 2                                                                   0.017380                       \n",
              "\n",
              "title                                               the bone collector lincoln rhyme 1  \n",
              "title                                                                                   \n",
              "complications a surgeons notes on an imperfect ...                            0.000000  \n",
              "red prophet tales of alvin maker 2                                            0.000000  \n",
              "founding brothers the revolutionary generation                                0.010483  \n",
              "jailbird                                                                      0.000000  \n",
              "a million little pieces                                                       0.000000  \n",
              "the tipping point how little things can make a ...                            0.008774  \n",
              "the restaurant at the end of the universe hitch...                            0.030522  \n",
              "the book of ruth                                                              0.014594  \n",
              "a midsummer nights dream                                                      0.000000  \n",
              "the lost boy dave pelzer 2                                                    0.009539  "
            ],
            "text/html": [
              "\n",
              "  <div id=\"df-07661ca2-c476-403a-9338-e8408e2d0415\" class=\"colab-df-container\">\n",
              "    <div>\n",
              "<style scoped>\n",
              "    .dataframe tbody tr th:only-of-type {\n",
              "        vertical-align: middle;\n",
              "    }\n",
              "\n",
              "    .dataframe tbody tr th {\n",
              "        vertical-align: top;\n",
              "    }\n",
              "\n",
              "    .dataframe thead th {\n",
              "        text-align: right;\n",
              "    }\n",
              "</style>\n",
              "<table border=\"1\" class=\"dataframe\">\n",
              "  <thead>\n",
              "    <tr style=\"text-align: right;\">\n",
              "      <th>title</th>\n",
              "      <th>my name is red</th>\n",
              "      <th>the iliad</th>\n",
              "      <th>carter beats the devil</th>\n",
              "      <th>so long and thanks for all the fish hitchhikers guide to the galaxy 4</th>\n",
              "      <th>the bone collector lincoln rhyme 1</th>\n",
              "    </tr>\n",
              "    <tr>\n",
              "      <th>title</th>\n",
              "      <th></th>\n",
              "      <th></th>\n",
              "      <th></th>\n",
              "      <th></th>\n",
              "      <th></th>\n",
              "    </tr>\n",
              "  </thead>\n",
              "  <tbody>\n",
              "    <tr>\n",
              "      <th>complications a surgeons notes on an imperfect science</th>\n",
              "      <td>0.000000</td>\n",
              "      <td>0.000000</td>\n",
              "      <td>0.000000</td>\n",
              "      <td>0.000000</td>\n",
              "      <td>0.000000</td>\n",
              "    </tr>\n",
              "    <tr>\n",
              "      <th>red prophet tales of alvin maker 2</th>\n",
              "      <td>0.107329</td>\n",
              "      <td>0.000000</td>\n",
              "      <td>0.000000</td>\n",
              "      <td>0.000000</td>\n",
              "      <td>0.000000</td>\n",
              "    </tr>\n",
              "    <tr>\n",
              "      <th>founding brothers the revolutionary generation</th>\n",
              "      <td>0.000000</td>\n",
              "      <td>0.010317</td>\n",
              "      <td>0.012858</td>\n",
              "      <td>0.019101</td>\n",
              "      <td>0.010483</td>\n",
              "    </tr>\n",
              "    <tr>\n",
              "      <th>jailbird</th>\n",
              "      <td>0.000000</td>\n",
              "      <td>0.000000</td>\n",
              "      <td>0.000000</td>\n",
              "      <td>0.000000</td>\n",
              "      <td>0.000000</td>\n",
              "    </tr>\n",
              "    <tr>\n",
              "      <th>a million little pieces</th>\n",
              "      <td>0.000000</td>\n",
              "      <td>0.000000</td>\n",
              "      <td>0.000000</td>\n",
              "      <td>0.000000</td>\n",
              "      <td>0.000000</td>\n",
              "    </tr>\n",
              "    <tr>\n",
              "      <th>the tipping point how little things can make a big difference</th>\n",
              "      <td>0.000000</td>\n",
              "      <td>0.008635</td>\n",
              "      <td>0.010762</td>\n",
              "      <td>0.015987</td>\n",
              "      <td>0.008774</td>\n",
              "    </tr>\n",
              "    <tr>\n",
              "      <th>the restaurant at the end of the universe hitchhikers guide 2</th>\n",
              "      <td>0.000000</td>\n",
              "      <td>0.030038</td>\n",
              "      <td>0.037436</td>\n",
              "      <td>0.373914</td>\n",
              "      <td>0.030522</td>\n",
              "    </tr>\n",
              "    <tr>\n",
              "      <th>the book of ruth</th>\n",
              "      <td>0.000000</td>\n",
              "      <td>0.014362</td>\n",
              "      <td>0.017899</td>\n",
              "      <td>0.026590</td>\n",
              "      <td>0.014594</td>\n",
              "    </tr>\n",
              "    <tr>\n",
              "      <th>a midsummer nights dream</th>\n",
              "      <td>0.000000</td>\n",
              "      <td>0.000000</td>\n",
              "      <td>0.000000</td>\n",
              "      <td>0.000000</td>\n",
              "      <td>0.000000</td>\n",
              "    </tr>\n",
              "    <tr>\n",
              "      <th>the lost boy dave pelzer 2</th>\n",
              "      <td>0.000000</td>\n",
              "      <td>0.009388</td>\n",
              "      <td>0.011700</td>\n",
              "      <td>0.017380</td>\n",
              "      <td>0.009539</td>\n",
              "    </tr>\n",
              "  </tbody>\n",
              "</table>\n",
              "</div>\n",
              "    <div class=\"colab-df-buttons\">\n",
              "\n",
              "  <div class=\"colab-df-container\">\n",
              "    <button class=\"colab-df-convert\" onclick=\"convertToInteractive('df-07661ca2-c476-403a-9338-e8408e2d0415')\"\n",
              "            title=\"Convert this dataframe to an interactive table.\"\n",
              "            style=\"display:none;\">\n",
              "\n",
              "  <svg xmlns=\"http://www.w3.org/2000/svg\" height=\"24px\" viewBox=\"0 -960 960 960\">\n",
              "    <path d=\"M120-120v-720h720v720H120Zm60-500h600v-160H180v160Zm220 220h160v-160H400v160Zm0 220h160v-160H400v160ZM180-400h160v-160H180v160Zm440 0h160v-160H620v160ZM180-180h160v-160H180v160Zm440 0h160v-160H620v160Z\"/>\n",
              "  </svg>\n",
              "    </button>\n",
              "\n",
              "  <style>\n",
              "    .colab-df-container {\n",
              "      display:flex;\n",
              "      gap: 12px;\n",
              "    }\n",
              "\n",
              "    .colab-df-convert {\n",
              "      background-color: #E8F0FE;\n",
              "      border: none;\n",
              "      border-radius: 50%;\n",
              "      cursor: pointer;\n",
              "      display: none;\n",
              "      fill: #1967D2;\n",
              "      height: 32px;\n",
              "      padding: 0 0 0 0;\n",
              "      width: 32px;\n",
              "    }\n",
              "\n",
              "    .colab-df-convert:hover {\n",
              "      background-color: #E2EBFA;\n",
              "      box-shadow: 0px 1px 2px rgba(60, 64, 67, 0.3), 0px 1px 3px 1px rgba(60, 64, 67, 0.15);\n",
              "      fill: #174EA6;\n",
              "    }\n",
              "\n",
              "    .colab-df-buttons div {\n",
              "      margin-bottom: 4px;\n",
              "    }\n",
              "\n",
              "    [theme=dark] .colab-df-convert {\n",
              "      background-color: #3B4455;\n",
              "      fill: #D2E3FC;\n",
              "    }\n",
              "\n",
              "    [theme=dark] .colab-df-convert:hover {\n",
              "      background-color: #434B5C;\n",
              "      box-shadow: 0px 1px 3px 1px rgba(0, 0, 0, 0.15);\n",
              "      filter: drop-shadow(0px 1px 2px rgba(0, 0, 0, 0.3));\n",
              "      fill: #FFFFFF;\n",
              "    }\n",
              "  </style>\n",
              "\n",
              "    <script>\n",
              "      const buttonEl =\n",
              "        document.querySelector('#df-07661ca2-c476-403a-9338-e8408e2d0415 button.colab-df-convert');\n",
              "      buttonEl.style.display =\n",
              "        google.colab.kernel.accessAllowed ? 'block' : 'none';\n",
              "\n",
              "      async function convertToInteractive(key) {\n",
              "        const element = document.querySelector('#df-07661ca2-c476-403a-9338-e8408e2d0415');\n",
              "        const dataTable =\n",
              "          await google.colab.kernel.invokeFunction('convertToInteractive',\n",
              "                                                    [key], {});\n",
              "        if (!dataTable) return;\n",
              "\n",
              "        const docLinkHtml = 'Like what you see? Visit the ' +\n",
              "          '<a target=\"_blank\" href=https://colab.research.google.com/notebooks/data_table.ipynb>data table notebook</a>'\n",
              "          + ' to learn more about interactive tables.';\n",
              "        element.innerHTML = '';\n",
              "        dataTable['output_type'] = 'display_data';\n",
              "        await google.colab.output.renderOutput(dataTable, element);\n",
              "        const docLink = document.createElement('div');\n",
              "        docLink.innerHTML = docLinkHtml;\n",
              "        element.appendChild(docLink);\n",
              "      }\n",
              "    </script>\n",
              "  </div>\n",
              "\n",
              "\n",
              "<div id=\"df-eaaecc6b-f74a-4814-abe8-ee55b3d135d6\">\n",
              "  <button class=\"colab-df-quickchart\" onclick=\"quickchart('df-eaaecc6b-f74a-4814-abe8-ee55b3d135d6')\"\n",
              "            title=\"Suggest charts\"\n",
              "            style=\"display:none;\">\n",
              "\n",
              "<svg xmlns=\"http://www.w3.org/2000/svg\" height=\"24px\"viewBox=\"0 0 24 24\"\n",
              "     width=\"24px\">\n",
              "    <g>\n",
              "        <path d=\"M19 3H5c-1.1 0-2 .9-2 2v14c0 1.1.9 2 2 2h14c1.1 0 2-.9 2-2V5c0-1.1-.9-2-2-2zM9 17H7v-7h2v7zm4 0h-2V7h2v10zm4 0h-2v-4h2v4z\"/>\n",
              "    </g>\n",
              "</svg>\n",
              "  </button>\n",
              "\n",
              "<style>\n",
              "  .colab-df-quickchart {\n",
              "      --bg-color: #E8F0FE;\n",
              "      --fill-color: #1967D2;\n",
              "      --hover-bg-color: #E2EBFA;\n",
              "      --hover-fill-color: #174EA6;\n",
              "      --disabled-fill-color: #AAA;\n",
              "      --disabled-bg-color: #DDD;\n",
              "  }\n",
              "\n",
              "  [theme=dark] .colab-df-quickchart {\n",
              "      --bg-color: #3B4455;\n",
              "      --fill-color: #D2E3FC;\n",
              "      --hover-bg-color: #434B5C;\n",
              "      --hover-fill-color: #FFFFFF;\n",
              "      --disabled-bg-color: #3B4455;\n",
              "      --disabled-fill-color: #666;\n",
              "  }\n",
              "\n",
              "  .colab-df-quickchart {\n",
              "    background-color: var(--bg-color);\n",
              "    border: none;\n",
              "    border-radius: 50%;\n",
              "    cursor: pointer;\n",
              "    display: none;\n",
              "    fill: var(--fill-color);\n",
              "    height: 32px;\n",
              "    padding: 0;\n",
              "    width: 32px;\n",
              "  }\n",
              "\n",
              "  .colab-df-quickchart:hover {\n",
              "    background-color: var(--hover-bg-color);\n",
              "    box-shadow: 0 1px 2px rgba(60, 64, 67, 0.3), 0 1px 3px 1px rgba(60, 64, 67, 0.15);\n",
              "    fill: var(--button-hover-fill-color);\n",
              "  }\n",
              "\n",
              "  .colab-df-quickchart-complete:disabled,\n",
              "  .colab-df-quickchart-complete:disabled:hover {\n",
              "    background-color: var(--disabled-bg-color);\n",
              "    fill: var(--disabled-fill-color);\n",
              "    box-shadow: none;\n",
              "  }\n",
              "\n",
              "  .colab-df-spinner {\n",
              "    border: 2px solid var(--fill-color);\n",
              "    border-color: transparent;\n",
              "    border-bottom-color: var(--fill-color);\n",
              "    animation:\n",
              "      spin 1s steps(1) infinite;\n",
              "  }\n",
              "\n",
              "  @keyframes spin {\n",
              "    0% {\n",
              "      border-color: transparent;\n",
              "      border-bottom-color: var(--fill-color);\n",
              "      border-left-color: var(--fill-color);\n",
              "    }\n",
              "    20% {\n",
              "      border-color: transparent;\n",
              "      border-left-color: var(--fill-color);\n",
              "      border-top-color: var(--fill-color);\n",
              "    }\n",
              "    30% {\n",
              "      border-color: transparent;\n",
              "      border-left-color: var(--fill-color);\n",
              "      border-top-color: var(--fill-color);\n",
              "      border-right-color: var(--fill-color);\n",
              "    }\n",
              "    40% {\n",
              "      border-color: transparent;\n",
              "      border-right-color: var(--fill-color);\n",
              "      border-top-color: var(--fill-color);\n",
              "    }\n",
              "    60% {\n",
              "      border-color: transparent;\n",
              "      border-right-color: var(--fill-color);\n",
              "    }\n",
              "    80% {\n",
              "      border-color: transparent;\n",
              "      border-right-color: var(--fill-color);\n",
              "      border-bottom-color: var(--fill-color);\n",
              "    }\n",
              "    90% {\n",
              "      border-color: transparent;\n",
              "      border-bottom-color: var(--fill-color);\n",
              "    }\n",
              "  }\n",
              "</style>\n",
              "\n",
              "  <script>\n",
              "    async function quickchart(key) {\n",
              "      const quickchartButtonEl =\n",
              "        document.querySelector('#' + key + ' button');\n",
              "      quickchartButtonEl.disabled = true;  // To prevent multiple clicks.\n",
              "      quickchartButtonEl.classList.add('colab-df-spinner');\n",
              "      try {\n",
              "        const charts = await google.colab.kernel.invokeFunction(\n",
              "            'suggestCharts', [key], {});\n",
              "      } catch (error) {\n",
              "        console.error('Error during call to suggestCharts:', error);\n",
              "      }\n",
              "      quickchartButtonEl.classList.remove('colab-df-spinner');\n",
              "      quickchartButtonEl.classList.add('colab-df-quickchart-complete');\n",
              "    }\n",
              "    (() => {\n",
              "      let quickchartButtonEl =\n",
              "        document.querySelector('#df-eaaecc6b-f74a-4814-abe8-ee55b3d135d6 button');\n",
              "      quickchartButtonEl.style.display =\n",
              "        google.colab.kernel.accessAllowed ? 'block' : 'none';\n",
              "    })();\n",
              "  </script>\n",
              "</div>\n",
              "\n",
              "    </div>\n",
              "  </div>\n"
            ],
            "application/vnd.google.colaboratory.intrinsic+json": {
              "type": "dataframe",
              "summary": "{\n  \"name\": \"cosine_sim_df\",\n  \"rows\": 10,\n  \"fields\": [\n    {\n      \"column\": \"title\",\n      \"properties\": {\n        \"dtype\": \"string\",\n        \"num_unique_values\": 10,\n        \"samples\": [\n          \"a midsummer nights dream\",\n          \"red prophet tales of alvin maker 2\",\n          \"the tipping point how little things can make a big difference\"\n        ],\n        \"semantic_type\": \"\",\n        \"description\": \"\"\n      }\n    },\n    {\n      \"column\": \"my name is red\",\n      \"properties\": {\n        \"dtype\": \"number\",\n        \"std\": 0.033940384163043694,\n        \"min\": 0.0,\n        \"max\": 0.10732891861632575,\n        \"num_unique_values\": 2,\n        \"samples\": [\n          0.10732891861632575,\n          0.0\n        ],\n        \"semantic_type\": \"\",\n        \"description\": \"\"\n      }\n    },\n    {\n      \"column\": \"the iliad\",\n      \"properties\": {\n        \"dtype\": \"number\",\n        \"std\": 0.009710150913972064,\n        \"min\": 0.0,\n        \"max\": 0.030038190047971258,\n        \"num_unique_values\": 6,\n        \"samples\": [\n          0.0,\n          0.010317040140204676\n        ],\n        \"semantic_type\": \"\",\n        \"description\": \"\"\n      }\n    },\n    {\n      \"column\": \"carter beats the devil\",\n      \"properties\": {\n        \"dtype\": \"number\",\n        \"std\": 0.012101691930210769,\n        \"min\": 0.0,\n        \"max\": 0.03743638233043398,\n        \"num_unique_values\": 6,\n        \"samples\": [\n          0.0,\n          0.012858053650713292\n        ],\n        \"semantic_type\": \"\",\n        \"description\": \"\"\n      }\n    },\n    {\n      \"column\": \"so long and thanks for all the fish hitchhikers guide to the galaxy 4\",\n      \"properties\": {\n        \"dtype\": \"number\",\n        \"std\": 0.11591324979496637,\n        \"min\": 0.0,\n        \"max\": 0.37391415511730947,\n        \"num_unique_values\": 6,\n        \"samples\": [\n          0.0,\n          0.019101056277283944\n        ],\n        \"semantic_type\": \"\",\n        \"description\": \"\"\n      }\n    },\n    {\n      \"column\": \"the bone collector lincoln rhyme 1\",\n      \"properties\": {\n        \"dtype\": \"number\",\n        \"std\": 0.009866695598518157,\n        \"min\": 0.0,\n        \"max\": 0.030522458421043504,\n        \"num_unique_values\": 6,\n        \"samples\": [\n          0.0,\n          0.010483368944824361\n        ],\n        \"semantic_type\": \"\",\n        \"description\": \"\"\n      }\n    }\n  ]\n}"
            }
          },
          "metadata": {},
          "execution_count": 40
        }
      ]
    },
    {
      "cell_type": "markdown",
      "source": [
        "Nilai antara 0 dan 1 menunjukkan tingkat kesamaan, di mana semakin mendekati 1, semakin mirip buku-buku tersebut."
      ],
      "metadata": {
        "id": "kW1AqYSc2i0A"
      }
    },
    {
      "cell_type": "markdown",
      "source": [
        "## Fungsi `buku_recommendations`\n",
        "\n",
        "Fungsi ini digunakan untuk memberikan rekomendasi buku berdasarkan kesamaan (similarity) dengan buku yang diberikan.\n"
      ],
      "metadata": {
        "id": "huUyvq6W2vmB"
      }
    },
    {
      "cell_type": "code",
      "source": [
        "def buku_recommendations(nama_buku, similarity_data=cosine_sim_df, items=merged_df[['title', 'authors', 'average_rating']], k=5):\n",
        "\n",
        "    # Mendapatkan indeks dari buku yang mirip dengan menggunakan argpartition\n",
        "    index = similarity_data.loc[:, nama_buku].to_numpy().argpartition(range(-1, -k, -1))\n",
        "\n",
        "    # Mengambil data dengan similarity terbesar dari indeks yang ada\n",
        "    closest = similarity_data.columns[index[-1:-(k+1):-1].flatten()]  # Ambil k terbesar\n",
        "\n",
        "    # Menghapus buku yang direkomendasikan untuk diri sendiri\n",
        "    closest = closest[closest != nama_buku]  # Menghapus nama buku yang sama\n",
        "\n",
        "    # Menghapus duplikat dan mengonversi kembali ke DataFrame\n",
        "    closest_unique = pd.Series(closest).drop_duplicates().values  # Ambil yang unik\n",
        "\n",
        "    # Menggabungkan dengan data buku yang relevan seperti judul, penulis, dan peringkat\n",
        "    recommendations = pd.DataFrame(closest_unique, columns=['title']).merge(items, on='title', how='left')\n",
        "\n",
        "    # Menghapus duplikat setelah penggabungan dan memilih k teratas\n",
        "    recommendations = recommendations.drop_duplicates().head(k)\n",
        "\n",
        "    return recommendations"
      ],
      "metadata": {
        "id": "pis_8T2nZE8W"
      },
      "execution_count": 41,
      "outputs": []
    },
    {
      "cell_type": "markdown",
      "source": [
        "## Menampilkan Daftar Buku\n",
        "\n",
        "Dalam kode ini, kita mengambil 10 nama buku dari DataFrame `merged_df` yang sebelumnya telah disampling menjadi 1.100 entri secara acak. Langkah ini penting untuk memastikan bahwa kita mengetahui buku-buku yang tersedia dalam dataset sebelum melakukan rekomendasi. Dengan menampilkan hanya 10 buku, kita dapat dengan mudah mengecek beberapa entri tanpa harus melihat keseluruhan dataset."
      ],
      "metadata": {
        "id": "eI11NlUz2w74"
      }
    },
    {
      "cell_type": "code",
      "source": [
        "# # Mengambil 10 nama buku, penulis, dan rating dari merged_df\n",
        "daftar_buku = merged_df[['title', 'authors', 'average_rating']].head(10)\n",
        "\n",
        "# # Menampilkan daftar buku\n",
        "print(daftar_buku)"
      ],
      "metadata": {
        "colab": {
          "base_uri": "https://localhost:8080/"
        },
        "id": "GUKtWpdYiln-",
        "outputId": "b197ee52-1dff-4c89-e191-3edddd2f80c3"
      },
      "execution_count": 60,
      "outputs": [
        {
          "output_type": "stream",
          "name": "stdout",
          "text": [
            "                                                   title  \\\n",
            "62596  awakening the buddha within tibetan wisdom for...   \n",
            "67041                            the bellmaker redwall 7   \n",
            "19057                                     my name is red   \n",
            "1447                           notes from a small island   \n",
            "74148                      shopaholic  baby shopaholic 5   \n",
            "65922    the cat in the hat and other dr seuss favorites   \n",
            "9002                               the egypt game game 1   \n",
            "24076                               going after cacciato   \n",
            "62043     founding brothers the revolutionary generation   \n",
            "6578                                             no logo   \n",
            "\n",
            "                        authors  average_rating  \n",
            "62596            lama surya das            4.18  \n",
            "67041             brian jacques            3.95  \n",
            "19057  orhan pamuk erda m gknar            3.83  \n",
            "1447                bill bryson            3.91  \n",
            "74148           sophie kinsella            3.77  \n",
            "65922          dr seuss various            4.41  \n",
            "9002      zilpha keatley snyder            3.81  \n",
            "24076                tim obrien            3.90  \n",
            "62043            joseph j ellis            3.92  \n",
            "6578                naomi klein            3.86  \n"
          ]
        }
      ]
    },
    {
      "cell_type": "markdown",
      "source": [
        "## Rekomendasi Buku\n",
        "\n",
        "Setelah menjalankan fungsi `buku_recommendations` dengan input `'the bellmaker redwall 7'`, kita mendapatkan rekomendasi buku berdasarkan kemiripan konten. Hasil yang ditampilkan mencakup:\n",
        "1. **Judul Buku**: Buku yang direkomendasikan berdasarkan kemiripan.\n",
        "2. **Penulis**: Nama penulis dari buku tersebut.\n",
        "3. **Rata-rata Rating**: Rating rata-rata dari pembaca untuk memberikan gambaran tentang kualitas buku.\n"
      ],
      "metadata": {
        "id": "6VlDKVi_3Lyb"
      }
    },
    {
      "cell_type": "code",
      "source": [
        "print(buku_recommendations('the bellmaker redwall 7'))"
      ],
      "metadata": {
        "colab": {
          "base_uri": "https://localhost:8080/"
        },
        "id": "vtCYVTy1ZMRS",
        "outputId": "00e3202c-fd0a-44f0-e42a-1a3c02abc3ec"
      },
      "execution_count": 43,
      "outputs": [
        {
          "output_type": "stream",
          "name": "stdout",
          "text": [
            "                          title        authors  average_rating\n",
            "0             redwall redwall 1  brian jacques            4.11\n",
            "1  outcast of redwall redwall 8  brian jacques            3.90\n"
          ]
        }
      ]
    },
    {
      "cell_type": "markdown",
      "source": [
        "Sebagai contoh, dua buku yang direkomendasikan adalah:\n",
        "\n",
        "- **\"redwall redwall 1\"** oleh **Brian Jacques** dengan rating **4.11**.\n",
        "- **\"outcast of redwall redwall 8\"** oleh **Brian Jacques** dengan rating **3.90**.\n",
        "\n",
        "Rekomendasi ini bertujuan untuk membantu pembaca menemukan buku-buku lain yang mungkin menarik berdasarkan kesamaan tema atau konten dengan buku yang telah mereka pilih."
      ],
      "metadata": {
        "id": "abMuTdt-3In2"
      }
    },
    {
      "cell_type": "markdown",
      "source": [
        "Sekarang kita akan membahas Collaborative Filtering"
      ],
      "metadata": {
        "id": "XZVzCtHiqI5H"
      }
    },
    {
      "cell_type": "code",
      "source": [
        "# Mengganti nama DataFrame\n",
        "book_data = merged_df"
      ],
      "metadata": {
        "id": "hFeIFmGhqH6_"
      },
      "execution_count": 45,
      "outputs": []
    },
    {
      "cell_type": "code",
      "source": [
        "# Membuat matriks pengguna-buku\n",
        "user_book_matrix = book_data.pivot_table(index='user_id', columns='book_id', values='rating').fillna(0)"
      ],
      "metadata": {
        "id": "wL89nrQZqvua"
      },
      "execution_count": 46,
      "outputs": []
    },
    {
      "cell_type": "markdown",
      "source": [
        "kita akan menggunakan pendekatan NN"
      ],
      "metadata": {
        "id": "eCKsDq6D3GfW"
      }
    },
    {
      "cell_type": "code",
      "source": [
        "# Membuat model NN\n",
        "model_nn = NearestNeighbors(metric='cosine', algorithm='brute')\n",
        "model_nn.fit(user_book_matrix.values)"
      ],
      "metadata": {
        "colab": {
          "base_uri": "https://localhost:8080/",
          "height": 80
        },
        "id": "NcijM9ZMq4Ww",
        "outputId": "1b3f7a5f-049b-4fd9-d356-fc0876db0929"
      },
      "execution_count": 47,
      "outputs": [
        {
          "output_type": "execute_result",
          "data": {
            "text/plain": [
              "NearestNeighbors(algorithm='brute', metric='cosine')"
            ],
            "text/html": [
              "<style>#sk-container-id-1 {\n",
              "  /* Definition of color scheme common for light and dark mode */\n",
              "  --sklearn-color-text: black;\n",
              "  --sklearn-color-line: gray;\n",
              "  /* Definition of color scheme for unfitted estimators */\n",
              "  --sklearn-color-unfitted-level-0: #fff5e6;\n",
              "  --sklearn-color-unfitted-level-1: #f6e4d2;\n",
              "  --sklearn-color-unfitted-level-2: #ffe0b3;\n",
              "  --sklearn-color-unfitted-level-3: chocolate;\n",
              "  /* Definition of color scheme for fitted estimators */\n",
              "  --sklearn-color-fitted-level-0: #f0f8ff;\n",
              "  --sklearn-color-fitted-level-1: #d4ebff;\n",
              "  --sklearn-color-fitted-level-2: #b3dbfd;\n",
              "  --sklearn-color-fitted-level-3: cornflowerblue;\n",
              "\n",
              "  /* Specific color for light theme */\n",
              "  --sklearn-color-text-on-default-background: var(--sg-text-color, var(--theme-code-foreground, var(--jp-content-font-color1, black)));\n",
              "  --sklearn-color-background: var(--sg-background-color, var(--theme-background, var(--jp-layout-color0, white)));\n",
              "  --sklearn-color-border-box: var(--sg-text-color, var(--theme-code-foreground, var(--jp-content-font-color1, black)));\n",
              "  --sklearn-color-icon: #696969;\n",
              "\n",
              "  @media (prefers-color-scheme: dark) {\n",
              "    /* Redefinition of color scheme for dark theme */\n",
              "    --sklearn-color-text-on-default-background: var(--sg-text-color, var(--theme-code-foreground, var(--jp-content-font-color1, white)));\n",
              "    --sklearn-color-background: var(--sg-background-color, var(--theme-background, var(--jp-layout-color0, #111)));\n",
              "    --sklearn-color-border-box: var(--sg-text-color, var(--theme-code-foreground, var(--jp-content-font-color1, white)));\n",
              "    --sklearn-color-icon: #878787;\n",
              "  }\n",
              "}\n",
              "\n",
              "#sk-container-id-1 {\n",
              "  color: var(--sklearn-color-text);\n",
              "}\n",
              "\n",
              "#sk-container-id-1 pre {\n",
              "  padding: 0;\n",
              "}\n",
              "\n",
              "#sk-container-id-1 input.sk-hidden--visually {\n",
              "  border: 0;\n",
              "  clip: rect(1px 1px 1px 1px);\n",
              "  clip: rect(1px, 1px, 1px, 1px);\n",
              "  height: 1px;\n",
              "  margin: -1px;\n",
              "  overflow: hidden;\n",
              "  padding: 0;\n",
              "  position: absolute;\n",
              "  width: 1px;\n",
              "}\n",
              "\n",
              "#sk-container-id-1 div.sk-dashed-wrapped {\n",
              "  border: 1px dashed var(--sklearn-color-line);\n",
              "  margin: 0 0.4em 0.5em 0.4em;\n",
              "  box-sizing: border-box;\n",
              "  padding-bottom: 0.4em;\n",
              "  background-color: var(--sklearn-color-background);\n",
              "}\n",
              "\n",
              "#sk-container-id-1 div.sk-container {\n",
              "  /* jupyter's `normalize.less` sets `[hidden] { display: none; }`\n",
              "     but bootstrap.min.css set `[hidden] { display: none !important; }`\n",
              "     so we also need the `!important` here to be able to override the\n",
              "     default hidden behavior on the sphinx rendered scikit-learn.org.\n",
              "     See: https://github.com/scikit-learn/scikit-learn/issues/21755 */\n",
              "  display: inline-block !important;\n",
              "  position: relative;\n",
              "}\n",
              "\n",
              "#sk-container-id-1 div.sk-text-repr-fallback {\n",
              "  display: none;\n",
              "}\n",
              "\n",
              "div.sk-parallel-item,\n",
              "div.sk-serial,\n",
              "div.sk-item {\n",
              "  /* draw centered vertical line to link estimators */\n",
              "  background-image: linear-gradient(var(--sklearn-color-text-on-default-background), var(--sklearn-color-text-on-default-background));\n",
              "  background-size: 2px 100%;\n",
              "  background-repeat: no-repeat;\n",
              "  background-position: center center;\n",
              "}\n",
              "\n",
              "/* Parallel-specific style estimator block */\n",
              "\n",
              "#sk-container-id-1 div.sk-parallel-item::after {\n",
              "  content: \"\";\n",
              "  width: 100%;\n",
              "  border-bottom: 2px solid var(--sklearn-color-text-on-default-background);\n",
              "  flex-grow: 1;\n",
              "}\n",
              "\n",
              "#sk-container-id-1 div.sk-parallel {\n",
              "  display: flex;\n",
              "  align-items: stretch;\n",
              "  justify-content: center;\n",
              "  background-color: var(--sklearn-color-background);\n",
              "  position: relative;\n",
              "}\n",
              "\n",
              "#sk-container-id-1 div.sk-parallel-item {\n",
              "  display: flex;\n",
              "  flex-direction: column;\n",
              "}\n",
              "\n",
              "#sk-container-id-1 div.sk-parallel-item:first-child::after {\n",
              "  align-self: flex-end;\n",
              "  width: 50%;\n",
              "}\n",
              "\n",
              "#sk-container-id-1 div.sk-parallel-item:last-child::after {\n",
              "  align-self: flex-start;\n",
              "  width: 50%;\n",
              "}\n",
              "\n",
              "#sk-container-id-1 div.sk-parallel-item:only-child::after {\n",
              "  width: 0;\n",
              "}\n",
              "\n",
              "/* Serial-specific style estimator block */\n",
              "\n",
              "#sk-container-id-1 div.sk-serial {\n",
              "  display: flex;\n",
              "  flex-direction: column;\n",
              "  align-items: center;\n",
              "  background-color: var(--sklearn-color-background);\n",
              "  padding-right: 1em;\n",
              "  padding-left: 1em;\n",
              "}\n",
              "\n",
              "\n",
              "/* Toggleable style: style used for estimator/Pipeline/ColumnTransformer box that is\n",
              "clickable and can be expanded/collapsed.\n",
              "- Pipeline and ColumnTransformer use this feature and define the default style\n",
              "- Estimators will overwrite some part of the style using the `sk-estimator` class\n",
              "*/\n",
              "\n",
              "/* Pipeline and ColumnTransformer style (default) */\n",
              "\n",
              "#sk-container-id-1 div.sk-toggleable {\n",
              "  /* Default theme specific background. It is overwritten whether we have a\n",
              "  specific estimator or a Pipeline/ColumnTransformer */\n",
              "  background-color: var(--sklearn-color-background);\n",
              "}\n",
              "\n",
              "/* Toggleable label */\n",
              "#sk-container-id-1 label.sk-toggleable__label {\n",
              "  cursor: pointer;\n",
              "  display: block;\n",
              "  width: 100%;\n",
              "  margin-bottom: 0;\n",
              "  padding: 0.5em;\n",
              "  box-sizing: border-box;\n",
              "  text-align: center;\n",
              "}\n",
              "\n",
              "#sk-container-id-1 label.sk-toggleable__label-arrow:before {\n",
              "  /* Arrow on the left of the label */\n",
              "  content: \"▸\";\n",
              "  float: left;\n",
              "  margin-right: 0.25em;\n",
              "  color: var(--sklearn-color-icon);\n",
              "}\n",
              "\n",
              "#sk-container-id-1 label.sk-toggleable__label-arrow:hover:before {\n",
              "  color: var(--sklearn-color-text);\n",
              "}\n",
              "\n",
              "/* Toggleable content - dropdown */\n",
              "\n",
              "#sk-container-id-1 div.sk-toggleable__content {\n",
              "  max-height: 0;\n",
              "  max-width: 0;\n",
              "  overflow: hidden;\n",
              "  text-align: left;\n",
              "  /* unfitted */\n",
              "  background-color: var(--sklearn-color-unfitted-level-0);\n",
              "}\n",
              "\n",
              "#sk-container-id-1 div.sk-toggleable__content.fitted {\n",
              "  /* fitted */\n",
              "  background-color: var(--sklearn-color-fitted-level-0);\n",
              "}\n",
              "\n",
              "#sk-container-id-1 div.sk-toggleable__content pre {\n",
              "  margin: 0.2em;\n",
              "  border-radius: 0.25em;\n",
              "  color: var(--sklearn-color-text);\n",
              "  /* unfitted */\n",
              "  background-color: var(--sklearn-color-unfitted-level-0);\n",
              "}\n",
              "\n",
              "#sk-container-id-1 div.sk-toggleable__content.fitted pre {\n",
              "  /* unfitted */\n",
              "  background-color: var(--sklearn-color-fitted-level-0);\n",
              "}\n",
              "\n",
              "#sk-container-id-1 input.sk-toggleable__control:checked~div.sk-toggleable__content {\n",
              "  /* Expand drop-down */\n",
              "  max-height: 200px;\n",
              "  max-width: 100%;\n",
              "  overflow: auto;\n",
              "}\n",
              "\n",
              "#sk-container-id-1 input.sk-toggleable__control:checked~label.sk-toggleable__label-arrow:before {\n",
              "  content: \"▾\";\n",
              "}\n",
              "\n",
              "/* Pipeline/ColumnTransformer-specific style */\n",
              "\n",
              "#sk-container-id-1 div.sk-label input.sk-toggleable__control:checked~label.sk-toggleable__label {\n",
              "  color: var(--sklearn-color-text);\n",
              "  background-color: var(--sklearn-color-unfitted-level-2);\n",
              "}\n",
              "\n",
              "#sk-container-id-1 div.sk-label.fitted input.sk-toggleable__control:checked~label.sk-toggleable__label {\n",
              "  background-color: var(--sklearn-color-fitted-level-2);\n",
              "}\n",
              "\n",
              "/* Estimator-specific style */\n",
              "\n",
              "/* Colorize estimator box */\n",
              "#sk-container-id-1 div.sk-estimator input.sk-toggleable__control:checked~label.sk-toggleable__label {\n",
              "  /* unfitted */\n",
              "  background-color: var(--sklearn-color-unfitted-level-2);\n",
              "}\n",
              "\n",
              "#sk-container-id-1 div.sk-estimator.fitted input.sk-toggleable__control:checked~label.sk-toggleable__label {\n",
              "  /* fitted */\n",
              "  background-color: var(--sklearn-color-fitted-level-2);\n",
              "}\n",
              "\n",
              "#sk-container-id-1 div.sk-label label.sk-toggleable__label,\n",
              "#sk-container-id-1 div.sk-label label {\n",
              "  /* The background is the default theme color */\n",
              "  color: var(--sklearn-color-text-on-default-background);\n",
              "}\n",
              "\n",
              "/* On hover, darken the color of the background */\n",
              "#sk-container-id-1 div.sk-label:hover label.sk-toggleable__label {\n",
              "  color: var(--sklearn-color-text);\n",
              "  background-color: var(--sklearn-color-unfitted-level-2);\n",
              "}\n",
              "\n",
              "/* Label box, darken color on hover, fitted */\n",
              "#sk-container-id-1 div.sk-label.fitted:hover label.sk-toggleable__label.fitted {\n",
              "  color: var(--sklearn-color-text);\n",
              "  background-color: var(--sklearn-color-fitted-level-2);\n",
              "}\n",
              "\n",
              "/* Estimator label */\n",
              "\n",
              "#sk-container-id-1 div.sk-label label {\n",
              "  font-family: monospace;\n",
              "  font-weight: bold;\n",
              "  display: inline-block;\n",
              "  line-height: 1.2em;\n",
              "}\n",
              "\n",
              "#sk-container-id-1 div.sk-label-container {\n",
              "  text-align: center;\n",
              "}\n",
              "\n",
              "/* Estimator-specific */\n",
              "#sk-container-id-1 div.sk-estimator {\n",
              "  font-family: monospace;\n",
              "  border: 1px dotted var(--sklearn-color-border-box);\n",
              "  border-radius: 0.25em;\n",
              "  box-sizing: border-box;\n",
              "  margin-bottom: 0.5em;\n",
              "  /* unfitted */\n",
              "  background-color: var(--sklearn-color-unfitted-level-0);\n",
              "}\n",
              "\n",
              "#sk-container-id-1 div.sk-estimator.fitted {\n",
              "  /* fitted */\n",
              "  background-color: var(--sklearn-color-fitted-level-0);\n",
              "}\n",
              "\n",
              "/* on hover */\n",
              "#sk-container-id-1 div.sk-estimator:hover {\n",
              "  /* unfitted */\n",
              "  background-color: var(--sklearn-color-unfitted-level-2);\n",
              "}\n",
              "\n",
              "#sk-container-id-1 div.sk-estimator.fitted:hover {\n",
              "  /* fitted */\n",
              "  background-color: var(--sklearn-color-fitted-level-2);\n",
              "}\n",
              "\n",
              "/* Specification for estimator info (e.g. \"i\" and \"?\") */\n",
              "\n",
              "/* Common style for \"i\" and \"?\" */\n",
              "\n",
              ".sk-estimator-doc-link,\n",
              "a:link.sk-estimator-doc-link,\n",
              "a:visited.sk-estimator-doc-link {\n",
              "  float: right;\n",
              "  font-size: smaller;\n",
              "  line-height: 1em;\n",
              "  font-family: monospace;\n",
              "  background-color: var(--sklearn-color-background);\n",
              "  border-radius: 1em;\n",
              "  height: 1em;\n",
              "  width: 1em;\n",
              "  text-decoration: none !important;\n",
              "  margin-left: 1ex;\n",
              "  /* unfitted */\n",
              "  border: var(--sklearn-color-unfitted-level-1) 1pt solid;\n",
              "  color: var(--sklearn-color-unfitted-level-1);\n",
              "}\n",
              "\n",
              ".sk-estimator-doc-link.fitted,\n",
              "a:link.sk-estimator-doc-link.fitted,\n",
              "a:visited.sk-estimator-doc-link.fitted {\n",
              "  /* fitted */\n",
              "  border: var(--sklearn-color-fitted-level-1) 1pt solid;\n",
              "  color: var(--sklearn-color-fitted-level-1);\n",
              "}\n",
              "\n",
              "/* On hover */\n",
              "div.sk-estimator:hover .sk-estimator-doc-link:hover,\n",
              ".sk-estimator-doc-link:hover,\n",
              "div.sk-label-container:hover .sk-estimator-doc-link:hover,\n",
              ".sk-estimator-doc-link:hover {\n",
              "  /* unfitted */\n",
              "  background-color: var(--sklearn-color-unfitted-level-3);\n",
              "  color: var(--sklearn-color-background);\n",
              "  text-decoration: none;\n",
              "}\n",
              "\n",
              "div.sk-estimator.fitted:hover .sk-estimator-doc-link.fitted:hover,\n",
              ".sk-estimator-doc-link.fitted:hover,\n",
              "div.sk-label-container:hover .sk-estimator-doc-link.fitted:hover,\n",
              ".sk-estimator-doc-link.fitted:hover {\n",
              "  /* fitted */\n",
              "  background-color: var(--sklearn-color-fitted-level-3);\n",
              "  color: var(--sklearn-color-background);\n",
              "  text-decoration: none;\n",
              "}\n",
              "\n",
              "/* Span, style for the box shown on hovering the info icon */\n",
              ".sk-estimator-doc-link span {\n",
              "  display: none;\n",
              "  z-index: 9999;\n",
              "  position: relative;\n",
              "  font-weight: normal;\n",
              "  right: .2ex;\n",
              "  padding: .5ex;\n",
              "  margin: .5ex;\n",
              "  width: min-content;\n",
              "  min-width: 20ex;\n",
              "  max-width: 50ex;\n",
              "  color: var(--sklearn-color-text);\n",
              "  box-shadow: 2pt 2pt 4pt #999;\n",
              "  /* unfitted */\n",
              "  background: var(--sklearn-color-unfitted-level-0);\n",
              "  border: .5pt solid var(--sklearn-color-unfitted-level-3);\n",
              "}\n",
              "\n",
              ".sk-estimator-doc-link.fitted span {\n",
              "  /* fitted */\n",
              "  background: var(--sklearn-color-fitted-level-0);\n",
              "  border: var(--sklearn-color-fitted-level-3);\n",
              "}\n",
              "\n",
              ".sk-estimator-doc-link:hover span {\n",
              "  display: block;\n",
              "}\n",
              "\n",
              "/* \"?\"-specific style due to the `<a>` HTML tag */\n",
              "\n",
              "#sk-container-id-1 a.estimator_doc_link {\n",
              "  float: right;\n",
              "  font-size: 1rem;\n",
              "  line-height: 1em;\n",
              "  font-family: monospace;\n",
              "  background-color: var(--sklearn-color-background);\n",
              "  border-radius: 1rem;\n",
              "  height: 1rem;\n",
              "  width: 1rem;\n",
              "  text-decoration: none;\n",
              "  /* unfitted */\n",
              "  color: var(--sklearn-color-unfitted-level-1);\n",
              "  border: var(--sklearn-color-unfitted-level-1) 1pt solid;\n",
              "}\n",
              "\n",
              "#sk-container-id-1 a.estimator_doc_link.fitted {\n",
              "  /* fitted */\n",
              "  border: var(--sklearn-color-fitted-level-1) 1pt solid;\n",
              "  color: var(--sklearn-color-fitted-level-1);\n",
              "}\n",
              "\n",
              "/* On hover */\n",
              "#sk-container-id-1 a.estimator_doc_link:hover {\n",
              "  /* unfitted */\n",
              "  background-color: var(--sklearn-color-unfitted-level-3);\n",
              "  color: var(--sklearn-color-background);\n",
              "  text-decoration: none;\n",
              "}\n",
              "\n",
              "#sk-container-id-1 a.estimator_doc_link.fitted:hover {\n",
              "  /* fitted */\n",
              "  background-color: var(--sklearn-color-fitted-level-3);\n",
              "}\n",
              "</style><div id=\"sk-container-id-1\" class=\"sk-top-container\"><div class=\"sk-text-repr-fallback\"><pre>NearestNeighbors(algorithm=&#x27;brute&#x27;, metric=&#x27;cosine&#x27;)</pre><b>In a Jupyter environment, please rerun this cell to show the HTML representation or trust the notebook. <br />On GitHub, the HTML representation is unable to render, please try loading this page with nbviewer.org.</b></div><div class=\"sk-container\" hidden><div class=\"sk-item\"><div class=\"sk-estimator fitted sk-toggleable\"><input class=\"sk-toggleable__control sk-hidden--visually\" id=\"sk-estimator-id-1\" type=\"checkbox\" checked><label for=\"sk-estimator-id-1\" class=\"sk-toggleable__label fitted sk-toggleable__label-arrow fitted\">&nbsp;&nbsp;NearestNeighbors<a class=\"sk-estimator-doc-link fitted\" rel=\"noreferrer\" target=\"_blank\" href=\"https://scikit-learn.org/1.5/modules/generated/sklearn.neighbors.NearestNeighbors.html\">?<span>Documentation for NearestNeighbors</span></a><span class=\"sk-estimator-doc-link fitted\">i<span>Fitted</span></span></label><div class=\"sk-toggleable__content fitted\"><pre>NearestNeighbors(algorithm=&#x27;brute&#x27;, metric=&#x27;cosine&#x27;)</pre></div> </div></div></div></div>"
            ]
          },
          "metadata": {},
          "execution_count": 47
        }
      ]
    },
    {
      "cell_type": "code",
      "source": [
        "# Mendapatkan jarak dan indeks dari pengguna terdekat\n",
        "distances, indices = model_nn.kneighbors(user_book_matrix, n_neighbors=user_book_matrix.shape[0])"
      ],
      "metadata": {
        "id": "-uf-ZOkC114p"
      },
      "execution_count": 54,
      "outputs": []
    },
    {
      "cell_type": "markdown",
      "source": [
        "menghitung dan menyimpan kemiripan antara pengguna berdasarkan interaksi mereka dengan buku"
      ],
      "metadata": {
        "id": "_QqlNyvBBJvU"
      }
    },
    {
      "cell_type": "code",
      "source": [
        "user_similarity_df = pd.DataFrame(1 - distances, index=user_book_matrix.index, columns=user_book_matrix.index)"
      ],
      "metadata": {
        "id": "yUNhEvme1ssw"
      },
      "execution_count": 55,
      "outputs": []
    },
    {
      "cell_type": "code",
      "source": [
        "def top_n_recommendations(user_id, user_book_matrix, user_similarity_df, merged_df, top_n=5):\n",
        "    # Mendapatkan rating pengguna\n",
        "    user_ratings = user_book_matrix.loc[user_id]\n",
        "\n",
        "    # Mendapatkan kesamaan pengguna\n",
        "    similar_users = user_similarity_df[user_id]\n",
        "\n",
        "    # Menghitung weighted scores\n",
        "    weighted_scores = user_book_matrix.T.dot(similar_users)\n",
        "\n",
        "    # Menghapus buku yang sudah di-rating oleh pengguna\n",
        "    weighted_scores = weighted_scores[~user_ratings.index.isin(user_ratings[user_ratings > 0].index)]\n",
        "\n",
        "    # Mendapatkan top-N rekomendasi\n",
        "    recommended_books = weighted_scores.nlargest(top_n)\n",
        "\n",
        "    # Mengambil informasi buku yang direkomendasikan\n",
        "    recommended_books_info = merged_df[merged_df['book_id'].isin(recommended_books.index)][['book_id', 'title', 'authors']]\n",
        "\n",
        "    # Menghapus duplikasi jika ada\n",
        "    recommended_books_info = recommended_books_info.drop_duplicates(subset='book_id')\n",
        "\n",
        "    return recommended_books_info"
      ],
      "metadata": {
        "id": "sNxG2gg_rHNE"
      },
      "execution_count": 48,
      "outputs": []
    },
    {
      "cell_type": "code",
      "source": [
        "print(\"Available User IDs:\", user_book_matrix.index.tolist())"
      ],
      "metadata": {
        "colab": {
          "base_uri": "https://localhost:8080/"
        },
        "id": "zzkLqWVJrYdY",
        "outputId": "7de22329-bcc1-4236-8779-0467844c7cbf"
      },
      "execution_count": 51,
      "outputs": [
        {
          "output_type": "stream",
          "name": "stdout",
          "text": [
            "Available User IDs: [19, 27, 230, 407, 456, 472, 475, 588, 669, 861, 892, 926, 951, 997, 1094, 1224, 1311, 1393, 1401, 1402, 1422, 1445, 1491, 1539, 1577, 1594, 1710, 1733, 1790, 1794, 1808, 1816, 1823, 1824, 1831, 1947, 2056, 2074, 2075, 2145, 2187, 2198, 2271, 2338, 2342, 2343, 2415, 2421, 2428, 2434, 2474, 2574, 2600, 2621, 2629, 2722, 2723, 2785, 2900, 2914, 2926, 2936, 2959, 3003, 3022, 3080, 3117, 3122, 3171, 3174, 3302, 3335, 3423, 3449, 3456, 3468, 3527, 3621, 3674, 3820, 3831, 3887, 3998, 4027, 4057, 4096, 4119, 4133, 4179, 4210, 4233, 4236, 4242, 4273, 4382, 4440, 4480, 4490, 4514, 4706, 4759, 4769, 4774, 4795, 4816, 4822, 4953, 4980, 4994, 5033, 5050, 5109, 5203, 5245, 5273, 5274, 5400, 5441, 5490, 5551, 5621, 5636, 5645, 5732, 5854, 5874, 5904, 6017, 6042, 6094, 6143, 6171, 6190, 6198, 6311, 6337, 6442, 6500, 6527, 6547, 6630, 6655, 6682, 6769, 6772, 6788, 6799, 6831, 6873, 6892, 6925, 6965, 6968, 7064, 7073, 7120, 7159, 7311, 7319, 7325, 7369, 7457, 7467, 7513, 7553, 7583, 7641, 7674, 7678, 7692, 7715, 7953, 7973, 8016, 8089, 8138, 8151, 8222, 8278, 8289, 8302, 8309, 8370, 8431, 8466, 8572, 8650, 8675, 8692, 8708, 8746, 8781, 8908, 8916, 8946, 8990, 9025, 9043, 9110, 9199, 9250, 9257, 9281, 9285, 9297, 9308, 9335, 9341, 9395, 9439, 9440, 9466, 9668, 9759, 9768, 9771, 9826, 9830, 9865, 9913, 9981, 9985, 9992, 10132, 10136, 10146, 10156, 10168, 10186, 10226, 10228, 10246, 10256, 10292, 10315, 10317, 10339, 10358, 10402, 10457, 10509, 10559, 10613, 10634, 10691, 10704, 11040, 11142, 11274, 11319, 11342, 11359, 11445, 11524, 11545, 11549, 11642, 11732, 11739, 11786, 11832, 11854, 11876, 11927, 12012, 12022, 12072, 12078, 12122, 12252, 12256, 12301, 12360, 12412, 12466, 12471, 12478, 12538, 12638, 12696, 12766, 12830, 12854, 12861, 12930, 12979, 13056, 13079, 13270, 13271, 13282, 13287, 13299, 13351, 13363, 13407, 13520, 13544, 13630, 13683, 13786, 13794, 13803, 13881, 13901, 13914, 13962, 13983, 14009, 14142, 14192, 14205, 14235, 14248, 14404, 14580, 14717, 14722, 14727, 14753, 14784, 14796, 14844, 14892, 15060, 15092, 15123, 15133, 15149, 15160, 15165, 15212, 15261, 15292, 15357, 15406, 15452, 15480, 15516, 15620, 15639, 15748, 15838, 15857, 15864, 15889, 15969, 16004, 16025, 16040, 16056, 16066, 16188, 16287, 16293, 16322, 16398, 16403, 16501, 16546, 16688, 16692, 16718, 16750, 16849, 16859, 16913, 16936, 16958, 17009, 17080, 17117, 17220, 17277, 17304, 17441, 17448, 17515, 17518, 17566, 17610, 17660, 17663, 17676, 17739, 17788, 17799, 17846, 17871, 17961, 17969, 17984, 18010, 18129, 18143, 18217, 18250, 18308, 18316, 18319, 18335, 18408, 18423, 18579, 18724, 18778, 18789, 18811, 18879, 18908, 18957, 18981, 19003, 19013, 19111, 19133, 19180, 19310, 19323, 19380, 19404, 19559, 19602, 19699, 19760, 19895, 19906, 19930, 19954, 19985, 19994, 20075, 20122, 20155, 20203, 20204, 20247, 20294, 20322, 20325, 20381, 20418, 20584, 20684, 20697, 20737, 20782, 20787, 20884, 20914, 20967, 20986, 20991, 21013, 21022, 21024, 21072, 21083, 21085, 21109, 21171, 21178, 21217, 21228, 21290, 21330, 21481, 21494, 21581, 21658, 21909, 22087, 22203, 22215, 22234, 22243, 22314, 22320, 22461, 22491, 22494, 22508, 22590, 22602, 22603, 22629, 22639, 22719, 22841, 22871, 22905, 22913, 22917, 22924, 22954, 23074, 23093, 23486, 23504, 23522, 23552, 23604, 23650, 23776, 23799, 23863, 23864, 23874, 23885, 23922, 23962, 23998, 24017, 24092, 24096, 24111, 24132, 24143, 24165, 24214, 24219, 24357, 24387, 24389, 24422, 24468, 24488, 24689, 24726, 24857, 24875, 24903, 24944, 24976, 25002, 25022, 25030, 25048, 25132, 25164, 25167, 25229, 25239, 25278, 25437, 25658, 25675, 25696, 25707, 25857, 25867, 25877, 25883, 25921, 25922, 25925, 25974, 26117, 26168, 26236, 26260, 26373, 26377, 26383, 26595, 26629, 26654, 26661, 26781, 26786, 26790, 26800, 26898, 26913, 26989, 27000, 27052, 27107, 27113, 27127, 27128, 27180, 27221, 27229, 27231, 27275, 27326, 27380, 27403, 27414, 27465, 27513, 27537, 27565, 27672, 27713, 27766, 27808, 28022, 28024, 28038, 28105, 28179, 28228, 28231, 28246, 28248, 28274, 28298, 28301, 28333, 28343, 28366, 28389, 28407, 28443, 28521, 28611, 28882, 28894, 28926, 28945, 29008, 29019, 29028, 29031, 29048, 29053, 29240, 29243, 29286, 29328, 29357, 29360, 29539, 29585, 29589, 29671, 29692, 29696, 29732, 29806, 30092, 30240, 30257, 30278, 30373, 30401, 30476, 30587, 30589, 30655, 30681, 30691, 30719, 30822, 30833, 30944, 30988, 31001, 31040, 31042, 31170, 31198, 31207, 31219, 31242, 31246, 31249, 31305, 31333, 31399, 31536, 31610, 31627, 31729, 31754, 31809, 31838, 31860, 31928, 31936, 32041, 32055, 32058, 32126, 32286, 32289, 32305, 32352, 32410, 32421, 32554, 32565, 32596, 32637, 32667, 32689, 32717, 32737, 32778, 32802, 32806, 32824, 32848, 32885, 32913, 32979, 33015, 33017, 33059, 33074, 33136, 33170, 33213, 33258, 33284, 33330, 33400, 33494, 33534, 33603, 33661, 33723, 33864, 33866, 33886, 33896, 33910, 33983, 33984, 34024, 34083, 34126, 34261, 34332, 34415, 34426, 34486, 34512, 34623, 35077, 35117, 35118, 35157, 35228, 35259, 35329, 35332, 35474, 35487, 35541, 35654, 35657, 35878, 35911, 35969, 35996, 36273, 36299, 36301, 36309, 36314, 36404, 36452, 36530, 36667, 36805, 36826, 36862, 36918, 36919, 36928, 37019, 37023, 37281, 37284, 37356, 37378, 37488, 37646, 37649, 37690, 37714, 37737, 37754, 37834, 37970, 37979, 38032, 38070, 38079, 38093, 38118, 38121, 38146, 38183, 38300, 38368, 38526, 38537, 38558, 38565, 38605, 38619, 38647, 38749, 38798, 38901, 38906, 39007, 39141, 39432, 39455, 39503, 39549, 39625, 39763, 39772, 39793, 39919, 39939, 40079, 40150, 40185, 40242, 40266, 40312, 40315, 40331, 40346, 40373, 40432, 40463, 40490, 40530, 40665, 40819, 40990, 40993, 41105, 41145, 41189, 41193, 41231, 41329, 41350, 41489, 41492, 41587, 41627, 41628, 41755, 41802, 41859, 41919, 41941, 42223, 42344, 42372, 42397, 42411, 42566, 42606, 42749, 42763, 42769, 42786, 42810, 42832, 42861, 42936, 42943, 42947, 42966, 43077, 43091, 43176, 43252, 43415, 43417, 43445, 43464, 43519, 43550, 43592, 43621, 43622, 43699, 43739, 43743, 43804, 43887, 43917, 43927, 43979, 43989, 44030, 44145, 44171, 44243, 44469, 44473, 44487, 44496, 44500, 44502, 44582, 44694, 44699, 44771, 44836, 44847, 44911, 44927, 44943, 44962, 45113, 45174, 45269, 45364, 45404, 45428, 45435, 45572, 45584, 45593, 45595, 45599, 45624, 45765, 45773, 45834, 45836, 45855, 45905, 46099, 46123, 46139, 46220, 46298, 46341, 46380, 46410, 46417, 46420, 46431, 46447, 46460, 46568, 46585, 46587, 46596, 46652, 46704, 46863, 46898, 46964, 46977, 47118, 47138, 47142, 47166, 47239, 47272, 47346, 47356, 47384, 47460, 47463, 47467, 47584, 47592, 47612, 47655, 47698, 47742, 47751, 47764, 47800, 47825, 47844, 47909, 47939, 47989, 48066, 48120, 48147, 48317, 48338, 48409, 48440, 48482, 48493, 48539, 48559, 48574, 48581, 48651, 48668, 48715, 48721, 48825, 48838, 48936, 49006, 49042, 49119, 49150, 49152, 49233, 49295, 49297, 49333, 49368, 49474, 49523, 49531, 49563, 49566, 49635, 49643, 49723, 49749, 49830, 50025, 50137, 50204, 50208, 50244, 50317, 50340, 50342, 50360, 50500, 50510, 50665, 50714, 50766, 51028, 51046, 51105, 51123, 51164, 51370, 51550, 51762, 51836, 51952, 52292, 52339, 52344, 52510, 52521, 52748, 52807, 52860, 53031, 53074, 53075, 53081, 53131, 53145, 53173, 53244, 53299, 53314, 53366, 53419]\n"
          ]
        }
      ]
    },
    {
      "cell_type": "markdown",
      "source": [
        "rekomendasi buku pakai collaborative"
      ],
      "metadata": {
        "id": "-LX0EvXa6UyK"
      }
    },
    {
      "cell_type": "code",
      "source": [
        "user_id = 951  # Ganti dengan user_id yang ada dalam dataset\n",
        "# Mendapatkan dan menampilkan top-N rekomendasi\n",
        "recommendations = top_n_recommendations(user_id, user_book_matrix, user_similarity_df, merged_df, top_n=5)\n",
        "print(\"Top-N Recommendations for User ID:\", user_id)\n",
        "print(recommendations)"
      ],
      "metadata": {
        "colab": {
          "base_uri": "https://localhost:8080/"
        },
        "id": "m_U6gGuArLir",
        "outputId": "acb89ccf-669d-4a46-fdc1-76dac8b6e2da"
      },
      "execution_count": 72,
      "outputs": [
        {
          "output_type": "stream",
          "name": "stdout",
          "text": [
            "Top-N Recommendations for User ID: 951\n",
            "     book_id                                              title  \\\n",
            "313        5  harry potter and the prisoner of azkaban harry...   \n",
            "39         1  harry potter and the halfblood prince harry po...   \n",
            "454        6  harry potter and the goblet of fire harry pott...   \n",
            "543        8    harry potter boxed set books 15 harry potter 15   \n",
            "253        3  harry potter and the sorcerers stone harry pot...   \n",
            "\n",
            "                                authors  \n",
            "313  jk rowling mary grandpr rufus beck  \n",
            "39              jk rowling mary grandpr  \n",
            "454             jk rowling mary grandpr  \n",
            "543             jk rowling mary grandpr  \n",
            "253             jk rowling mary grandpr  \n"
          ]
        }
      ]
    },
    {
      "cell_type": "markdown",
      "source": [
        "**Evaluasi**"
      ],
      "metadata": {
        "id": "SD5QXoKL9FhS"
      }
    },
    {
      "cell_type": "markdown",
      "source": [
        "Pertama-tama content based. kita harus tau buku apa saja yang ditulis oleh brian jacques"
      ],
      "metadata": {
        "id": "u5h3p0B_9JDm"
      }
    },
    {
      "cell_type": "code",
      "source": [
        "# Mengambil daftar actual books yang ditulis oleh Brian Jacques\n",
        "actual_books_df = merged_df[merged_df['authors'].str.contains('Brian Jacques', case=False, na=False)]\n",
        "\n",
        "# Menghapus duplikasi\n",
        "actual_books_unique_df = actual_books_df.drop_duplicates(subset='title')\n",
        "\n",
        "# Mengambil hanya kolom title untuk daftar judul buku yang unik\n",
        "actual_books = actual_books_unique_df['title'].tolist()\n",
        "\n",
        "print(\"Daftar Actual Books yang ditulis oleh Brian Jacques (tanpa duplikasi):\")\n",
        "print(actual_books)\n"
      ],
      "metadata": {
        "colab": {
          "base_uri": "https://localhost:8080/"
        },
        "id": "89C_OkIC30ye",
        "outputId": "05b513cc-4f65-400a-d105-57bf7166ff12"
      },
      "execution_count": 63,
      "outputs": [
        {
          "output_type": "stream",
          "name": "stdout",
          "text": [
            "Daftar Actual Books yang ditulis oleh Brian Jacques (tanpa duplikasi):\n",
            "['the bellmaker redwall 7', 'outcast of redwall redwall 8', 'marlfox redwall 11', 'mariel of redwall redwall 4', 'redwall redwall 1', 'pearls of lutra redwall 9', 'salamandastron redwall 5']\n"
          ]
        }
      ]
    },
    {
      "cell_type": "markdown",
      "source": [
        "membuat fungsi menghitung evaluasinya"
      ],
      "metadata": {
        "id": "4C3ov1Dz9QU0"
      }
    },
    {
      "cell_type": "code",
      "source": [
        "def evaluate_content_based_recommendations(recommended_books, actual_books):\n",
        "    # Mendapatkan True Positives\n",
        "    true_positives = len(set(recommended_books) & set(actual_books))\n",
        "\n",
        "    # Menghitung False Positives dan False Negatives\n",
        "    false_positives = len(set(recommended_books) - set(actual_books))\n",
        "    false_negatives = len(set(actual_books) - set(recommended_books))\n",
        "\n",
        "    # Menghitung Precision, Recall, dan F1 Score\n",
        "    precision = true_positives / (true_positives + false_positives) if (true_positives + false_positives) > 0 else 0\n",
        "    recall = true_positives / (true_positives + false_negatives) if (true_positives + false_negatives) > 0 else 0\n",
        "    f1_score = (2 * precision * recall / (precision + recall)) if (precision + recall) > 0 else 0\n",
        "\n",
        "    return {\n",
        "        'Precision': precision,\n",
        "        'Recall': recall,\n",
        "        'F1 Score': f1_score\n",
        "    }"
      ],
      "metadata": {
        "id": "RaX-ysVk4N6v"
      },
      "execution_count": 64,
      "outputs": []
    },
    {
      "cell_type": "code",
      "source": [
        "# Menggunakan rekomendasi dari Content-Based\n",
        "recommended_books_cb = buku_recommendations('the bellmaker redwall 7')['title'].tolist()\n",
        "\n",
        "# Daftar actual books yang ditulis oleh Brian Jacques\n",
        "actual_books = ['the bellmaker redwall 7', 'outcast of redwall redwall 8', 'marlfox redwall 11', 'mariel of redwall redwall 4', 'redwall redwall 1', 'pearls of lutra redwall 9', 'salamandastron redwall 5']\n",
        "\n",
        "# Evaluasi\n",
        "results_cb = evaluate_content_based_recommendations(recommended_books_cb, actual_books)"
      ],
      "metadata": {
        "id": "0vjSZ-or4O2l"
      },
      "execution_count": 65,
      "outputs": []
    },
    {
      "cell_type": "markdown",
      "source": [
        "hasil evaluasi"
      ],
      "metadata": {
        "id": "bAPxnCNS9V61"
      }
    },
    {
      "cell_type": "code",
      "source": [
        "print(\"Evaluasi Content-Based Filtering:\")\n",
        "print(results_cb)"
      ],
      "metadata": {
        "colab": {
          "base_uri": "https://localhost:8080/"
        },
        "id": "pL0ZdImZ4SWE",
        "outputId": "0755af64-980f-40cf-fd32-1381b48f0dce"
      },
      "execution_count": 66,
      "outputs": [
        {
          "output_type": "stream",
          "name": "stdout",
          "text": [
            "Evaluasi Content-Based Filtering:\n",
            "{'Precision': 1.0, 'Recall': 0.2857142857142857, 'F1 Score': 0.4444444444444445}\n"
          ]
        }
      ]
    },
    {
      "cell_type": "markdown",
      "source": [
        "Sekarang tahap evaluasi collabrative reccomendations"
      ],
      "metadata": {
        "id": "RjSO3DHB9Z35"
      }
    },
    {
      "cell_type": "code",
      "source": [
        "def evaluate_collaborative_recommendations(recommended_books, actual_books):\n",
        "    # Mendapatkan True Positives\n",
        "    true_positives = len(set(recommended_books) & set(actual_books))\n",
        "\n",
        "    # Menghitung False Positives dan False Negatives\n",
        "    false_positives = len(set(recommended_books) - set(actual_books))\n",
        "    false_negatives = len(set(actual_books) - set(recommended_books))\n",
        "\n",
        "    # Menghitung Precision, Recall, dan F1 Score\n",
        "    precision = true_positives / (true_positives + false_positives) if (true_positives + false_positives) > 0 else 0\n",
        "    recall = true_positives / (true_positives + false_negatives) if (true_positives + false_negatives) > 0 else 0\n",
        "    f1_score = (2 * precision * recall / (precision + recall)) if (precision + recall) > 0 else 0\n",
        "\n",
        "    return {\n",
        "        'Precision': precision,\n",
        "        'Recall': recall,\n",
        "        'F1 Score': f1_score\n",
        "    }"
      ],
      "metadata": {
        "id": "qYFyqYwr4iW3"
      },
      "execution_count": 67,
      "outputs": []
    },
    {
      "cell_type": "markdown",
      "source": [
        "Kita juga perlu mengetahui buku yang ditulis oleh jk rowling"
      ],
      "metadata": {
        "id": "yKleu3du9jy4"
      }
    },
    {
      "cell_type": "code",
      "source": [
        "# Mengambil daftar buku yang ditulis oleh J.K. Rowling\n",
        "actual_books_df = merged_df[merged_df['authors'].str.contains('jk rowling', case=False, na=False)]\n",
        "\n",
        "# Mengambil daftar judul buku tanpa duplikasi\n",
        "actual_books = actual_books_df['title'].unique().tolist()\n",
        "\n",
        "# Menampilkan daftar actual books\n",
        "print(\"Daftar Actual Books oleh J.K. Rowling:\")\n",
        "print(actual_books)\n"
      ],
      "metadata": {
        "colab": {
          "base_uri": "https://localhost:8080/"
        },
        "id": "cKEWdntj4jW1",
        "outputId": "df830be4-2816-4ac8-f37b-e7d25e150fc9"
      },
      "execution_count": 74,
      "outputs": [
        {
          "output_type": "stream",
          "name": "stdout",
          "text": [
            "Daftar Actual Books oleh J.K. Rowling:\n",
            "['harry potter collection harry potter 16', 'harry potter and the prisoner of azkaban harry potter 3', 'harry potter schoolbooks box set two classic books from the library of hogwarts school of witchcraft and wizardry', 'harry potter and the halfblood prince harry potter 6', 'harry potter and the goblet of fire harry potter 4', 'harry potter boxed set books 15 harry potter 15', 'harry potter and the sorcerers stone harry potter 1']\n"
          ]
        }
      ]
    },
    {
      "cell_type": "markdown",
      "source": [
        "membuat listnya untuk evaluasi"
      ],
      "metadata": {
        "id": "V6SLGs619pXu"
      }
    },
    {
      "cell_type": "code",
      "source": [
        "# Daftar actual books oleh J.K. Rowling untuk evaluasi Collaborative Filtering\n",
        "actual_books_collab = [\n",
        "    'harry potter collection harry potter 16',\n",
        "    'harry potter and the prisoner of azkaban harry potter 3',\n",
        "    'harry potter schoolbooks box set two classic books from the library of hogwarts school of witchcraft and wizardry',\n",
        "    'harry potter and the halfblood prince harry potter 6',\n",
        "    'harry potter and the goblet of fire harry potter 4',\n",
        "    'harry potter boxed set books 15 harry potter 15',\n",
        "    'harry potter and the sorcerers stone harry potter 1'\n",
        "]\n"
      ],
      "metadata": {
        "id": "Npz7_5Nb8Wdf"
      },
      "execution_count": 75,
      "outputs": []
    },
    {
      "cell_type": "markdown",
      "source": [
        "hasil skor evaluasi collaboration filtering"
      ],
      "metadata": {
        "id": "T_y8zoBo9tD9"
      }
    },
    {
      "cell_type": "code",
      "source": [
        "# Mengambil daftar judul rekomendasi\n",
        "recommended_titles = recommendations['title'].tolist()\n",
        "\n",
        "# Melakukan evaluasi\n",
        "evaluation_results = evaluate_collaborative_recommendations(recommended_titles, actual_books_collab)\n",
        "\n",
        "# Menampilkan hasil evaluasi\n",
        "print(\"Evaluasi Collaborative Filtering:\")\n",
        "print(f\"Precision: {evaluation_results['Precision']:.2f}\")\n",
        "print(f\"Recall: {evaluation_results['Recall']:.2f}\")\n",
        "print(f\"F1 Score: {evaluation_results['F1 Score']:.2f}\")"
      ],
      "metadata": {
        "colab": {
          "base_uri": "https://localhost:8080/"
        },
        "id": "IvWwH0P58jRV",
        "outputId": "2d403468-c30f-47ef-dc6f-b7ef7ede849b"
      },
      "execution_count": 76,
      "outputs": [
        {
          "output_type": "stream",
          "name": "stdout",
          "text": [
            "Evaluasi Collaborative Filtering:\n",
            "Precision: 1.00\n",
            "Recall: 0.71\n",
            "F1 Score: 0.83\n"
          ]
        }
      ]
    }
  ]
}